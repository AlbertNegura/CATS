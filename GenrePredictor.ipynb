{
 "cells": [
  {
   "cell_type": "code",
   "execution_count": 1,
   "metadata": {},
   "outputs": [
    {
     "name": "stdout",
     "output_type": "stream",
     "text": [
      "Reading data\n",
      "['folksonomication_source-master', 'mpst_full_data.csv', '.ipynb_checkpoints', 'CATS-Main.ipynb', 'partition.json', 'GenrePredictor.ipynb', 'MPSTGenreCorrected.csv', 'GenreCorrected.csv', 'wiki_movie_plots_deduped.csv']\n"
     ]
    }
   ],
   "source": [
    "# This Python 3 environment comes with many helpful analytics libraries installed\n",
    "# It is defined by the kaggle/python docker image: https://github.com/kaggle/docker-python\n",
    "# For example, here's several helpful packages to load in \n",
    "\n",
    "import numpy as np # linear algebra\n",
    "import pandas as pd # data processing, CSV file I/O (e.g. pd.read_csv)\n",
    "import seaborn as sns\n",
    "import matplotlib.pyplot as plt\n",
    "%matplotlib inline \n",
    "\n",
    "# Input data files are available in the \"../input/\" directory.\n",
    "# For example, running this (by clicking run or pressing Shift+Enter) will list the files in the input directory\n",
    "\n",
    "import os\n",
    "\n",
    "print(\"Reading data\")\n",
    "print(os.listdir(\"../NLPStuff\"))\n",
    "\n",
    "##For data preprocessing\n",
    "from bs4 import BeautifulSoup\n",
    "import re\n",
    "from nltk.corpus import stopwords\n",
    "\n",
    "##For Machine Learning\n",
    "from sklearn import svm\n",
    "from sklearn.model_selection import train_test_split\n",
    "from sklearn.feature_extraction.text import CountVectorizer\n",
    "from sklearn.metrics import accuracy_score, confusion_matrix, recall_score, precision_score, f1_score\n",
    "# Any results you write to the current directory are saved as output."
   ]
  },
  {
   "cell_type": "code",
   "execution_count": 243,
   "metadata": {},
   "outputs": [
    {
     "name": "stdout",
     "output_type": "stream",
     "text": [
      "<class 'pandas.core.frame.DataFrame'>\n",
      "RangeIndex: 34886 entries, 0 to 34885\n",
      "Data columns (total 8 columns):\n",
      "Release Year        34886 non-null int64\n",
      "Title               34886 non-null object\n",
      "Origin/Ethnicity    34886 non-null object\n",
      "Director            34886 non-null object\n",
      "Cast                33464 non-null object\n",
      "Genre               34886 non-null object\n",
      "Wiki Page           34886 non-null object\n",
      "Plot                34886 non-null object\n",
      "dtypes: int64(1), object(7)\n",
      "memory usage: 2.1+ MB\n"
     ]
    }
   ],
   "source": [
    "df1 = pd.read_csv(\"../NLPStuff/wiki_movie_plots_deduped.csv\")\n",
    "df1.tail()\n",
    "df1.info()"
   ]
  },
  {
   "cell_type": "code",
   "execution_count": 244,
   "metadata": {},
   "outputs": [
    {
     "name": "stdout",
     "output_type": "stream",
     "text": [
      "<class 'pandas.core.frame.DataFrame'>\n",
      "RangeIndex: 14828 entries, 0 to 14827\n",
      "Data columns (total 6 columns):\n",
      "imdb_id            14828 non-null object\n",
      "title              14828 non-null object\n",
      "plot_synopsis      14828 non-null object\n",
      "tags               14828 non-null object\n",
      "split              14828 non-null object\n",
      "synopsis_source    14828 non-null object\n",
      "dtypes: object(6)\n",
      "memory usage: 695.1+ KB\n"
     ]
    }
   ],
   "source": [
    "df2 = pd.read_csv(\"../NLPStuff/mpst_full_data.csv\")\n",
    "df2.tail()\n",
    "df2.info()"
   ]
  },
  {
   "cell_type": "code",
   "execution_count": 245,
   "metadata": {},
   "outputs": [
    {
     "name": "stdout",
     "output_type": "stream",
     "text": [
      "<class 'pandas.core.frame.DataFrame'>\n",
      "Int64Index: 28803 entries, 6 to 34885\n",
      "Data columns (total 8 columns):\n",
      "Release Year        28803 non-null int64\n",
      "Title               28803 non-null object\n",
      "Origin/Ethnicity    28803 non-null object\n",
      "Director            28803 non-null object\n",
      "Cast                28064 non-null object\n",
      "Genre               28803 non-null object\n",
      "Wiki Page           28803 non-null object\n",
      "Plot                28803 non-null object\n",
      "dtypes: int64(1), object(7)\n",
      "memory usage: 2.0+ MB\n",
      "None\n",
      "<class 'pandas.core.frame.DataFrame'>\n",
      "Int64Index: 14828 entries, 0 to 14827\n",
      "Data columns (total 6 columns):\n",
      "imdb_id            14828 non-null object\n",
      "title              14828 non-null object\n",
      "plot_synopsis      14828 non-null object\n",
      "tags               14828 non-null object\n",
      "split              14828 non-null object\n",
      "synopsis_source    14828 non-null object\n",
      "dtypes: object(6)\n",
      "memory usage: 810.9+ KB\n",
      "None\n"
     ]
    }
   ],
   "source": [
    "df1['Genre']=df1['Genre'].replace('unknown',np.nan)\n",
    "df1=df1.dropna(axis=0, subset=['Genre'])\n",
    "print(df1.info())\n",
    "df2['tags']=df2['tags'].replace('unknown',np.nan)\n",
    "df2=df2.dropna(axis=0, subset=['tags'])\n",
    "print(df2.info())"
   ]
  },
  {
   "cell_type": "code",
   "execution_count": 246,
   "metadata": {},
   "outputs": [
    {
     "name": "stdout",
     "output_type": "stream",
     "text": [
      "28803\n",
      "(28803, 8)\n",
      "['drama', 'comedy', 'horror', 'action', 'thriller', 'romance', 'western', 'crime', 'adventure', 'musical', 'crime drama', 'romantic comedy', 'science fiction', 'film noir', 'mystery', 'war', 'animation', 'comedy, drama', 'sci-fi', 'family', 'fantasy', 'animated', 'musical comedy', 'comedy-drama', 'biography', 'anime', 'suspense', 'comedy drama', 'romantic drama', 'animated short', 'drama, romance', 'social', 'historical', 'documentary', 'action thriller', 'serial', 'world war ii', 'family drama', 'war drama', 'drama, crime', 'comedy, musical', 'comedy/drama', 'comedy, romance', 'romance, drama', 'biopic', 'crime thriller', 'historical drama', 'black comedy', 'action comedy', 'comedy short', 'superhero', 'crime comedy', 'horror comedy', 'martial arts', 'drama, biography', 'action, drama', 'action, romance', 'drama, war', 'action, thriller', 'romance/comedy', 'social drama', 'melodrama', 'drama, adventure', 'romance/drama', 'action, comedy', 'action drama', 'biography, drama', 'comedy, family', 'drama, musical', 'drama, family', 'drama, thriller', 'mockumentary', 'comedy, crime', 'drama / romance', 'comedy / romance', 'short', 'romance, comedy', 'romance drama', ' ', 'tokusatsu', 'action, crime, drama', 'drama ', 'spy', 'animated film', 'dramedy', 'drama, comedy', 'sports', 'psychological thriller', 'mythology', 'drama, mystery', 'drama, action', 'action ', 'sports drama', 'family, fantasy', 'action / drama', 'biographical', 'literary drama', 'comedy, fantasy', 'action, sci-fi', 'short subject', 'comedy ', 'comedy, horror', 'drama, sports', 'spy/action', 'romantic thriller', 'political thriller', 'romance / drama', 'thriller ', 'romance ', 'comedy, mystery', 'folklore', 'horror thriller', 'costume drama', 'horror, thriller', 'family, drama', 'action/drama', 'comedy/crime', 'crime, drama', 'crime/drama', 'docudrama', 'masala', 'action, crime', 'comedy / drama', 'western comedy', 'science-fiction', 'family film', 'war, drama', 'animated feature', 'rom com', 'drama, horror', 'action/thriller', 'animated, family', 'action / comedy', 'social family drama', 'action adventure', 'comedy, action', 'action / crime', 'action/comedy', 'kaiju', 'propaganda', 'action, science fiction', 'sex comedy', 'horror, comedy', 'musical drama', 'slapstick', 'crime/thriller', 'slasher', 'comedy, thriller', 'devotional', 'western, comedy', 'drama/comedy', 'sci-fi comedy', 'comedy/romance', 'action/romance', 'crime, comedy', 'comedy horror', 'mystery, thriller', 'screwball comedy', 'period drama', 'disaster film', 'action, horror', 'romantic-comedy', 'action masala', 'comedy, sports', 'action, crime, drama, romance', 'epic', 'swashbuckler', 'war comedy', 'disaster', 'comedy/action', 'comedy, science fiction', 'comedy, drama, romance', 'adventure, family', 'adventure, fantasy', 'musical, comedy', 'romance/thriller', 'comedy thriller', 'action-adventure, fantasy', 'wuxia', 'thriller drama', 'national film board animated short', 'action / romance', 'musical/comedy', 'horror, romance, comedy', 'political drama', 'action-comedy', 'parody', 'comedy, western', 'drama, western', 'satire', 'comedy / action', 'sexploitation', 'supernatural horror', 'suspense thriller', 'comedy, parody', 'thriller, drama', 'exploitation', 'drama, romance ', 'romance / comedy', 'drama / action', 'mystery, comedy', 'comedy, teen', 'dark comedy', 'action, fantasy', 'animation, family', 'biography, crime', 'spy thriller', 'drama, social', 'bio-pic', 'adventure, drama', 'fantasy drama', 'romance, thriller', 'action, family', 'adult', 'musical, drama', 'drama/musical', 'spy drama', 'anthology', 'action, drama, family', 'spy film', 'comedy/horror', 'romantic, drama', 'romantic', 'action, adventure', 'drama/thriller', 'romance/action', 'ero', 'action, comedy, romance', 'crime, action', 'action-masala', \"children's film\", 'short film', 'western, biography', 'religious', 'historical/drama', 'comedy/musical', 'children', 'detective', 'animation, comedy', 'musical, romance', 'comedy, biography', 'love', 'drama / comedy', 'comedy romance', 'kung fu', 'bio-pic, drama', 'musical, biography', 'sports comedy', 'fantasy anime', 'african adventure', 'spy comedy', 'spy/thriller', 'fantasy, romance', 'action thriller ', 'fantasy thriller', 'martial arts / action', 'historical epic', 'science fiction, thriller', 'world war i', 'sci-fi, horror', 'horror, suspense', 'romance, comedy, drama', 'horror/comedy', 'crime, thriller', 'horror ', 'prison drama', 'supernatural thriller', 'sports/comedy', 'biography, musical', 'crime, horror', 'political', 'animated, comedy, family', 'biblical drama', 'romance musical', 'history', 'action, comedy, crime, drama', 'thriller/drama', 'romance, action', 'horror, sci-fi', 'shakespearean', 'science fiction comedy', 'horror / comedy', 'comedy mystery', 'horror, science fiction', 'war film', 'comedy western', 'tokusatsu, action, sci-fi', 'drama, romantic comedy', 'drama/romance', 'comedy, drama, family', 'fantasy romance', 'drama film', 'drama/action', 'science fiction, comedy', 'action / martial arts', 'operetta', 'action-thriller', 'coming-of-age drama', 'war/drama', 'psychological horror', 'family, musical', 'crime / thriller', 'thriller, romance', 'drama / action / crime', 'action, comedy, drama', 'action-adventure', 'biker film', 'horror / thriller', 'comedy film', 'biblical', 'comedy / horror', 'science fiction, horror', 'world war ii/pow', 'teen comedy', 'neo-noir', 'comedy-drama, romance', 'war, biography', 'sci-fi, comedy', 'suspense / thriller', 'short comedy', 'samurai film', 'comedy/thriller', 'crime, drama, thriller', 'romance action', 'romance / action', 'national film board documentary', 'drama, science fiction', 'comedy, satire', 'dramatic comedy', 'christian', 'fantasy, thriller', 'drama, romance, slice of life', 'rom-com', 'drama/biographical', 'thriller, action', 'biographical drama', 'adventure serial', 'action / kung fu / comedy', 'horror, drama', 'action, crime drama', 'sci-fi horror', 'espionage', 'family, live-action', 'adventure, comedy', 'science fiction anime', 'slasher film', 'action / thriller', 'comedy, adventure', 'satire, drama', 'biographical, drama', 'adult comedy', 'romantic comedy ', 'gangster', 'comedy / fantasy', 'dance', 'sword', 'satirical comedy', 'experimental', 'costume', 'world war ii/drama', 'yakuza', 'action / martial arts / comedy', 'biography, war', 'short drama', 'action / adventure', 'world war ii comedy', 'drama / crime', 'suspense, thriller', 'comedy-thriller', 'erotic thriller', 'fantasy, adventure', 'socio-fantasy', 'action romance', 'mystery, horror', 'pink', 'supernatural', 'drama, fantasy', 'action/adventure', 'romance, comedy, horror', 'political satire', 'mystery/thriller', 'comedy, romance ', 'fantasy, comedy', 'thriller, fantasy', 'dance, drama', 'science fiction, action', 'drama / family', 'comedy, romance, musical', 'fantasy adventure', 'western drama', 'action / crime / thriller', 'romantic comedy, drama', 'anthology, horror', 'horror, musical', 'animation comedy', 'comedy/satire', 'drama, epic', 'thriller romance', 'action/romance/comedy', 'music', 'romance, action, comedy', 'family, comedy', 'drama, social ', 'drama romance', 'animated comedy', 'crime, drama, mystery', 'adult film', 'biography, sports', 'action, crime, romance', 'horror drama', 'action / adventure / martial arts', 'adventure drama', 'family comedy', 'action & romance', 'historical, drama', 'social family', 'anime fantasy', 'drama, music', 'true crime', 'biopic, drama', 'action, drama, romance', 'war, action', 'comedy, drama, romance ', 'drama, romance, thriller', 'educational', 'romantic fantasy', 'spy film, comedy', 'drama / thriller', 'drama-thriller', 'fantasy/adventure', 'musical fantasy', 'action, masala', 'action, romance, drama', 'war, comedy', '-', 'drama / mystery / crime', 'anime for children', 'social romance', 'crime/romance', 'action, war', 'sci-fi drama', 'science fiction, mystery', 'roman porno', 'erotic / drama', 'musical/drama', 'romantic musical', 'mystery / thriller', 'animation adventure', 'action / fantasy', 'romance, war', 'crime / drama', 'costume action', 'science fiction, drama', 'superhero action adventure', 'horror, psychological thriller, drama, dark fantasy', 'sci-fi fantasy', 'drama / comedy / romance', 'animated, comedy', 'horror, mystery', 'drama/history', 'action / crime / drama', 'sci-fi for children', 'thriller, mystery', 'action, crime, drama, thriller', 'historical/action', 'musical/romance', 'heist', 'comedy, drama, musical', 'historical, fantasy, adventure, action, science fantasy, superheroes', 'nfb animated short', 'drama, thriller ', 'supernatural/action/anime', 'action, spy film', 'western, musical', 'comedy / action / adventure', 'fantasy, action, science fantasy', 'drama, romance, thriller, musical', 'romance thriller', 'horror / romance / comedy', 'comedy / romance / fantasy', 'world war ii/adventure', 'thriller/horror', 'socio-fantasy, comedy', 'martial arts / action / comedy', 'horror / drama', 'comedy / crime', 'mystery/horror', 'action / kung fu', 'adult/thriller', 'musical, family', 'horror, action', 'animated musical', 'shakespearean drama', 'war/romance', 'crime, family', 'avant-garde, horror', 'samurai', 'drama / sports', 'action-adventure, family', 'comedy, drama film']\n",
      "14828\n",
      "(14828, 6)\n",
      "['murder', 'romantic', 'violence', 'psychedelic', 'flashback', 'violence, murder', 'revenge', 'cult', 'comedy', 'revenge, murder', 'fantasy', 'murder, flashback', 'satire', 'melodrama', 'paranormal', 'romantic, flashback', 'good versus evil', 'romantic, murder', 'tragedy', 'cult, murder', 'revenge, murder, violence', 'cult, violence', 'sci-fi', 'humor', 'revenge, violence', 'prank', 'suspenseful', 'cult, murder, violence', 'pornographic', 'neo noir', 'violence, murder, flashback', 'entertaining', 'violence, flashback', 'action', 'revenge, murder, flashback', 'neo noir, murder', 'revenge, murder, violence, flashback', 'comedy, murder', 'non fiction', 'mystery, murder', 'historical', 'horror', 'cult, romantic', 'revenge, flashback', 'christian film', 'historical fiction', 'good versus evil, violence', 'insanity', 'insanity, murder', 'gothic', 'depressing', 'suspenseful, murder', 'romantic, melodrama', 'storytelling', 'psychedelic, romantic', 'suspenseful, violence', 'tragedy, romantic', 'revenge, romantic', 'dramatic', 'comic', 'violence, neo noir, murder', 'paranormal, murder', 'anti war', 'violence, romantic', 'boring', 'violence, murder, romantic', 'murder, melodrama', 'revenge, murder, romantic', 'haunting', 'philosophical', 'mystery', 'psychedelic, fantasy', 'queer', 'romantic, fantasy', 'intrigue', 'cult, comedy', 'romantic, murder, flashback', 'psychedelic, violence', 'violence, action', 'bleak', 'comedy, romantic', 'comedy, satire', 'home movie', 'romantic, satire', 'alternate history', 'comedy, entertaining', 'psychological', 'alternate reality', 'realism', 'cult, psychedelic', 'suspenseful, murder, violence', 'dark', 'good versus evil, murder', 'revenge, neo noir, murder, violence', 'inspiring', 'autobiographical', 'romantic, comedy', 'good versus evil, psychedelic', 'revenge, cult, murder, violence', 'sadist', 'brainwashing', 'psychedelic, comic', 'adult comedy', 'melodrama, flashback', 'romantic, entertaining', 'allegory', 'murder, prank', 'plot twist', 'comedy, flashback', 'suicidal', 'western', 'tragedy, murder', 'paranormal, violence, murder', 'violence, comedy', 'cruelty', 'cute, entertaining', 'murder, sadist', 'psychedelic, horror', 'cult, satire', 'sentimental', 'cult, murder, flashback', 'insanity, romantic', 'cult, flashback', 'revenge, neo noir, murder, violence, flashback', 'violence, cruelty, murder, sadist', 'cute', 'intrigue, murder', 'absurd', 'comedy, humor', 'violence, romantic, flashback', 'cult, humor', 'revenge, suspenseful, murder, violence, flashback', 'violence, neo noir', 'storytelling, flashback', 'blaxploitation', 'western, violence', 'violence, revenge, murder, sadist', 'paranormal, flashback', 'gothic, murder', 'satire, flashback', 'good versus evil, flashback', 'cult, revenge, murder, violence', 'psychedelic, humor', 'neo noir, murder, flashback', 'violence, sadist', 'avant garde', 'violence, cult', 'cult, revenge, murder', 'psychedelic, flashback', 'violence, murder, sadist', 'psychedelic, satire', 'flashback, home movie', 'psychedelic, murder', 'violence, satire', 'good versus evil, violence, murder', 'revenge, murder, violence, romantic', 'tragedy, violence, murder', 'satire, murder', 'psychedelic, comedy', 'violence, murder, romantic, flashback', 'revenge, satire', 'stupid', 'violence, comedy, murder', 'revenge, melodrama', 'cult, comedy, humor', 'cult, gothic', 'romantic, boring', 'revenge, cult, murder', 'atmospheric', 'cult, comedy, violence', 'good versus evil, revenge', 'dramatic, romantic', 'paranormal, murder, flashback', 'good versus evil, fantasy', 'good versus evil, action', 'cult, revenge', 'revenge, comedy, murder', 'romantic, storytelling', 'insanity, violence, murder', 'revenge, neo noir, murder', 'revenge, suspenseful, murder, violence', 'paranormal, cult, murder', 'horror, murder', 'tragedy, romantic, murder', 'prank, flashback', 'violence, cruelty, murder', 'melodrama, romantic, flashback', 'psychedelic, murder, flashback', 'paranormal, violence', 'suspenseful, neo noir, murder, violence', 'pornographic, murder', 'cult, comedy, murder, violence', 'insanity, flashback', 'cult, murder, violence, flashback', 'violence, sci-fi', 'revenge, psychedelic', 'good versus evil, revenge, murder', 'action, historical fiction', 'mystery, murder, flashback', 'violence, humor', 'boring, flashback', 'romantic, humor', 'murder, historical fiction', 'action, murder', 'romantic, entertaining, flashback', 'romantic, murder, melodrama', 'murder, storytelling', 'revenge, violence, flashback', 'good versus evil, cult', 'revenge, cult', 'revenge, cult, violence', 'violence, historical', 'insanity, romantic, murder', 'violence, horror, murder', 'violence, neo noir, murder, flashback', 'paranormal, cult', 'revenge, comedy', 'romantic, home movie', 'violence, comic', 'comedy, adult comedy', 'avant garde, murder', 'revenge, prank', 'feel-good', 'psychedelic, cute, entertaining', 'romantic, revenge, murder, violence, flashback', 'revenge, murder, melodrama', 'tragedy, revenge, murder, violence', 'absurd, comedy', 'comedy, romantic, flashback', 'romantic, storytelling, flashback', 'romantic, sentimental', 'pornographic, romantic', 'good versus evil, revenge, murder, violence', 'romantic, philosophical', 'violence, horror', 'violence, melodrama', 'cult, revenge, violence', 'cult, neo noir, murder', 'comedy, murder, flashback', 'cult, blaxploitation', 'cult, grindhouse film, murder', 'cult, mystery, murder', 'romantic, historical fiction', 'western, revenge', 'cult, suspenseful, murder, violence', 'violence, action, historical fiction', 'good versus evil, cult, violence', 'revenge, romantic, flashback', 'revenge, comedy, murder, violence', 'comedy, murder, violence', 'violence, blaxploitation', 'cruelty, murder', 'alternate reality, alternate history', 'violence, dark, murder', 'violence, cult, murder, sadist', 'insanity, murder, flashback', 'psychedelic, alternate history', 'suspenseful, murder, flashback', 'comedy, prank', 'psychedelic, avant garde', 'revenge, action, murder, violence, flashback', 'suspenseful, mystery, murder', 'suspenseful, realism', 'revenge, violence, romantic', 'comedy, fantasy', 'insanity, violence, murder, flashback', 'revenge, action', 'tragedy, violence', 'entertaining, flashback', 'psychological, murder, flashback', 'western, revenge, violence', 'pornographic, adult comedy', 'revenge, suspenseful, neo noir, murder, violence', 'cult, horror, murder', 'insanity, violence', 'romantic, cruelty', 'historical, flashback', 'psychedelic, murder, violence', 'romantic, avant garde, murder', 'tragedy, revenge, murder, romantic', 'allegory, psychedelic', 'humor, adult comedy', 'good versus evil, romantic', 'good versus evil, cult, murder', 'murder, atmospheric', 'historical, murder', 'romantic, prank', 'revenge, cruelty, murder, violence, flashback', 'cult, murder, romantic', 'cult, comedy, romantic', 'psychedelic, cute', 'absurd, psychedelic', 'romantic, autobiographical', 'violence, dark, cruelty, murder, sadist', 'cult, murder, melodrama', 'romantic, intrigue', 'violence, action, entertaining', 'humor, satire', 'revenge, suspenseful, violence', 'cult, violence, comic', 'paranormal, revenge', 'romantic, sadist', 'violence, historical, murder', 'revenge, sadist', 'violence, cruelty, murder, sadist, flashback', 'cult, psychedelic, satire', 'psychological, murder', 'absurd, cult, psychedelic', 'neo noir, murder, violence, flashback, revenge, sadist', 'violence, action, murder', 'pornographic, violence', 'romantic, avant garde, flashback', 'suspenseful, flashback', 'paranormal, haunting', 'romantic, depressing', 'comedy, humor, satire', 'revenge, mystery, murder', 'violence, cruelty, murder, flashback', 'violence, comedy, murder, flashback', 'comedy, satire, entertaining', 'violence, revenge, sadist', 'romantic, action', 'comedy, violence', 'dramatic, murder, flashback', 'dark, murder, violence', 'tragedy, cult, murder', 'cult, suspenseful, murder, violence, flashback', 'fantasy, murder', 'cult, stupid', 'romantic, comedy, murder', 'violence, humor, murder', 'psychological, flashback', 'comedy, satire, murder', 'romantic, comedy, satire', 'violence, murder, melodrama', 'psychedelic, alternate reality', 'revenge, comedy, murder, violence, flashback', 'cult, comedy, entertaining, humor', 'romantic, psychedelic', 'revenge, cruelty, murder, violence', 'cult, psychedelic, violence', 'cult, comedy, murder', 'comedy, boring', 'psychedelic, entertaining', 'avant garde, flashback', 'psychedelic, sci-fi', 'cult, comedy, satire', 'dramatic, boring', 'revenge, murder, romantic, flashback', 'revenge, comedy, satire, murder', 'violence, murder, sadist, flashback', 'insanity, cult, murder', 'romantic, comedy, entertaining', 'romantic, alternate reality', 'psychedelic, atmospheric', 'suspenseful, murder, romantic', 'good versus evil, revenge, psychedelic', 'good versus evil, revenge, violence', 'romantic, boring, flashback', 'magical realism', 'fantasy, entertaining', 'revenge, murder, sadist', 'satire, sci-fi', 'horror, flashback', 'revenge, neo noir, murder, flashback', 'cult, comedy, psychedelic', 'good versus evil, revenge, cult, murder, violence', 'revenge, gothic, murder', 'violence, murder, blaxploitation', 'comedy, murder, violence, flashback', 'paranormal, romantic', 'western, violence, murder', 'cult, satire, violence', 'cult, psychedelic, murder, violence', 'suspenseful, intrigue, murder', 'murder, storytelling, flashback', 'murder, haunting', 'grindhouse film, murder, cult, horror, violence, insanity', 'suspenseful, romantic', 'violence, historical, murder, flashback', 'comedy, humor, entertaining', 'comedy, humor, romantic', 'cult, sci-fi', 'cult, comedy, entertaining', 'revenge, romantic, melodrama', 'cult, melodrama', 'violence, blaxploitation, melodrama', 'violence, philosophical', 'tragedy, romantic, melodrama', 'violence, revenge, cruelty, murder, sadist', 'absurd, cult, comedy, psychedelic', 'violence, cult, cruelty, murder, sadist', 'brainwashing, murder', 'tragedy, cult, violence', 'cult, comedy, satire, murder', 'cult, humor, comedy', 'melodrama, revenge, flashback', 'violence, intrigue', 'violence, alternate reality', 'romantic, queer, flashback', 'anti war, violence', 'suspenseful, melodrama', 'violence, cult, murder', 'violence, psychedelic', 'cult, entertaining', 'good versus evil, psychedelic, fantasy', 'dramatic, romantic, flashback', 'entertaining, murder', 'revenge, cult, prank', 'murder, violence, flashback, good versus evil, action, revenge', 'violence, cruelty', 'paranormal, psychedelic', 'violence, storytelling', 'tragedy, cult, murder, violence, flashback', 'pornographic, psychedelic, murder, gothic', 'cult, philosophical', 'violence, comedy, satire, murder', 'western, revenge, murder', 'brainwashing, violence, murder', 'psychedelic, boring', 'cult, comedy, murder, violence, flashback', 'satire, melodrama', 'depressing, flashback', 'revenge, humor', 'romantic, gothic', 'insanity, comedy', 'paranormal, revenge, murder, flashback', 'romantic, autobiographical, flashback', 'tragedy, revenge, romantic', 'tragedy, melodrama', 'humor, murder', 'cult, violence, romantic', 'romantic, satire, flashback', 'psychedelic, philosophical', 'violence, gothic', 'revenge, gothic', 'romantic, depressing, flashback', 'tragedy, revenge, murder', 'cult, psychedelic, flashback', 'cult, action', 'murder, home movie', 'realism, suspenseful, murder', 'tragedy, murder, flashback', 'psychedelic, romantic, flashback', 'insanity, violence, murder, romantic', 'revenge, suspenseful, murder', 'prank, murder, flashback', 'pornographic, cult', 'violence, historical fiction', 'cult, suspenseful, murder', 'revenge, sci-fi', 'violence, comedy, action', 'revenge, psychedelic, violence', 'comedy, neo noir, murder, violence, cult, revenge', 'revenge, murder, romantic, melodrama', 'violence, murder, storytelling, flashback', 'mystery, neo noir, murder', 'gothic, haunting', 'paranormal, revenge, murder', 'revenge, cult, murder, violence, flashback', 'revenge, horror', 'insanity, psychedelic', 'humor, flashback', 'cult, historical', 'good versus evil, revenge, flashback', 'inspiring, christian film', 'revenge, historical fiction', 'insanity, revenge, murder', 'violence, suspenseful, murder, flashback', 'paranormal, suspenseful', 'psychedelic, fantasy, romantic', 'tragedy, flashback', 'romantic, historical', 'comedy, neo noir, murder, violence, flashback, revenge', 'queer, flashback', 'psychedelic, dark', 'paranormal, violence, murder, flashback', 'tragedy, suspenseful', 'romantic, humor, satire', 'revenge, mystery', 'romantic, neo noir', 'anti war, satire', 'romantic, cute, entertaining', 'alternate reality, sci-fi', 'romantic, psychedelic, entertaining', 'comedy, action', 'good versus evil, suspenseful, violence', 'bleak, humor', 'pornographic, flashback', 'inspiring, home movie', 'good versus evil, violence, alternate reality', 'revenge, murder, historical fiction', 'plot twist, psychological, murder, flashback', 'revenge, humor, murder, violence', 'cult, entertaining, romantic', 'comedy, murder, violence, good versus evil, humor, revenge', 'cult, neo noir', 'neo noir, murder, violence, flashback, melodrama, revenge', 'romantic, humor, murder', 'romantic, mystery, murder, flashback', 'horror, prank', 'good versus evil, violence, revenge, murder, sadist', 'gothic, murder, flashback', 'cruelty, grindhouse film, murder, cult, horror, violence, insanity, sadist', 'boring, murder', 'romantic, neo noir, murder', 'comedy, murder, cult, violence, flashback, humor, revenge', 'violence, intrigue, murder, flashback', 'tragedy, avant garde', 'romantic, comedy, flashback', 'action, satire', 'revenge, comedy, murder, romantic', 'cult, neo noir, violence', 'dramatic, romantic, fantasy', 'queer, feel-good', 'cult, action, romantic', 'romantic, atmospheric', 'violence, comedy, satire', 'romantic, comedy, prank', 'good versus evil, violence, gothic', 'insanity, revenge, murder, violence', 'comedy, suspenseful, neo noir, murder, violence, flashback, revenge', 'romantic, neo noir, murder, flashback', 'revenge, neo noir, murder, romantic', 'bleak, violence', 'comedy, satire, flashback', 'revenge, cult, murder, romantic', 'romantic, comic', 'cult, grindhouse film, violence', 'romantic, fantasy, flashback', 'revenge, fantasy', 'insanity, violence, murder, sadist, flashback', 'violence, humor, murder, romantic', 'cruelty, murder, violence, flashback, revenge, sadist', 'romantic, mystery', 'cult, grindhouse film', 'philosophical, flashback', 'good versus evil, cult, murder, violence', 'dramatic, violence', 'good versus evil, violence, comedy, gothic', 'cult, humor, comedy, violence', 'revenge, intrigue, murder', 'pornographic, romantic, prank', 'suspenseful, neo noir, murder, flashback', 'dramatic, historical', 'romantic, adult comedy', 'romantic, psychological', 'violence, home movie', 'cult, humor, murder, suspenseful', 'revenge, suspenseful', 'whimsical', 'violence, cruelty, sadist, romantic', 'absurd, satire', 'tragedy, romantic, sentimental', 'comedy, neo noir, murder, cult, violence, humor, revenge', 'violence, cult, murder, flashback', 'revenge, action, murder', 'psychedelic, humor, satire', 'neo noir, flashback', 'comedy, satire, romantic', 'cult, comic', 'good versus evil, murder, flashback', 'cult, adult comedy', 'revenge, action, murder, violence', 'revenge, humor, murder, violence, flashback', 'cult, comedy, violence, humor', 'violence, murder, comic', 'tragedy, inspiring', 'satire, philosophical', 'dramatic, murder', 'violence, entertaining, flashback', 'comedy, revenge, suspenseful, murder, violence', 'romantic, comedy, satire, entertaining', 'insanity, psychedelic, violence', 'insanity, mystery, murder', 'tragedy, revenge, cult, violence', 'suspenseful, action, murder, violence', 'cult, cruelty, violence', 'suspenseful, comedy, murder', 'whimsical, psychedelic, humor', 'suspenseful, neo noir, murder, violence, flashback', 'insanity, suspenseful, murder', 'inspiring, historical', 'violence, boring, murder', 'suspenseful, historical', 'insanity, haunting', 'historical, sentimental', 'allegory, cult, psychedelic', 'romantic, mystery, murder', 'absurd, cult, psychedelic, satire', 'insanity, psychedelic, comedy', 'violence, revenge, murder, sadist, flashback', 'violence, depressing, murder, flashback', 'dramatic, cute', 'thought-provoking, romantic', 'humor, melodrama', 'violence, haunting', 'autobiographical, murder', 'suicidal, flashback', 'thought-provoking', 'violence, revenge, suspenseful, murder, sadist', 'western, cult', 'psychedelic, historical', 'tragedy, romantic, murder, flashback', 'romantic, violence, murder, sadist, flashback', 'plot twist, mystery, murder', 'violence, cruelty, murder, romantic', 'satire, murder, flashback', 'violence, psychedelic, murder', 'alternate reality, philosophical', 'cruelty, flashback', 'cult, boring', 'good versus evil, violence, murder, sci-fi', 'plot twist, murder, flashback', 'romantic, murder, violence', 'paranormal, revenge, neo noir, murder', 'violence, neo noir, sci-fi', 'neo noir, cruelty, murder, violence, flashback, revenge, sadist', 'action, fantasy', 'cult, horror, violence', 'paranormal, cult, haunting', 'violence, storytelling, romantic', 'cult, entertaining, flashback', 'suspenseful, intrigue, murder, violence', 'romantic, revenge, murder, violence', 'violence, historical, realism', 'romantic, sentimental, flashback', 'insanity, revenge, flashback', 'violence, neo noir, plot twist', 'violence, revenge, murder, romantic, flashback', 'neo noir, sci-fi', 'cult, murder, violence, romantic', 'good versus evil, insanity, psychedelic', 'comedy, dark', 'dramatic, horror', 'romantic, boring, entertaining', 'comedy, humor, flashback', 'dramatic, romantic, storytelling', 'neo noir, murder, violence, flashback, good versus evil, revenge', 'suspenseful, neo noir, murder', 'romantic, psychedelic, murder', 'comedy, neo noir, murder, cult, violence, revenge, blaxploitation', 'gothic, melodrama', 'comedy, humor, adult comedy', 'dark, neo noir', 'insanity, violence, murder, sadist', 'clever', 'violence, gothic, murder', 'paranormal, horror', 'comedy, murder, cult, violence, flashback, satire', 'entertaining, sentimental', 'romantic, violence', 'allegory, psychedelic, satire, murder', 'insanity, cult', 'psychedelic, satire, romantic', 'good versus evil, murder, tragedy', 'dramatic, romantic, queer', 'mystery, murder, violence, action, claustrophobic, suspenseful', 'comedy, suspenseful, neo noir, murder, violence, humor, revenge', 'comedy, murder, cult, violence, humor, entertaining', 'satire, entertaining', 'dramatic, sentimental', 'depressing, murder', 'good versus evil, paranormal, violence', 'allegory, romantic', 'psychedelic, satire, entertaining', 'tragedy, dramatic, murder', 'cult, violence, flashback', 'suspenseful, comedy', 'violence, plot twist', 'good versus evil, cult, psychedelic', 'suspenseful, atmospheric', 'absurd, cult, comedy', 'satire, storytelling', 'storytelling, home movie', 'psychedelic, cult', 'good versus evil, violence, flashback', 'murder, queer', 'humor, entertaining', 'comedy, queer', 'cult, comedy, psychedelic, humor', 'psychedelic, comedy, flashback', 'violence, dark', 'comedy, gothic', 'dramatic, mystery', 'cult, psychological, flashback', 'suspenseful, mystery', 'cult, revenge, cruelty, murder, violence', 'tragedy, prank', 'violence, revenge, murder, sadist, romantic', 'good versus evil, action, historical fiction', 'cult, fantasy', 'dramatic, boring, historical', 'romantic, historical, storytelling', 'boring, murder, flashback', 'cult, cruelty, murder', 'cult, suspenseful', 'psychedelic, murder, violence, flashback', 'violence, cult, cruelty, sadist', 'revenge, intrigue', 'violence, comedy, neo noir, murder, flashback', 'adult comedy, flashback', 'good versus evil, violence, murder, flashback', 'insanity, romantic, flashback', 'violence, cruelty, sadist', 'insanity, gothic', 'psychedelic, queer', 'murder, cult, violence, flashback, good versus evil, psychedelic, humor, revenge', 'romantic, comedy, murder, flashback', 'paranormal, romantic, flashback', 'psychedelic, humor, murder', 'comedy, intrigue', 'revenge, cult, neo noir, murder, violence', 'revenge, historical, murder, violence', 'dark, satire', 'murder, violence, cult, humor, action, revenge', 'comedy, suspenseful, neo noir, murder, cult, violence, revenge', 'cruelty, murder, violence, flashback, romantic, revenge', 'entertaining, stupid', 'cult, suspenseful, murder, flashback', 'revenge, gothic, murder, violence', 'romantic, cute', 'cult, mystery, murder, flashback', 'paranormal, good versus evil', 'romantic, dark', 'insanity, romantic, melodrama', 'cute, queer', 'dramatic, mystery, murder', 'comedy, psychedelic', 'violence, adult comedy', 'tragedy, depressing', 'comedy, revenge, cult, murder, violence', 'allegory, cult, murder', 'gothic, murder, haunting', 'paranormal, suspenseful, murder', 'violence, comedy, neo noir, murder', 'psychedelic, philosophical, flashback', 'violence, action, flashback', 'revenge, suspenseful, comedy, flashback', 'paranormal, gothic', 'cult, suspenseful, action, violence', 'dark, murder', 'violence, cult, sadist', 'suspenseful, humor, neo noir, murder, violence', 'insanity, gothic, murder', 'good versus evil, violence, humor', 'tragedy, violence, horror, murder', 'claustrophobic', 'revenge, prank, flashback', 'cult, comedy, satire, entertaining, romantic', 'good versus evil, insanity, murder', 'absurd, cult, comedy, violence, flashback', 'cult, revenge, murder, violence, flashback', 'absurd, cult', 'psychedelic, historical fiction', 'dramatic, comedy', 'good versus evil, revenge, psychedelic, violence', 'tragedy, anti war, violence', 'pornographic, cult, romantic', 'revenge, cult, comedy, violence', 'cult, action, murder', 'psychedelic, fantasy, flashback', 'violence, mystery', 'violence, claustrophobic', 'romantic, queer', 'tragedy, revenge', 'tragedy, violence, romantic', 'cult, historical, murder, violence, flashback', 'tragedy, romantic, flashback', 'boring, storytelling', 'revenge, comedy, violence', 'cult, comic, violence, flashback', 'comedy, mystery, murder', 'revenge, comedy, murder, flashback', 'melodrama, murder, flashback', 'tragedy, revenge, neo noir, murder, violence', 'anti war, psychedelic', 'comedy, murder, violence, flashback, humor, revenge, sadist', 'absurd, psychedelic, comedy, satire, violence', 'revenge, gothic, violence', 'murder, violence, flashback, insanity, romantic, sadist', 'cult, mystery', 'comedy, humor, satire, entertaining, flashback', 'violence, cult, avant garde, murder, blaxploitation', 'violence, cult, comedy, murder, adult comedy', 'whimsical, romantic, comedy', 'romantic, cult, murder', 'psychedelic, neo noir, murder', 'revenge, cult, murder, flashback', 'violence, realism', 'whimsical, psychedelic', 'mystery, flashback', 'insanity, cult, psychedelic, murder', 'paranormal, murder, home movie', 'romantic, avant garde', 'revenge, psychedelic, murder, violence', 'violence, entertaining', 'intrigue, murder, flashback', 'psychedelic, murder, violence, romantic', 'revenge, neo noir', 'revenge, neo noir, murder, violence, romantic', 'bleak, violence, suspenseful, murder, romantic', 'horror, murder, flashback', 'violence, revenge, cruelty, sadist', 'dark, cruelty, murder, violence, flashback, revenge, sadist', 'fantasy, action', 'mystery, dramatic, suspenseful, intrigue', 'humor, entertaining, prank', 'brainwashing, cult, murder', 'alternate history, sci-fi', 'cult, avant garde', 'cult, comedy, satire, murder, romantic', 'cult, suspenseful, violence', 'revenge, intrigue, violence', 'cult, romantic, flashback', 'paranormal, dark', 'tragedy, insanity, revenge, murder', 'suspenseful, neo noir, murder, violence, tragedy, revenge', 'anti war, murder, flashback', 'dramatic, revenge, mystery', 'insanity, cult, murder, violence', 'dramatic, flashback', 'satire, historical fiction', 'dramatic, suspenseful', 'cult, horror', 'suspenseful, neo noir, murder, cult, violence, flashback, revenge', 'comedy, entertaining, romantic', 'tragedy, cult, murder, romantic', 'violence, comedy, murder, romantic, flashback', 'tragedy, suspenseful, murder', 'violence, revenge, comedy, murder, sadist', 'violence, cult, revenge, murder, sadist', 'philosophical, murder, flashback', 'pornographic, gothic', 'comedy, satire, alternate history', 'psychological, satire', 'comedy, murder, romantic', 'cult, psychedelic, murder', 'violence, prank', 'paranormal, murder, haunting, flashback', 'historical, murder, flashback', 'tragedy, comedy', 'suspenseful, mystery, neo noir, murder, violence', 'paranormal, violence, cult', 'violence, psychological, murder', 'fantasy, flashback', 'murder, atmospheric, sentimental', 'good versus evil, psychedelic, violence', 'revenge, cruelty, murder', 'violence, depressing', 'humor, stupid', 'suspenseful, intrigue', 'romantic, cute, flashback', 'comedy, dramatic, cute, humor, romantic, entertaining, queer', 'horror, comedy, humor', 'murder, storytelling, sadist, flashback', 'grindhouse film, cruelty, murder, violence, revenge, sadist', 'comedy, murder, dramatic, cult, violence, romantic, historical', 'comedy, humor, queer', 'violence, psychological, realism, storytelling', 'good versus evil, revenge, storytelling, romantic', 'comedy, thought-provoking, flashback, psychedelic, humor, satire, romantic, entertaining', 'good versus evil, violence, revenge, humor, suspenseful', 'comedy, violence, historical fiction, action, humor, historical', 'grindhouse film, murder, cult, horror, violence, revenge, sadist, prank', 'pornographic, avant garde, comedy, murder, neo noir, psychological, dramatic, cult, alternate reality, violence, atmospheric, insanity, psychedelic, satire, brainwashing, revenge, sadist, prank', 'romantic, mystery, action, sci-fi', 'murder, violence, horror, good versus evil, humor, suspenseful', 'insanity, psychedelic, psychological, murder, violence', 'suspenseful, action, murder, sci-fi', 'historical, feel-good', 'cruelty, murder, neo noir, sentimental, thought-provoking, sadist, violence, flashback, revenge, storytelling, prank', 'clever, comedy, prank', 'comedy, murder, anti war, violence, thought-provoking, humor, satire, suspenseful', 'absurd, revenge, murder, violence, flashback', 'comedy, dark, psychological, violence, alternate reality, magical realism, psychedelic, satire', 'psychedelic, humor, flashback', 'good versus evil, violence, alternate history', 'cult, comedy, boring, prank', 'cult, humor, adult comedy', 'realism, paranormal, cult, violence, atmospheric, psychedelic, sci-fi', 'violence, cult, psychedelic, satire', 'violence, psychedelic, murder, storytelling', 'comedy, murder, cult, violence, flashback, good versus evil, absurd, humor, satire, revenge, sadist', 'avant garde, murder, atmospheric, romantic, revenge, historical', 'paranormal, psychedelic, suspenseful, haunting', 'psychedelic, satire, murder', 'anti war, revenge, alternate reality, murder, violence', 'violence, comedy, flashback', 'boring, murder, allegory, violence, atmospheric, flashback, philosophical, suspenseful', 'good versus evil, stupid, flashback', 'melodrama, satire, murder, historical fiction', 'flashback, revenge, gothic, sci-fi', 'violence, revenge, romantic, flashback', 'good versus evil, cult, suspenseful, murder, violence', 'revenge, humor, adult comedy, flashback', 'dramatic, sentimental, philosophical, inspiring, feel-good', 'philosophical, psychedelic, dark, murder', 'comedy, murder, cult, violence, good versus evil, absurd, humor, satire, revenge, sadist, sci-fi', 'dark, suspenseful, gothic, mystery, psychological, violence, atmospheric, flashback, revenge, historical', 'good versus evil, violence, gothic, murder', 'comedy, murder, dramatic, psychedelic, romantic, suspenseful', 'dark, depressing, murder, dramatic, violence, tragedy, romantic', 'cult, gothic, murder, violence, flashback', 'comedy, murder, bleak, cult, humor, action, revenge', 'revenge, cruelty', 'psychedelic, cult, comedy, action, murder', 'mystery, suspenseful, comedy, murder, violence', 'murder, dramatic, cult, violence, action, tragedy', 'cruelty, murder, violence, flashback, insanity, romantic, sadist', 'psychedelic, psychological, romantic', 'flashback, satire, romantic, inspiring, plot twist, entertaining, prank', 'comedy, avant garde, dark, murder, realism, cult, atmospheric, psychedelic, humor, satire', 'cult, suspenseful, comedy', 'dark, psychological, neo noir, mystery, atmospheric, plot twist, psychedelic, action, tragedy, suspenseful', 'good versus evil, cult, fantasy, action, mystery', 'comedy, cult, absurd, action, humor, comic, entertaining', 'cult, satire, murder', 'comedy, murder, stupid, cult, violence, flashback, good versus evil, absurd, humor, revenge', 'comedy, gothic, paranormal, cult, horror, psychedelic', 'insanity, psychedelic, flashback', 'revenge, cult, gothic', 'dramatic, mystery, satire', 'insanity, gothic, melodrama', 'cute, sentimental', 'western, violence, sadist', 'realism, murder, bleak, violence, atmospheric, flashback', 'tragedy, revenge, murder, violence, home movie', 'revenge, horror, psychedelic, storytelling', 'violence, sadist, sci-fi', 'bleak, cult, humor, boring, adult comedy', 'realism, violence, inspiring, murder, flashback', 'mystery, violence, cult, horror, flashback, satire, suspenseful, entertaining', 'revenge, cult, psychedelic, violence', 'suspenseful, boring, neo noir, murder, flashback', 'revenge, fantasy, romantic', 'romantic, psychedelic, fantasy, violence, flashback', 'cult, comedy, murder, flashback', 'melodrama, revenge, gothic, romantic, flashback', 'melodrama, action, flashback', 'cult, humor, comedy, violence, revenge', 'paranormal, psychological, murder', 'comedy, dark, boring, murder, atmospheric, action, revenge, historical', 'comedy, murder, violence, cult, humor, revenge, historical, entertaining', 'dark, murder, realism, dramatic, violence, action, philosophical, historical', 'psychological, mystery, boring, paranormal, dramatic, cult, horror, plot twist, flashback, atmospheric, psychedelic, tragedy, suspenseful, sentimental', 'dark, comedy, thought-provoking, cult, cute, psychedelic, satire, inspiring, romantic, entertaining, sentimental', 'insanity, comedy, cute, entertaining', 'comedy, psychological, dark, murder, depressing, stupid, mystery, dramatic, cult, alternate reality, violence, atmospheric, flashback, insanity, psychedelic, alternate history, prank', 'comedy, fantasy, cult, violence, humor, satire, romantic, entertaining', 'satire, entertaining, historical', 'comedy, boring, murder, good versus evil, action, tragedy, revenge, entertaining', 'comedy, boring, satire, sadist', 'suspenseful, mystery, murder, violence, cult, good versus evil, revenge', 'insanity, cult, comedy, suspenseful', 'western, cult, murder, feel-good', 'romantic, comedy, depressing, entertaining, flashback', 'psychedelic, satire, atmospheric', 'comedy, alternate reality, romantic', 'suspenseful, cult, philosophical, flashback', 'intrigue, action, historical fiction', 'comedy, humor, satire, flashback', 'murder, dramatic, flashback, tragedy, romantic, historical', 'suspenseful, historical, realism', 'mystery, murder, flashback, psychedelic, action, revenge', 'absurd, psychedelic, neo noir, romantic, melodrama', 'western, avant garde, sadist', 'tragedy, melodrama, murder, sadist, flashback', 'suspenseful, murder, violence, flashback, psychedelic, revenge', 'suspenseful, boring, murder, realism, depressing, psychological, dramatic, flashback, romantic, melodrama, tragedy, revenge, storytelling', 'violence, comedy, revenge', 'insanity, pornographic, murder', 'neo noir, murder, cult, violence, flashback, psychedelic, romantic', 'anti war, violence, sentimental, murder, flashback', 'good versus evil, psychedelic, horror, flashback', 'violence, suspenseful, cruelty, murder, sadist', 'mystery, dramatic, cult, violence, horror, action, humor, suspenseful, entertaining', 'murder, stupid, cult, clever, flashback, psychedelic, suspenseful, entertaining', 'romantic, boring, psychedelic, comedy, sentimental', 'horror, gothic, prank', 'violence, sadist, flashback', 'comedy, suspenseful, mystery, murder, cult, violence, flashback, insanity, humor, action, revenge', 'fantasy, murder, violence, flashback, good versus evil, psychedelic, humor, action, comic, revenge, entertaining, sci-fi', 'neo noir, cult, violence, flashback, action, entertaining', 'boring, satire, philosophical, sentimental', 'absurd, cult, avant garde, psychedelic, murder', 'murder, violence, revenge, flashback, tragedy, romantic', 'violence, cult, suicidal, murder, flashback', 'revenge, horror, flashback', 'paranormal, insanity, murder', 'violence, psychedelic, philosophical, murder, flashback', 'suspenseful, psychological, boring, plot twist, flashback', 'cult, horror, satire', 'suspenseful, cruelty, murder, paranormal, violence, horror, psychedelic, revenge, sadist, prank', 'comedy, murder, bleak, violence, cult, horror, suspenseful, home movie', 'good versus evil, tragedy, cult, violence', 'entertaining, violence, prank, comedy, comic', 'comedy, sentimental, dramatic, cult, suicidal, humor, prank', 'comedy, dark, cruelty, murder, boring, suspenseful, stupid, violence, alternate reality, flashback, psychedelic, satire, romantic, alternate history, storytelling', 'comedy, melodrama', 'good versus evil, alternate history', 'fantasy, suspenseful, murder, mystery, stupid, paranormal, horror, flashback, good versus evil, psychedelic, revenge', 'absurd, intrigue, romantic', 'violence, neo noir, blaxploitation', 'flashback, romantic, home movie', 'entertaining, murder, storytelling, home movie', 'violence, avant garde, cruelty, murder, flashback', 'comedy, romantic, feel-good', 'psychedelic, atmospheric, violence, sentimental', 'cute, sentimental, feel-good', 'violence, neo noir, realism', 'dark, depressing, flashback, melodrama, tragedy, sentimental', 'mystery, gothic, murder, violence, horror, flashback, clever, suspenseful, sadist', 'melodrama, romantic, psychological, murder, flashback', 'neo noir, murder, violence, cult, flashback, sadist', 'mystery, cult, horror, murder, atmospheric', 'good versus evil, revenge, cult, murder, suspenseful', 'insanity, suspenseful, neo noir, murder', 'cult, stupid, sci-fi', 'violence, revenge, satire, romantic, melodrama', 'suspenseful, mystery, neo noir, murder', 'avant garde, gothic, cult, violence, horror, good versus evil, insanity, romantic, revenge', 'good versus evil, revenge, murder, violence, flashback', 'dark, fantasy, gothic, murder, cult, flashback, good versus evil, insanity, revenge, entertaining', 'comedy, cruelty, murder, violence, flashback, suspenseful', 'paranormal, horror, suspenseful, psychological, gothic', 'depressing, murder, dramatic, cute, atmospheric, historical', 'fantasy, bleak, flashback, good versus evil, psychedelic, philosophical, romantic, revenge', 'violence, alternate reality, alternate history', 'violence, autobiographical, murder', 'revenge, psychological, violence', 'revenge, cruelty, murder, flashback', 'inspiring, psychedelic, boring, romantic, flashback', 'neo noir, murder, thought-provoking, cult, violence, flashback, psychedelic, action, philosophical, brainwashing, romantic, sci-fi', 'allegory, psychedelic, neo noir', 'cruelty, murder, violence, cult, romantic, sadist', 'inspiring, violence, historical', 'anti war, violence, romantic, flashback', 'brainwashing, romantic, home movie', 'comedy, violence, satire, romantic, storytelling, home movie', 'comedy, humor, violence', 'romantic, satire, murder', 'comedy, suspenseful, neo noir, murder, psychological, mystery, violence, plot twist, tragedy, revenge', 'comedy, gothic, murder, neo noir, cult, violence, flashback, good versus evil, insanity, psychedelic, romantic, tragedy, revenge, sadist', 'flashback, murder, historical fiction', 'boring, murder, cult, psychedelic, revenge, entertaining', 'historical, murder, atmospheric', 'psychedelic, humor, prank', 'violence, sci-fi, murder, cult, flashback', 'comedy, neo noir, murder, cult, violence, revenge, sadist', 'comedy, dramatic, violence, flashback, satire, romantic, historical, home movie', 'murder, violence, melodrama, tragedy, revenge, blaxploitation', 'good versus evil, horror, flashback', 'melodrama, revenge, comedy, murder, flashback', 'insanity, cult, violence', 'depressing, thought-provoking, cult, violence, horror, action, romantic, suspenseful', 'revenge, comedy, satire, entertaining, romantic', 'cult, suspenseful, melodrama', 'cult, humor, cute, entertaining, stupid', 'violence, murder, home movie', 'revenge, boring, murder, romantic, flashback', 'pornographic, murder, cult, violence, absurd, humor, satire, comic, melodrama', 'tragedy, neo noir, murder, flashback', 'murder, violence, flashback, good versus evil, action, revenge, entertaining', 'fantasy, dramatic, cult, violence, good versus evil, action, tragedy', 'comedy, cruelty, murder, sadist, flashback, revenge, storytelling', 'cult, comedy, psychedelic, humor, prank', 'good versus evil, suspenseful, murder, tragedy', 'psychological, neo noir, murder, violence, plot twist, insanity, philosophical, revenge, sci-fi', 'murder, violence, alternate reality, flashback, revenge, sci-fi', 'tragedy, romantic, depressing, murder, flashback', 'pornographic, dark, cruelty, murder, cult, violence, psychedelic, satire, comic, sadist', 'bleak, haunting', 'comedy, mystery, murder, violence, intrigue, alternate reality, psychedelic, action, sci-fi', 'good versus evil, paranormal, murder', 'cult, prank', 'psychedelic, murder, melodrama', 'comedy, mystery, fantasy, murder, cult, historical fiction, action, romantic, entertaining, sci-fi', 'western, cult, murder, violence', 'suspenseful, humor, murder, violence, flashback', 'good versus evil, insanity, violence, murder', 'murder, violence, historical fiction, good versus evil, action, humor, revenge, sci-fi', 'romantic, revenge', 'boring, dramatic, plot twist, romantic, entertaining, sentimental', 'inspiring, entertaining', 'gothic, murder, violence, cult, revenge, sadist', 'revenge, intrigue, murder, flashback', 'paranormal, revenge, suspenseful, murder, haunting', 'psychedelic, horror, violence', 'suspenseful, neo noir, murder, romantic', 'insanity, violence, sadist', 'comedy, cult, satire', 'psychedelic, magical realism, satire, romantic', 'murder, cult, violence, cute, historical fiction, flashback, revenge, alternate history', 'romantic, prank, cruelty, flashback', 'suspenseful, comedy, murder, violence', 'comedy, murder, cult, flashback, psychedelic, satire, revenge', 'cult, psychedelic, atmospheric, romantic', 'cult, revenge, grindhouse film, violence', 'cult, psychedelic, murder, atmospheric', 'suspenseful, neo noir, murder, realism, bleak, violence, cult, atmospheric, action, philosophical, revenge', 'comedy, neo noir, murder, violence, intrigue, romantic, suspenseful', 'avant garde, cruelty, murder, psychological, allegory, violence, revenge', 'psychedelic, horror, cult, romantic', 'suspenseful, neo noir, violence, sentimental', 'realism, adult comedy, cute, psychedelic, humor, philosophical, romantic, entertaining, storytelling', 'comedy, fantasy, gothic, paranormal, whimsical, cult, alternate reality, horror, haunting, psychedelic, entertaining', 'good versus evil, cult, psychedelic, murder, sci-fi', 'fantasy, mystery, murder, paranormal, dramatic, violence, horror, humor, suspenseful, entertaining', 'comedy, psychological, murder, paranormal, cult, violence, satire, plot twist', 'romantic, cute, entertaining, flashback', 'depressing, murder, flashback', 'cult, comedy, action, violence', 'avant garde, psychedelic, cult, cruelty, violence', 'revenge, humor, entertaining, romantic', 'paranormal, revenge, murder, entertaining, flashback', 'entertaining, fantasy, depressing, sentimental, dramatic, cult, alternate reality, cute, flashback, romantic, inspiring, revenge, alternate history, prank', 'good versus evil, violence, humor, action, flashback', 'bleak, neo noir, murder', 'murder, cult, revenge, horror, flashback, suspenseful, sadist', 'comedy, humor, psychedelic, storytelling', 'pornographic, comedy, grindhouse film, murder, cult, violence, atmospheric', 'fantasy, mystery, murder, paranormal, dramatic, humor, romantic, revenge, sentimental', 'revenge, comedy, violence, flashback', 'dramatic, psychedelic, boring, depressing, claustrophobic', 'comedy, suspenseful, neo noir, murder, anti war, cult, violence, flashback, humor, revenge', 'neo noir, murder, violence, atmospheric, flashback, suspenseful', 'psychological, boring, flashback, humor, tragedy, romantic, sentimental', 'mystery, cruelty, murder, neo noir, cult, revenge, violence, suspenseful, sadist', 'revenge, gothic, murder, violence, flashback', 'anti war, psychedelic, murder, romantic', 'mystery, stupid, cult, humor, action, tragedy, suspenseful', 'comedy, mystery, psychedelic', 'mystery, gothic, paranormal, cult, atmospheric, flashback, good versus evil, tragedy, romantic', 'dark, avant garde, depressing, psychological, dramatic, cult, violence, flashback, insanity, psychedelic, romantic, historical, prank', 'violence, revenge, neo noir, murder, sadist', 'comedy, cruelty, murder, neo noir, cult, violence, flashback, insanity, psychedelic, satire, romantic, revenge, sadist', 'inspiring, romantic, sentimental, realism, home movie', 'comedy, boring, murder, romantic', 'fantasy, whimsical, cute, good versus evil, psychedelic, humor, romantic, sci-fi', 'romantic, boring, historical, murder, melodrama', 'psychedelic, neo noir, murder, violence', 'dark, comedy, violence', 'allegory, suspenseful, violence', 'cult, absurd, psychedelic, action, satire, romantic, entertaining', 'sadist, psychedelic, murder, storytelling, flashback', 'paranormal, cult, boring', 'cult, neo noir, murder, flashback', 'comedy, murder, cult, flashback, good versus evil, psychedelic, revenge', 'avant garde, cruelty, murder, violence, romantic, revenge', 'plot twist, murder, violence', 'boring, plot twist, flashback, humor, brainwashing, revenge, entertaining', 'romantic, intrigue, cruelty, murder, satire', 'comedy, cult, suspenseful, neo noir, murder', 'murder, violence, flashback, good versus evil, psychedelic, humor, revenge', 'murder, cult, violence, flashback, insanity, melodrama', 'plot twist, mystery', 'dark, psychological, haunting', 'comedy, grindhouse film, murder, cult, violence, insanity, satire', 'dramatic, cult, violence, melodrama, inspiring, romantic, entertaining', 'prank, storytelling, flashback', 'comedy, humor, entertaining, romantic, clever', 'cult, action, murder, violence, historical fiction', 'insanity, suspenseful, murder, claustrophobic', 'comedy, queer, entertaining, romantic, flashback', 'avant garde, mystery, cult, alternate reality, flashback, psychedelic, romantic', 'mystery, murder, cult, violence, flashback, humor', 'murder, cult, violence, flashback, psychedelic, sci-fi', 'comedy, fantasy, entertaining, prank', 'romantic, gothic, realism', 'mystery, suspenseful, horror, murder, claustrophobic', 'cult, mystery, psychedelic, queer', 'cruelty, murder, allegory, violence, atmospheric, flashback, romantic', 'comedy, murder, flashback, satire, tragedy, revenge', 'good versus evil, romantic, sci-fi', 'revenge, horror, gothic, murder, romantic', 'mystery, neo noir, murder, flashback', 'dramatic, cult, queer, romantic, home movie', 'anti war, cult, violence', 'comedy, mystery, neo noir, violence, psychedelic, action, entertaining', 'violence, revenge, cult, comedy, murder', 'comedy, fantasy, boring, violence, alternate reality, atmospheric, flashback, psychedelic, philosophical, sci-fi', 'comedy, humor, clever', 'gothic, murder, atmospheric', 'murder, violence, horror, flashback, satire, revenge', 'good versus evil, violence, murder, sadist', 'bleak, revenge, suspenseful, storytelling, flashback', 'comedy, neo noir, suicidal, plot twist, psychedelic, romantic', 'psychedelic, cult, humor', 'boring, cruelty, murder, violence, intrigue, action, revenge', 'comedy, absurd, humor, entertaining, romantic', 'cult, fantasy, violence', 'depressing, dramatic, cute, flashback, autobiographical, romantic', 'suspenseful, gothic, murder, neo noir, mystery, violence, cult, horror, flashback, good versus evil, revenge', 'murder, whimsical, dramatic, cute, magical realism, flashback, sadist, sentimental', 'romantic, comedy, entertaining, flashback', 'psychological, cute, feel-good, flashback, humor, inspiring', 'suspenseful, boring, violence, haunting, romantic, revenge, storytelling, prank', 'cruelty, murder, paranormal, cult, horror, violence, tragedy, sadist', 'psychedelic, violence, romantic', 'entertaining, comedy, boring, murder, flashback', 'dark, fantasy, boring, cult, flashback, good versus evil', 'cruelty, murder, cult, violence, flashback, good versus evil, absurd, romantic, revenge, entertaining', 'cruelty, grindhouse film, gothic, murder, paranormal, cult, violence, horror, atmospheric, psychedelic, sadist', 'comedy, murder, violence, flashback, absurd, psychedelic, brainwashing, entertaining', 'violence, psychedelic, comedy, adult comedy, flashback', 'cult, adult comedy, prank', 'paranormal, plot twist, murder, haunting', 'tragedy, flashback, home movie', 'revenge, comedy, humor', 'mystery, psychedelic, humor, atmospheric, romantic', 'tragedy, depressing, flashback', 'comedy, romantic, sentimental', 'psychological, murder, stupid, paranormal, violence, cult, flashback, psychedelic, action, entertaining', 'paranormal, romantic, murder', 'insanity, revenge, psychedelic, murder', 'cult, suspenseful, neo noir, murder, historical', 'entertaining, comedy, murder, adult comedy, bleak, thought-provoking, cult, violence, historical fiction, good versus evil, satire, revenge, alternate history', 'melodrama, revenge, depressing, flashback', 'comedy, murder, violence, psychedelic, suspenseful, sci-fi', 'comedy, murder, violence, flashback, psychedelic, romantic, entertaining', 'tragedy, cruelty, murder', 'good versus evil, allegory, cult, satire, murder', 'revenge, psychological, murder', 'pornographic, cult, adult comedy', 'dramatic, revenge, intrigue, murder, violence', 'cruelty, murder, cult, violence, atmospheric, flashback, good versus evil, sadist', 'romantic, fantasy, historical fiction', 'comedy, suspenseful, murder, bleak, cult, satire, revenge', 'comedy, mystery, murder, flashback', 'pornographic, suspenseful, neo noir, murder, cult, violence, flashback, revenge', 'boring, fantasy, alternate reality, good versus evil, psychedelic, action', 'dark, cruelty, murder, violence, insanity, revenge, sadist', 'cult, mystery, philosophical, murder', 'boring, murder, violence, flashback, psychedelic, action, philosophical, melodrama, tragedy, revenge, historical, queer', 'revenge, fantasy, violence', 'inspiring, philosophical, stupid', 'mystery, comedy, boring, romantic', 'good versus evil, violence, humor, murder', 'philosophical, violence, entertaining, flashback', 'comedy, dark, gothic, murder, neo noir, fantasy, realism, allegory, cult, violence, atmospheric, flashback, good versus evil, romantic, tragedy, revenge', 'comedy, murder, dramatic, violence, romantic, historical', 'comedy, cult, violence, psychedelic, absurd, satire, tragedy, romantic', 'murder, violence, cult, humor, action, romantic, revenge', 'comedy, murder, bleak, violence, humor, entertaining', 'fantasy, cute, good versus evil, psychedelic, romantic, entertaining', 'suspenseful, historical, storytelling', 'romantic, queer, home movie', 'psychological, depressing, dramatic, cult, violence, insanity, satire, claustrophobic, sadist, sentimental', 'anti war, revenge, murder, flashback', 'alternate reality, murder', 'bleak, cult, murder', 'psychedelic, sci-fi, murder, flashback', 'comedy, murder, paranormal, cult, violence, good versus evil, humor, satire, romantic, entertaining, sci-fi', 'sadist, revenge, suspenseful, violence, flashback', 'murder, violence, revenge, historical fiction, tragedy, romantic', 'dark, boring, neo noir, murder, depressing, suspenseful, bleak, psychological, cult, mystery, atmospheric, flashback, psychedelic, revenge', 'cult, humor, violence, stupid', 'violence, suspenseful', 'pornographic, comedy, dark, cult, flashback, humor, satire', 'comedy, depressing, cult, psychedelic, satire, entertaining', 'comedy, murder, bleak, violence, flashback, action, humor', 'fantasy, murder, violence, flashback, good versus evil, psychedelic, action, sci-fi', 'mystery, neo noir, murder, cult, revenge, violence, suspenseful, sadist', 'dark, suspenseful, cruelty, murder, neo noir, realism, cult, violence, good versus evil, revenge, sadist', 'philosophical, murder', 'comedy, murder, violence, absurd, humor, romantic, revenge', 'good versus evil, revenge, tragedy, flashback', 'romantic, psychological, flashback', 'romantic, psychological, murder, flashback', 'comedy, stupid, cult, violence, flashback, revenge', 'violence, gothic, flashback', 'comedy, stupid', 'gothic, cult, sadist, violence, haunting, psychedelic, storytelling', 'suspenseful, grindhouse film, gothic, murder, allegory, cult, horror, violence, tragedy, revenge', 'comedy, cult, violence, psychedelic, absurd, satire, philosophical, humor, entertaining', 'dark, mystery, murder, thought-provoking, violence, insanity', 'comedy, depressing, realism, murder, violence, atmospheric, flashback', 'thought-provoking, flashback, psychedelic, action, romantic, inspiring, suspenseful, sentimental', 'murder, paranormal, cult, violence, insanity, suspenseful', 'gothic, murder, paranormal, cult, violence, good versus evil', 'psychological, gothic, violence, cult, horror, alternate reality, haunting, flashback, insanity, psychedelic, tragedy', 'violence, revenge, comedy, murder, romantic', 'depressing, murder, dramatic, flashback, romantic, tragedy, revenge, historical', 'good versus evil, fantasy, flashback', 'bleak, romantic, western, storytelling, sentimental', 'suspenseful, neo noir, murder, violence, romantic, revenge, sadist', 'gothic, murder, violence, horror, flashback, brainwashing, storytelling', 'murder, paranormal, violence, flashback, good versus evil, psychedelic, revenge', 'psychological, revenge, flashback, psychedelic, romantic, plot twist', 'realism, dramatic, violence, flashback, inspiring, romantic', 'paranormal, gothic, murder', 'neo noir, murder, revenge, flashback, romantic, suspenseful, sci-fi', 'violence, action, boring, flashback', 'flashback, brainwashing, sci-fi', 'brainwashing, suspenseful, comedy, murder, violence', 'bleak, comedy, boring, feel-good', 'gothic, stupid, cult, violence, good versus evil, action, revenge', 'comedy, adult comedy, flashback', 'suspenseful, humor, romantic, flashback', 'insanity, romantic, humor, murder', 'comedy, mystery, murder, violence', 'cult, comedy, psychedelic, entertaining, historical', 'dark, gothic', 'dark, mystery, psychological, murder, comedy, violence, flashback, insanity, psychedelic, suspenseful', 'cult, action, murder, romantic', 'insanity, plot twist, comedy', 'pornographic, comedy, murder, cult, alternate reality, violence, good versus evil, psychedelic, satire', 'comedy, murder, stupid, violence, good versus evil, revenge, entertaining', 'tragedy, romantic, neo noir, murder', 'entertaining, melodrama', 'insanity, suspenseful, gothic, murder', 'allegory, comedy, fantasy, cruelty, storytelling', 'comedy, suspenseful, neo noir, murder, violence, cult, good versus evil, claustrophobic, tragedy, revenge, sadist', 'mystery, murder, paranormal, bleak, flashback, psychedelic, philosophical, suspenseful', 'comedy, fantasy, gothic, murder, cult, violence, historical fiction, good versus evil, flashback, romantic, historical', 'dramatic, romantic, home movie', 'dark, murder, paranormal, violence, flashback, tragedy, romantic', 'bleak, suspenseful, claustrophobic, flashback', 'thought-provoking, romantic, avant garde, psychological', 'grindhouse film', 'psychedelic, comedy, murder', 'insanity, prank, flashback', 'comedy, violence, alternate reality, satire, murder', 'murder, violence, flashback, psychedelic, romantic, revenge, historical', 'insanity, murder, haunting, flashback', 'insanity, violence, horror, flashback', 'mystery, boring, violence, alternate reality, horror, flashback, revenge', 'romantic, boring, murder, plot twist, clever', 'bleak, historical, murder', 'dark, comedy, murder, allegory, violence, flashback, satire', 'revenge, violence, plot twist', 'comedy, cruelty, depressing, cult, psychedelic, satire', 'cruelty, murder, violence, flashback, good versus evil, revenge, alternate history', 'horror, cult, suspenseful, violence, prank', 'comedy, bleak, cult, violence, comic, revenge', 'revenge, suspenseful, cruelty, murder, flashback', 'comedy, neo noir, murder, paranormal, cult, violence, flashback, good versus evil, psychedelic, humor, tragedy, revenge', 'comedy, suspenseful, neo noir, murder, violence, humor, melodrama, tragedy, revenge, sadist, sci-fi', 'boring, murder, stupid, paranormal, cult, violence, flashback, good versus evil, action, comic, revenge, entertaining, storytelling', 'dark, realism, dramatic, violence, thought-provoking, tragedy, sentimental', 'good versus evil, allegory', 'action, murder, boring', 'plot twist, comedy, murder', 'paranormal, plot twist, action, murder', 'tragedy, dark, comedy, violence', 'allegory, comedy, satire', 'mystery, murder, cult, revenge, violence, tragedy, suspenseful, sadist', 'avant garde, cruelty, murder, fantasy, revenge, flashback, philosophical, romantic, storytelling', 'gothic, murder, violence, insanity, psychedelic, sadist', 'comedy, suspenseful, neo noir, murder, cult, violence, good versus evil, revenge', 'absurd, revenge, humor, satire, entertaining', 'cult, suspenseful, murder, violence, sci-fi', 'tragedy, revenge, cult, violence, flashback', 'revenge, dark, murder, flashback', 'boring, paranormal, cult, horror, violence, action', 'cult, comedy, stupid, violence, comic', 'revenge, cult, storytelling', 'pornographic, psychedelic, cruelty', 'comedy, suspenseful, neo noir, murder, violence, revenge', 'comedy, murder, paranormal, violence, tragedy, romantic', 'gothic, paranormal, cult, atmospheric, flashback, psychedelic, suspenseful', 'suspenseful, murder, violence, flashback', 'violence, revenge, flashback, good versus evil, romantic, entertaining', 'cult, adult comedy, entertaining, violence, romantic', 'comedy, fantasy, gothic, murder, paranormal, cult, flashback, good versus evil, psychedelic, storytelling', 'insanity, psychological, murder', 'murder, violence, suicidal, flashback, brainwashing, plot twist', 'anti war, cruelty', 'paranormal, psychedelic, haunting, flashback', 'comedy, humor, entertaining, stupid', 'suspenseful, murder, violence, flashback, good versus evil, humor, revenge', 'suspenseful, neo noir, murder, violence, atmospheric, psychedelic, revenge', 'murder, paranormal, horror, plot twist, flashback, suspenseful', 'revenge, horror, grindhouse film, murder, violence', 'tragedy, anti war, psychedelic, satire, violence', 'psychological, murder, cult, violence, horror, atmospheric, insanity, psychedelic, claustrophobic', 'absurd, psychedelic, humor, violence', 'violence, sentimental, romantic, flashback', 'tragedy, revenge, murder, storytelling, romantic', 'dark, mystery, psychological, murder, horror, flashback', 'psychedelic, haunting', 'comedy, boring, neo noir, murder, stupid, allegory, cult, alternate reality, violence, flashback, absurd, psychedelic, satire, alternate history, sci-fi', 'tragedy, allegory, psychedelic, magical realism, philosophical', 'suspenseful, sci-fi, claustrophobic, flashback', 'comedy, fantasy, cult, cute, action, entertaining, storytelling', 'entertaining, cult, humor, comedy, adult comedy', 'neo noir, gothic, murder, paranormal, horror, flashback, suspenseful', 'comedy, realism, whimsical, dramatic, cute, flashback, feel-good, psychedelic, romantic, entertaining, storytelling', 'suspenseful, haunting', 'boring, flashback, psychedelic, humor, storytelling, queer', 'comedy, violence, cult, flashback, insanity, romantic, entertaining, sadist', 'dark, neo noir, murder, violence, flashback, melodrama, revenge', 'revenge, entertaining, flashback', 'psychedelic, psychological, humor', 'comedy, dark, neo noir, murder, mystery, dramatic, cult, violence, revenge, atmospheric, absurd, action, suspenseful, storytelling', 'comedy, murder, adult comedy, stupid, bleak, cult, horror, flashback, psychedelic, humor, revenge, entertaining', 'gothic, murder, neo noir, violence, flashback, good versus evil, insanity, comic, tragedy, suspenseful, sadist', 'dark, murder, violence, cult, good versus evil, romantic', 'psychedelic, satire, claustrophobic', 'realism, cult, humor, romantic, melodrama, revenge, sentimental', 'thought-provoking, psychedelic, psychological, suspenseful', 'comedy, neo noir, murder, violence, tragedy, revenge', 'neo noir, murder, dramatic, cult, violence, flashback', 'suspenseful, violence, cult, flashback, good versus evil, action, revenge', 'dramatic, suspenseful, murder, flashback', 'psychedelic, comedy, entertaining, humor', 'good versus evil, cult, action, murder', 'comedy, boring, mystery, murder, cult, violence, atmospheric, flashback, good versus evil, clever, action, entertaining, sci-fi', 'boring, paranormal, horror, alternate reality, atmospheric, flashback, psychedelic, suspenseful', 'comedy, humor, prank', 'murder, stupid, paranormal, violence, psychedelic, revenge', 'comedy, murder, cult, violence, horror, flashback, psychedelic, humor, entertaining, sadist', 'comedy, neo noir, murder, violence, flashback, romantic', 'cult, humor, comedy, adult comedy', 'good versus evil, insanity, psychedelic, gothic', 'psychedelic, comedy, violence, sci-fi', 'good versus evil, action, murder, storytelling, flashback', 'comedy, dark, allegory, absurd, psychedelic, satire', 'cruelty, gothic, murder, insanity, absurd, psychedelic, romantic', 'murder, violence, atmospheric, philosophical, romantic, historical', 'psychological, neo noir, murder, mystery, dramatic, violence, revenge, horror, insanity, claustrophobic, suspenseful, sadist', 'revenge, cult, sadist, romantic', 'violence, revenge, sadist, melodrama', 'comedy, cruelty, murder, magical realism, absurd, psychedelic, satire, melodrama', 'mystery, suspenseful, intrigue, murder, flashback', 'boring, murder, violence, flashback, good versus evil, action', 'dramatic, suspenseful, horror', 'fantasy, whimsical, cute, psychedelic, romantic, storytelling, sentimental', 'dramatic, suicidal, flashback', 'comedy, murder, stupid, cult, violence, flashback, absurd, suspenseful, entertaining', 'avant garde, historical, flashback', 'tragedy, romantic, murder, atmospheric, sentimental', 'comedy, murder, violence, cult, flashback, romantic', 'entertaining, cult, comedy, murder, romantic', 'absurd, cult, entertaining', 'good versus evil, psychological, murder, flashback', 'comedy, stupid, violence, flashback, humor, comic, revenge', 'comedy, dramatic, cult, psychedelic, humor, satire, melodrama', 'absurd, cult, comedy, psychedelic, romantic', 'insanity, romantic, avant garde, murder', 'queer, storytelling, home movie', 'comedy, murder, violence, horror, flashback, satire', 'fantasy, allegory, cult, flashback, psychedelic, sadist', 'cult, horror, violence, atmospheric, humor, action, claustrophobic, entertaining', 'comedy, neo noir, cult, romantic, entertaining, storytelling', 'suspenseful, psychological, melodrama', 'good versus evil, cult, gothic, murder', 'comedy, boring, violence, flashback, good versus evil, humor, action, romantic, revenge', 'humor, non fiction', 'insanity, psychedelic, murder, violence', 'absurd, psychedelic, comedy, flashback', 'psychological, suspenseful, murder, paranormal, violence, good versus evil, tragedy, revenge', 'western, cult, comedy, violence', 'dramatic, inspiring, feel-good', 'comedy, boring, murder, stupid, cult, violence, flashback, absurd, humor, action, psychedelic, brainwashing, entertaining', 'romantic, alternate reality, entertaining, flashback', 'insanity, cult, psychological, philosophical, atmospheric', 'cruelty, murder, violence, flashback, melodrama, romantic', 'boring, neo noir, murder, suspenseful, psychological, paranormal, mystery, violence, alternate reality, flashback, clever, tragedy, revenge, sci-fi', 'revenge, boring, murder, flashback', 'murder, allegory, cult, violence, tragedy, revenge', 'good versus evil, allegory, violence, satire', 'insanity, psychedelic, romantic, flashback', 'violence, murder, adult comedy, romantic', 'historical, comedy, satire, romantic', 'tragedy, violence, sci-fi, flashback', 'avant garde, murder, violence, absurd, psychedelic, satire', 'pornographic, mystery, cruelty, murder, neo noir, psychological, cult, atmospheric, psychedelic, suspenseful, storytelling', 'comedy, gothic, murder, paranormal, cult, violence, flashback, good versus evil, insanity, absurd, humor, psychedelic, romantic, revenge', 'good versus evil, violence, neo noir', 'tragedy, violence, haunting, flashback', 'fantasy, violence, flashback, good versus evil, psychedelic, action, philosophical, revenge', 'historical, melodrama', 'tragedy, cult, adult comedy, romantic', 'intrigue, action, murder, historical fiction', 'violence, boring, romantic', 'murder, violence, good versus evil, absurd, psychedelic, sci-fi', 'murder, cult, violence, flashback, good versus evil, tragedy, revenge', 'horror, violence, humor, murder, flashback', 'cult, mystery, psychedelic, entertaining, humor', 'suspenseful, cruelty, murder, violence, horror, clever, insanity, romantic, revenge, sadist', 'suspenseful, cruelty, murder, cult, horror, violence, atmospheric, insanity, romantic, sadist', 'pornographic, psychedelic, murder, violence', 'mystery, murder, violence, flashback, action, revenge', 'dark, murder, violence, cult, good versus evil, action, revenge, entertaining, sadist', 'murder, cult, violence, atmospheric, flashback, action, suspenseful, sci-fi', 'comedy, avant garde, murder, flashback, psychedelic, autobiographical, humor, philosophical, romantic, historical, storytelling', 'paranormal, violence, intrigue, murder, flashback', 'dark, suspenseful, gothic, murder, mystery, cult, alternate reality, violence, flashback, insanity, psychedelic, satire, philosophical, brainwashing, revenge, sci-fi', 'comedy, dark, neo noir, murder, violence, flashback, revenge', 'revenge, sci-fi, murder, violence, flashback', 'murder, dramatic, flashback, humor, tragedy, historical, sentimental', 'comedy, violence, flashback, insanity, claustrophobic, suspenseful', 'comedy, avant garde, suspenseful, murder, violence, flashback, good versus evil, absurd, psychedelic, revenge, sadist', 'bleak, neo noir', 'dark, comedy, fantasy, murder, stupid, cult, violence, flashback, insanity, psychedelic, action, satire, romantic, entertaining', 'horror, cult, revenge, murder, violence', 'realism, revenge, action, murder, flashback', 'murder, violence, flashback, good versus evil, action, inspiring, sadist', 'violence, revenge, humor, murder, sadist', 'cult, gothic, violence', 'bleak, dramatic, entertaining, atmospheric', 'romantic, intrigue, historical, murder', 'allegory, revenge, romantic', 'violence, cute, clever, flashback, inspiring, romantic, entertaining, storytelling', 'mystery, neo noir, murder, paranormal, violence, flashback, psychedelic, action, tragedy, suspenseful, sci-fi, home movie', 'romantic, boring, murder, flashback', 'insanity, revenge, cult, murder, flashback', 'humor, feel-good, entertaining, sentimental', 'suspenseful, murder, claustrophobic', 'comedy, suspenseful, murder, suicidal, violence, humor, revenge', 'violence, murder, historical fiction', 'absurd, revenge, cult, comedy, violence', 'brainwashing, revenge, murder, violence, flashback', 'insanity, revenge, avant garde, psychedelic', 'comedy, dark, boring, cult, violence, flashback, insanity, psychedelic, satire, revenge', 'dark, boring, neo noir, murder, fantasy, mystery, dramatic, cult, alternate reality, violence, thought-provoking, atmospheric, psychedelic, action, philosophical, romantic, sci-fi', 'pornographic, dark, neo noir, murder, stupid, cult, violence, flashback, psychedelic, revenge, sci-fi', 'dark, avant garde, grindhouse film, gothic, murder, comedy, violence, cult, horror, atmospheric, insanity, tragedy, suspenseful, sadist', 'absurd, alternate reality', 'comedy, murder, violence, flashback, good versus evil, humor, tragedy, revenge, sadist', 'dark, comedy, gothic, cult, horror, psychedelic, romantic', 'fantasy, murder, dramatic, violence, tragedy, romantic', 'romantic, neo noir, flashback', 'cult, cute, psychedelic', 'dark, suspenseful, mystery, murder, bleak, western, violence, cult, flashback, psychedelic, revenge', 'romantic, magical realism, flashback', 'suspenseful, boring, murder, violence, flashback', 'bleak, violence, humor, sci-fi', 'gothic, murder, violence, horror, flashback, romantic', 'murder, violence, psychedelic, satire, melodrama, romantic', 'comedy, dark, murder, flashback, psychedelic, storytelling', 'violence, entertaining, storytelling, romantic', 'violence, philosophical, romantic', 'mystery, action, boring', 'dark, fantasy, gothic, murder, violence, flashback, good versus evil, action, revenge', 'avant garde, allegory, cult, insanity, absurd, psychedelic, satire', 'comedy, murder, cult, insanity, romantic, entertaining', 'murder, violence, cult, good versus evil, satire, romantic', 'tragedy, romantic, historical, murder, violence', 'pornographic, cult, satire, murder, violence', 'good versus evil, cute, fantasy', 'comedy, cult, violence, insanity, psychedelic, absurd, satire, comic, entertaining', 'paranormal, insanity, revenge, murder, violence', 'stupid, anti war, violence, action, satire, revenge', 'romantic, violence, storytelling, flashback', 'paranormal, good versus evil, stupid, flashback', 'cult, avant garde, gothic, violence', 'satire, atmospheric', 'revenge, suspenseful, violence, sci-fi', 'avant garde, mystery, murder, intrigue, historical fiction, suspenseful, historical', 'pornographic, cruelty, murder, dramatic, flashback, psychedelic, plot twist', 'revenge, boring, murder, violence, flashback', 'romantic, boring, depressing', 'bleak, comedy, entertaining', 'murder, cult, violence, plot twist, flashback, psychedelic, action, revenge', 'psychological, murder, flashback, psychedelic, tragedy, romantic, storytelling', 'suspenseful, mystery, murder, dramatic, flashback, action, romantic, revenge', 'entertaining, realism, flashback', 'murder, anti war, violence, horror, action, romantic, historical', 'mystery, revenge, suspenseful, murder, violence', 'revenge, cult, violence, flashback', 'cute, entertaining, feel-good', 'murder, violence, horror, cult, revenge, entertaining', 'suspenseful, murder, paranormal, horror, flashback, revenge, prank', 'comedy, anti war, cult, violence, good versus evil, humor, satire', 'comedy, entertaining, adult comedy', 'insanity, revenge, cult, gothic, horror', 'brainwashing, psychedelic, cult, murder, anti war', 'psychedelic, satire, entertaining, romantic', 'tragedy, revenge, cult, murder, violence', 'good versus evil, cult, romantic', 'comedy, cult, flashback, humor, satire, entertaining, blaxploitation', 'comedy, revenge, intrigue, murder, violence', 'atmospheric, revenge, murder, violence', 'comedy, cult, violence, flashback, psychedelic, entertaining', 'paranormal, suspenseful, storytelling, flashback', 'good versus evil, cult, violence, romantic', 'comedy, fantasy, cult, flashback, psychedelic, satire', 'suspenseful, violence, cult, romantic, flashback', 'revenge, fantasy, dark, murder, flashback', 'comedy, murder, flashback, humor, satire, revenge, entertaining', 'comedy, psychological, murder, violence, flashback, plot twist', 'dark, boring, home movie', 'romantic, action, fantasy', 'romantic, comedy, cute, entertaining, adult comedy', 'psychological, cruelty, murder, realism, paranormal, cult, violence, atmospheric, flashback, good versus evil, psychedelic, suspenseful, sadist', 'blaxploitation, revenge, neo noir, murder, violence', 'neo noir, murder, depressing, suicidal, flashback, revenge, storytelling', 'violence, stupid', 'comedy, murder, cult, violence, insanity, absurd, psychedelic, satire, comic, revenge, sadist, sci-fi', 'cult, prank, flashback', 'comedy, stupid, cult, humor, satire, entertaining', 'comedy, neo noir, murder, stupid, dramatic, cult, violence, flashback, good versus evil, action, romantic, tragedy, revenge', 'cult, humor, cute, sentimental', 'murder, cult, violence, flashback, psychedelic, revenge', 'violence, psychedelic, cruelty, sadist', 'comedy, mystery, murder, stupid, cult, revenge, violence, horror, plot twist, satire, suspenseful, entertaining, prank', 'dramatic, suspenseful, mystery, entertaining', 'romantic, depressing, historical, queer', 'cult, comedy, stupid, entertaining, prank', 'revenge, cult, romantic, flashback', 'cult, revenge, boring, violence, flashback', 'romantic, murder, prank', 'suspenseful, psychedelic, murder, flashback', 'good versus evil, violence, satire', 'avant garde, murder, anti war, violence, flashback, revenge, historical', 'paranormal, suspenseful, gothic, flashback', 'violence, sci-fi, flashback', 'tragedy, romantic, queer', 'comedy, suspenseful, cruelty, neo noir, murder, psychological, violence, insanity, claustrophobic, revenge, sadist', 'comedy, suspenseful, gothic, murder, paranormal, cult, violence, plot twist, flashback, good versus evil, psychedelic, humor, revenge', 'boring, gothic, murder, stupid, violence, cult, horror, action, revenge, sadist', 'mystery, murder, violence, flashback, humor, action, entertaining', 'pornographic, boring, cult, action, sci-fi, prank', 'comedy, murder, violence, flashback, good versus evil, psychedelic, humor, romantic, tragedy, revenge', 'mystery, suspenseful, cult, violence, good versus evil, action, tragedy, revenge', 'insanity, violence, cult, murder', 'psychedelic, sentimental, prank', 'comedy, boring, murder, stupid, violence, good versus evil, psychedelic, action, entertaining', 'good versus evil, violence, sadist', 'bleak, comedy, satire', 'entertaining, comedy, mystery, fantasy, whimsical, cult, alternate reality, clever, psychedelic, humor, romantic, alternate history, sci-fi', 'psychedelic, philosophical, romantic', 'paranormal, psychedelic, avant garde, magical realism', 'insanity, revenge, violence', 'insanity, murder, storytelling', 'entertaining, cult, action, psychedelic, murder', 'comedy, boring, fantasy, cult, flashback, psychedelic, revenge, storytelling, sentimental', 'cult, psychedelic, atmospheric, gothic, haunting', 'comedy, historical, romantic, flashback', 'insanity, psychedelic, murder', 'violence, cult, neo noir, murder, romantic', 'alternate reality, fantasy', 'comedy, cute, feel-good, good versus evil, satire, romantic, entertaining', 'comedy, fantasy, gothic, dark, cult, magical realism, flashback, psychedelic, satire, romantic, revenge, entertaining, storytelling', 'revenge, cult, comedy, murder, prank', 'horror, storytelling, home movie', 'comedy, neo noir, murder, cult, violence, psychedelic, satire, revenge, entertaining', 'tragedy, plot twist, murder', 'allegory, philosophical, flashback', 'neo noir, revenge, cult, gothic, atmospheric', 'boring, murder, dramatic, violence, flashback, romantic, historical, storytelling, prank', 'paranormal, insanity, romantic, sentimental, flashback', 'comedy, fantasy, dramatic, cute, flashback, feel-good, absurd, psychedelic, romantic, entertaining', 'boring, cruelty, philosophical', 'psychological, realism, murder, violence, flashback, revenge', 'mystery, psychological, murder', 'flashback, romantic, murder, violence, home movie', 'dark, suspenseful, gothic, murder, neo noir, mystery, psychological, dramatic, cult, violence, horror, atmospheric, plot twist, insanity, philosophical, tragedy, revenge, sadist', 'insanity, gothic, flashback', 'cute, fantasy, magical realism, boring, feel-good', 'comedy, cult, avant garde, dark', 'paranormal, insanity, violence', 'allegory, flashback', 'tragedy, dramatic, queer', 'good versus evil, cult, psychedelic, violence, romantic', 'melodrama, flashback, home movie', 'dark, grindhouse film, cruelty, murder, cult, horror, violence, suspenseful, sadist', 'good versus evil, absurd, cruelty, storytelling', 'cruelty, murder, violence, cult, flashback, romantic, tragedy, revenge, sadist', 'violence, pornographic, cult, murder, sadist', 'avant garde, cruelty, murder, mystery, absurd, psychedelic, romantic, sadist', 'fantasy, cult, good versus evil, psychedelic, romantic, revenge, sadist', 'comedy, boring, cult, good versus evil, psychedelic, humor, satire, revenge, entertaining', 'comedy, dark, gothic, murder, cult, violence, horror', 'murder, cult, violence, insanity, psychedelic, tragedy, suspenseful, historical', 'romantic, violence, murder, storytelling, flashback', 'neo noir, murder, violence, atmospheric, plot twist, suspenseful', 'inspiring, romantic, storytelling', 'dramatic, violence, boring, murder, flashback', 'bleak, violence, boring, flashback', 'cult, psychedelic, gothic, dark, humor', 'absurd, psychedelic, cult', 'comedy, psychological, fantasy, cult, clever, psychedelic, humor, satire, romantic, entertaining', 'cruelty, murder, cult, violence, historical fiction, flashback, sadist', 'cruelty, dramatic, violence, queer, flashback, brainwashing, romantic, prank', 'tragedy, avant garde, satire, murder, melodrama', 'violence, suspenseful, murder, boring, flashback', 'gothic, paranormal, cult, horror, flashback, psychedelic, revenge', 'dark, psychological', 'mystery, revenge, comedy, satire', 'comedy, allegory, cult, good versus evil, psychedelic, humor, satire, plot twist', 'romantic, intrigue, realism', 'violence, cult, psychedelic, murder, haunting', 'realism, murder, violence, satire, romantic, sci-fi', 'comedy, psychological, neo noir, cult, flashback, psychedelic, autobiographical, philosophical, brainwashing, romantic, sci-fi', 'violence, humor, satire, comedy', 'psychedelic, non fiction', 'humor, satire, murder', 'good versus evil, insanity, revenge', 'neo noir, cult, psychedelic, murder, romantic', 'cruelty, grindhouse film, murder, cult, violence, tragedy, revenge', 'revenge, neo noir, murder, plot twist, flashback', 'murder, violence, flashback, insanity, melodrama, tragedy, revenge', 'plot twist, intrigue', 'romantic, historical, storytelling, flashback', 'romantic, fantasy, satire', 'psychological, gothic, murder, cult, violence, horror, flashback, suspenseful', 'mystery, neo noir, murder, violence, intrigue, plot twist, suspenseful', 'romantic, cute, magical realism, entertaining', 'bleak, romantic, psychedelic, realism', 'pornographic, cruelty, murder, cult, horror, violence, insanity, suspenseful, sadist', 'sentimental, flashback', 'murder, violence, flashback, insanity, romantic, suspenseful', 'romantic, avant garde, violence, flashback', 'murder, stupid, paranormal, anti war, cult, violence, atmospheric, flashback, psychedelic, action, romantic, comic, revenge, alternate history, sci-fi', 'adult comedy, paranormal, violence, absurd, satire, romantic, revenge', 'gothic, sadist', 'good versus evil, cult, suspenseful', 'paranormal, sadist', 'anti war, murder, atmospheric', 'violence, psychological, claustrophobic, flashback', 'comedy, humor, neo noir, murder, violence', 'pornographic, cult, violence, flashback, satire, romantic, entertaining, queer', 'romantic, fantasy, satire, entertaining, humor', 'action, flashback', 'comedy, cult, flashback, absurd, humor, comic, revenge', 'paranormal, horror, gothic, depressing, fantasy', 'cult, romantic, prank', 'brainwashing, violence, avant garde, action, murder', 'tragedy, cult, murder, violence, plot twist', 'gothic, murder, realism, cult, violence, good versus evil, plot twist, sadist, sci-fi', 'realism, murder, flashback, satire, philosophical, romantic', 'violence, dark, humor, comedy, cult', 'revenge, gothic, murder, haunting', 'comedy, neo noir, murder, realism, cult, violence, plot twist, revenge', 'avant garde, murder, allegory, cult, violence, insanity, psychedelic, philosophical, romantic', 'fantasy, cult, intrigue, violence, good versus evil, action, sci-fi', 'psychedelic, prank, violence, flashback', 'paranormal, dark, cult, murder', 'murder, cult, horror, violence, good versus evil, insanity', 'comedy, murder, stupid, bleak, cult, horror, humor', 'cult, comedy, gothic, atmospheric', 'murder, paranormal, violence, good versus evil, psychedelic, humor', 'suspenseful, murder, violence, cult, action, revenge', 'flashback, murder, anti war, home movie', 'comedy, depressing', 'murder, flashback, insanity, romantic, sadist, sentimental', 'cruelty, murder, dramatic, cult, violence, atmospheric, action, romantic, revenge, sadist', 'comedy, psychological, murder, cult, psychedelic, suspenseful, sci-fi', 'tragedy, psychedelic', 'good versus evil, violence, action, romantic', 'cruelty, depressing, murder, violence, flashback, insanity', 'romantic, violence, murder, storytelling, melodrama', 'philosophical, romantic, sentimental, murder, flashback', 'comedy, entertaining, storytelling, romantic', 'comedy, avant garde, suspenseful, murder, neo noir, violence, flashback, psychedelic, romantic, revenge', 'good versus evil, violence, depressing, plot twist', 'mystery, cult, action, romantic', 'comedy, dark, cult, horror, humor, entertaining', 'dramatic, fantasy, inspiring', 'good versus evil, paranormal, revenge', 'violence, atmospheric, clever, good versus evil, action, entertaining, storytelling', 'atmospheric, comedy, murder, violence', 'paranormal, psychological', 'fantasy, mystery, murder, dramatic, violence, insanity, romantic, queer', 'paranormal, romantic, gothic, murder', 'violence, intrigue, historical, murder, flashback', 'dark, comedy, mystery, murder, paranormal, allegory, cult, violence, good versus evil, psychedelic, humor, satire, romantic, revenge', 'melodrama, flashback, plot twist, murder, home movie', 'murder, violence, cult, humor, romantic, tragedy, revenge', 'violence, psychedelic, mystery, murder, atmospheric', 'violence, comedy, entertaining, stupid', 'dark, cruelty, murder, neo noir, cult, sadist, violence, action, romantic, revenge, blaxploitation', 'comedy, alternate reality, psychedelic, entertaining', 'violence, realism, flashback', 'dark, dramatic, violence, flashback, humor, romantic', 'suspenseful, boring', 'comedy, cult, violence, psychedelic, action, humor', 'dark, boring, neo noir, murder, suspenseful, mystery, cult, violence, plot twist, flashback, clever, action, revenge, entertaining, storytelling', 'thought-provoking, melodrama, flashback', 'comedy, cult, violence, psychedelic, absurd, humor, satire', 'mystery, gothic, murder, paranormal, violence, horror, good versus evil, suspenseful', 'entertaining, violence, humor, comedy, flashback', 'boring, stupid, cult, clever, absurd, humor, psychedelic', 'comedy, dark, murder, cult, violence, atmospheric', 'suspenseful, murder, historical fiction, flashback, claustrophobic, romantic', 'violence, cult, psychological, entertaining, suspenseful', 'suspenseful, murder, bleak, violence, cult, atmospheric, romantic, revenge', 'good versus evil, cult, revenge, neo noir, murder', 'cruelty, murder, violence, cult, romantic, revenge', 'neo noir, murder, dramatic, violence, psychedelic, philosophical', 'romantic, horror, neo noir', 'comedy, fantasy, murder, suicidal, violence, flashback, tragedy', 'insanity, dark, murder, haunting', 'revenge, horror, murder, romantic, flashback', 'good versus evil, violence, comedy, action, murder', 'murder, stupid, western, violence, alternate reality, flashback, good versus evil, revenge, sci-fi', 'fantasy, mystery, cult, cute, good versus evil, humor', 'magical realism, melodrama', 'comedy, mystery, neo noir, murder, boring, allegory, cult, violence, flashback, psychedelic, action, romantic, tragedy, revenge, entertaining', 'comedy, mystery, gothic, intrigue, insanity, psychedelic', 'comedy, avant garde, bleak, cult, absurd, psychedelic, melodrama', 'good versus evil, absurd, cult, comedy', 'boring, depressing, thought-provoking, alternate reality, atmospheric, flashback, romantic, alternate history, sentimental', 'psychological, sadist', 'fantasy, whimsical, flashback, psychedelic, melodrama, storytelling', 'tragedy, violence, action, murder, historical fiction', 'whimsical, cult, cute, violence, humor, entertaining', 'brainwashing, absurd, satire, murder, violence', 'comedy, cult, psychedelic, humor, satire, comic', 'suspenseful, murder, atmospheric', 'melodrama, violence, satire, murder, flashback', 'romantic, entertaining, stupid', 'anti war, flashback', 'romantic, humor, realism', 'cult, horror, murder, violence, revenge', 'comedy, whimsical, flashback, absurd, humor, satire, philosophical, romantic', 'cult, comedy, romantic, stupid', 'comedy, suspenseful, murder, violence, good versus evil, revenge', 'neo noir, murder, violence, flashback, tragedy, revenge, sadist', 'dramatic, romantic, boring, comedy', 'atmospheric, melodrama', 'inspiring, cruelty, storytelling', 'good versus evil, fantasy, entertaining', 'comedy, boring, cult, flashback, psychedelic, humor, satire, philosophical, revenge, entertaining', 'neo noir, murder, paranormal, violence, flashback, revenge', 'suspenseful, cult, revenge, murder, violence', 'bleak, cute, realism, sci-fi', 'comedy, fantasy, murder, alternate reality, good versus evil, psychedelic, romantic', 'intrigue, murder, storytelling, flashback', 'romantic, comedy, adult comedy, flashback', 'neo noir, murder, violence, intrigue, flashback, historical', 'comedy, revenge, cult, satire, murder', 'violence, historical, murder, romantic', 'violence, comedy, humor, comic', 'cult, romantic, melodrama', 'absurd, cult, comedy, humor', 'comedy, satire, depressing', 'romantic, boring, neo noir, murder, violence', 'insanity, revenge, murder, romantic', 'psychedelic, cult, murder, violence, home movie', 'comedy, psychological, murder, flashback, psychedelic, satire', 'murder, cult, atmospheric, flashback, romantic, revenge', 'tragedy, cult, horror, violence, plot twist', 'inspiring, cult, comedy, entertaining, feel-good', 'pornographic, cult, psychological, cruelty', 'neo noir, murder, violence, alternate reality, good versus evil, romantic', 'good versus evil, cult, suspenseful, murder', 'realism, murder, cult, violence, atmospheric, revenge', 'good versus evil, revenge, suspenseful, murder, violence', 'murder, revenge, humor, comedy, violence', 'dramatic, violence, inspiring', 'suspenseful, realism, atmospheric, flashback', 'romantic, storytelling, sentimental', 'suspenseful, murder, violence, intrigue, flashback, humor, brainwashing, revenge', 'comedy, mystery, avant garde, cult, violence, psychedelic', 'anti war, storytelling, flashback', 'cult, suspenseful, claustrophobic', 'comedy, murder, paranormal, violence, romantic, revenge', 'depressing, murder, bleak, plot twist, tragedy, revenge', 'depressing, dramatic, feel-good, inspiring, historical, storytelling, sentimental', 'dramatic, revenge, action, inspiring, violence', 'suspenseful, psychological, neo noir', 'dark, murder, dramatic, violence, anti war, action, brainwashing', 'violence, queer, murder, romantic, flashback', 'comedy, avant garde, cruelty, cult, violence, psychedelic, satire', 'cult, horror, revenge, good versus evil, romantic, entertaining', 'thought-provoking, violence, action, murder', 'pornographic, psychedelic, satire', 'pornographic, psychological, murder, violence, flashback, psychedelic, philosophical, romantic', 'entertaining, revenge, comedy, murder, melodrama', 'comedy, boring, psychedelic, entertaining, stupid', 'dramatic, boring, historical, murder', 'good versus evil, revenge, psychedelic, romantic', 'murder, atmospheric, flashback, psychedelic, humor, revenge', 'dark, cruelty, murder, western, cult, violence, sadist', 'comedy, neo noir, murder, dramatic, cult, violence, flashback, action, revenge, entertaining, storytelling', 'mystery, murder, western, dramatic, cult, revenge, violence, flashback, insanity, action, suspenseful, sadist', 'romantic, action, cruelty, murder', 'cult, suspenseful, violence, flashback', 'tragedy, comedy, violence', 'gothic, murder, paranormal, cult, flashback, revenge', 'comedy, mystery, neo noir, murder, cult, revenge, violence, humor, suspenseful', 'suspenseful, comedy, neo noir, boring', 'comedy, boring, neo noir, flashback, good versus evil, revenge', 'dark, mystery, neo noir, murder, violence, satire', 'revenge, depressing, murder', 'comedy, adult comedy, cute, absurd, action, suspenseful, entertaining', 'comedy, fantasy, paranormal, allegory, cult, humor, action', 'cruelty, murder, paranormal, violence, flashback, romantic, revenge', 'insanity, horror, murder, flashback', 'dark, avant garde, neo noir, murder, mystery, boring, dramatic, cult, violence, atmospheric, psychedelic, plot twist', 'brainwashing, violence, avant garde, satire, murder', 'suspenseful, mystery, psychedelic, humor, stupid', 'murder, violence, melodrama, tragedy, revenge, sadist', 'violence, flashback, good versus evil, action, tragedy, revenge, historical, storytelling', 'boring, murder, paranormal, allegory, bleak, psychedelic', 'dark, boring, neo noir, gothic, murder, fantasy, mystery, dramatic, cult, atmospheric, action, philosophical, romantic, blaxploitation, sci-fi', 'neo noir, murder, violence, cult, revenge, sadist', 'comedy, murder, cult, violence, psychedelic, revenge, sci-fi', 'romantic, neo noir, murder, sadist, flashback', 'violence, revenge, murder, historical fiction', 'mystery, neo noir, murder, violence, action, suspenseful', 'comedy, romantic, fantasy, entertaining', 'paranormal, comedy, romantic, flashback', 'good versus evil, psychedelic, action, violence', 'violence, intrigue, murder', 'cult, humor, murder, violence', 'suspenseful, cult, revenge, psychedelic, violence', 'dark, psychological, suspenseful, murder, mystery, stupid, dramatic, cult, alternate reality, violence, thought-provoking, flashback, insanity, psychedelic, romantic, revenge, sadist, home movie', 'tragedy, prank, flashback', 'comedy, cult, horror, violence, action, humor', 'comedy, suspenseful, neo noir, murder, cult, violence, atmospheric, psychedelic, revenge', 'romantic, fantasy, alternate history', 'boring, murder, violence, cult, psychedelic, entertaining, sadist, sci-fi', 'good versus evil, cruelty, storytelling', 'romantic, cute, sentimental', 'revenge, cult, grindhouse film, murder, violence', 'cult, humor, murder, atmospheric', 'alternate reality, philosophical, murder', 'paranormal, dark, horror, gothic, haunting', 'mystery, boring, murder, flashback', 'cult, comedy, boring, stupid', 'suspenseful, psychedelic, suicidal', 'fantasy, murder, whimsical, cult, good versus evil, humor, action, revenge', 'tragedy, dramatic, sentimental, flashback', 'comedy, bleak, cult, absurd, satire, brainwashing', 'good versus evil, cult, fantasy, gothic, violence', 'western, cult, murder, violence, romantic', 'dark, cruelty, murder, adult comedy, cult, violence, revenge, sadist', 'neo noir, realism, murder, violence, atmospheric, suspenseful', 'dark, fantasy, gothic, mystery, cult, violence, good versus evil, insanity, action, satire, comic, tragedy, revenge', 'comedy, boring, fantasy, dramatic, cult, sentimental', 'mystery, murder, paranormal, good versus evil, action, romantic', 'pornographic, cruelty, murder, cult, horror, violence', 'psychological, satire, flashback', 'murder, thought-provoking, alternate reality, psychedelic, action, revenge, sci-fi', 'mystery, neo noir, murder, cult, absurd, psychedelic, plot twist', 'fantasy, mystery, murder, allegory, cult, violence, flashback, psychedelic, action, comic, entertaining', 'comedy, murder, cult, violence, psychedelic, satire, romantic, storytelling', 'comedy, avant garde, dark, murder, cult, horror, violence, haunting, atmospheric, good versus evil, psychedelic, humor, tragedy, suspenseful, sadist', 'bleak, atmospheric, cult, murder, violence', 'realism, claustrophobic', 'tragedy, plot twist, haunting', 'revenge, suspenseful, murder, romantic', 'murder, violence, flashback, action, revenge, entertaining', 'comedy, boring, dark, murder, clever, satire, romantic, entertaining', 'violence, brainwashing, psychedelic, romantic, flashback', 'comedy, murder, allegory, violence, flashback, revenge', 'romantic, alternate reality, cute', 'revenge, psychedelic, romantic, flashback', 'boring, murder, whimsical, cult, psychedelic, satire, romantic', 'violence, dark, murder, flashback', 'psychedelic, entertaining, clever', 'bleak, dark, comedy, humor', 'dark, suspenseful, cruelty, murder, romantic, revenge, prank', 'cute, fantasy, entertaining', 'cult, mystery, murder, plot twist', 'comedy, mystery, suspenseful, murder, cult, violence, horror, good versus evil, insanity, satire, romantic, revenge, sadist, prank', 'revenge, murder, prank', 'comedy, neo noir, cruelty, murder, violence, storytelling', 'romantic, violence, prank', 'pornographic, revenge', 'comedy, cult, violence, feel-good, psychedelic, action, revenge', 'cult, satire, romantic', 'revenge, entertaining, romantic', 'murder, stupid, violence, flashback, psychedelic, action, entertaining', 'mystery, neo noir, murder, violence, revenge, action, suspenseful', 'good versus evil, violence, cult, action, tragedy', 'comedy, dark, murder, cult, satire, revenge', 'allegory, violence, murder', 'romantic, comedy, storytelling', 'violence, revenge, historical fiction, murder, flashback', 'violence, intrigue, romantic, flashback', 'good versus evil, cult, psychedelic, murder, violence', 'realism, romantic, murder, flashback', 'suspenseful, boring, psychedelic, violence', 'comedy, murder, cult, violence, flashback, absurd, psychedelic, action, philosophical, romantic, entertaining', 'tragedy, inspiring, romantic, sentimental', 'comedy, violence, historical fiction, good versus evil, action, revenge, sci-fi', 'good versus evil, insanity, cult, murder, violence', 'romantic, revenge, murder, atmospheric, plot twist', 'good versus evil, insanity', 'depressing, murder, dramatic, violence, philosophical, romantic', 'violence, cult, murder, atmospheric', 'psychological, thought-provoking, flashback, psychedelic, autobiographical, historical, storytelling, sentimental', 'boring, murder, good versus evil, romantic, tragedy, inspiring, revenge, entertaining', 'realism, murder, violence, cult, horror, sadist', 'boring, neo noir, murder, alternate reality, atmospheric, psychedelic, romantic, sci-fi', 'comedy, murder, adult comedy, humor, satire, entertaining', 'romantic, depressing, atmospheric, melodrama', 'melodrama, insanity, suspenseful, murder, flashback', 'romantic, depressing, home movie', 'boring, cult, violence, atmospheric, flashback, home movie', 'comedy, adult comedy, stupid, bleak, cult, psychedelic, humor, romantic, revenge, entertaining', 'pornographic, satire', 'mystery, suspenseful, murder, violence, flashback, revenge', 'comedy, dark, neo noir, murder, fantasy, thought-provoking, cult, alternate reality, atmospheric, insanity, psychedelic, absurd, satire, humor, sci-fi', 'fantasy, action, murder', 'cruelty, murder, paranormal, cult, violence, good versus evil, psychedelic, revenge, sadist', 'entertaining, revenge, comedy, murder, flashback', 'violence, boring, historical, murder, sadist', 'mystery, suspenseful, humor, murder', 'revenge, murder, violence, melodrama', 'tragedy, revenge, murder, violence, romantic', 'comedy, murder, cult, alternate reality, psychedelic, satire, alternate history', 'fantasy, cult, violence, good versus evil, insanity, revenge']\n"
     ]
    }
   ],
   "source": [
    "print(len(df1))\n",
    "print(df1.shape)\n",
    "a=df1['Genre'].value_counts()[:500]\n",
    "b=a.keys().tolist()\n",
    "print(b)\n",
    "df1=df1[df1.Genre.isin(b)]\n",
    "df1=df1.reset_index(drop=True)\n",
    "print(len(df2))\n",
    "print(df2.shape)\n",
    "c=df2['tags'].value_counts()[:2000]\n",
    "d=c.keys().tolist()\n",
    "print(d)\n",
    "df2=df2[df2.tags.isin(d)]\n",
    "df2=df2.reset_index(drop=True)"
   ]
  },
  {
   "cell_type": "code",
   "execution_count": 247,
   "metadata": {},
   "outputs": [
    {
     "name": "stdout",
     "output_type": "stream",
     "text": [
      "0    film opens two bandits breaking railroad teleg...\n",
      "1    film family move suburbs hoping quiet life thi...\n",
      "2    rarebit fiend gorges welsh rarebit restaurant ...\n",
      "3    irish villager kathleen tenant captain clearfi...\n",
      "4    boone daughter befriends indian maiden boone c...\n",
      "5    heading baseball game nearby ballpark sports f...\n",
      "6    plot black woman going dentist toothache given...\n",
      "7    beautiful summer day father mother take daught...\n",
      "8    thug accosts girl leaves workplace man rescues...\n",
      "9    young couple decides elope caught midst romant...\n",
      "Name: Plot, dtype: object\n",
      "0    two thousand years ago nhagruul foul sorcerer ...\n",
      "1    matuschek gift store budapest workplace alfred...\n",
      "2    may cuban man named tony montana al pacino cla...\n",
      "3    george falconer colin firth approaches car acc...\n",
      "4    small time italian american criminals caesar e...\n",
      "5    movie begins video shot men hands tied behind ...\n",
      "6    action takes place years sweden troubled year ...\n",
      "7    somafree institute dr hal raglan humiliates pa...\n",
      "8    brothers terry colin farrell ian ewan mcgregor...\n",
      "9    arrival train pulls station north china soldie...\n",
      "Name: plot_synopsis, dtype: object\n"
     ]
    }
   ],
   "source": [
    "def plotToWords(raw_plot):\n",
    "    letters_only = re.sub(\"[^a-zA-Z]\", \" \", raw_plot)\n",
    "    lower_case = letters_only.lower()\n",
    "    words = lower_case.split()\n",
    "    stops = set(stopwords.words(\"english\"))\n",
    "    meaningful_words = [w for w in words if not w in stops]\n",
    "    return (\" \".join(meaningful_words))\n",
    "\n",
    "def preprocess(dataframe):\n",
    "    clean_train_reviews = []\n",
    "    for i in range(0,len(dataframe)):\n",
    "        clean_train_reviews.append(plotToWords(dataframe.iloc[i]['Plot']))\n",
    "    dataframe['Plot']=clean_train_reviews\n",
    "    return dataframe\n",
    "def preprocess2(dataframe):\n",
    "    clean_train_reviews = []\n",
    "    for i in range(0,len(dataframe)):\n",
    "        clean_train_reviews.append(plotToWords(dataframe.iloc[i]['plot_synopsis']))\n",
    "    dataframe['plot_synopsis']=clean_train_reviews\n",
    "    return dataframe\n",
    "\n",
    "df1=preprocess(df1)\n",
    "print(df1[\"Plot\"][:10])\n",
    "df2=preprocess2(df2)\n",
    "print(df2[\"plot_synopsis\"][:10])\n",
    "\n"
   ]
  },
  {
   "cell_type": "code",
   "execution_count": 248,
   "metadata": {},
   "outputs": [
    {
     "data": {
      "text/plain": [
       "(26825, 10000)"
      ]
     },
     "execution_count": 248,
     "metadata": {},
     "output_type": "execute_result"
    }
   ],
   "source": [
    "from sklearn.feature_extraction.text import TfidfVectorizer\n",
    "tfidf = TfidfVectorizer(sublinear_tf=True, min_df=5, norm='l2', encoding='latin-1', ngram_range=(1, 2), max_features=10000)\n",
    "features = tfidf.fit_transform(df1.Plot).toarray()\n",
    "labels = df1.Genre\n",
    "features.shape"
   ]
  },
  {
   "cell_type": "code",
   "execution_count": 249,
   "metadata": {},
   "outputs": [
    {
     "data": {
      "text/plain": [
       "(11224, 10000)"
      ]
     },
     "execution_count": 249,
     "metadata": {},
     "output_type": "execute_result"
    }
   ],
   "source": [
    "tfidf2 = TfidfVectorizer(sublinear_tf=True, min_df=5, norm='l2', encoding='latin-1', ngram_range=(1, 2), max_features=10000)\n",
    "features2 = tfidf2.fit_transform(df2.plot_synopsis).toarray()\n",
    "labels2 = df2.tags\n",
    "features2.shape"
   ]
  },
  {
   "cell_type": "code",
   "execution_count": 250,
   "metadata": {},
   "outputs": [],
   "source": [
    "X_train, X_test, y_train, y_test = train_test_split(df1['Plot'], df1['Genre'], random_state = 0)"
   ]
  },
  {
   "cell_type": "code",
   "execution_count": null,
   "metadata": {},
   "outputs": [],
   "source": [
    "from sklearn.model_selection import train_test_split\n",
    "from sklearn.feature_extraction.text import CountVectorizer\n",
    "from sklearn.feature_extraction.text import TfidfTransformer\n",
    "from sklearn.naive_bayes import MultinomialNB\n",
    "import random\n",
    "X_train, X_test, y_train, y_test = train_test_split(df1['Plot'], df1['Genre'], random_state = 0)\n",
    "count_vect = CountVectorizer()\n",
    "X_train_counts = count_vect.fit_transform(X_train)\n",
    "tfidf_transformer = TfidfTransformer()\n",
    "X_train_tfidf = tfidf_transformer.fit_transform(X_train_counts)\n",
    "clf = MultinomialNB().fit(X_train_tfidf, y_train)"
   ]
  },
  {
   "cell_type": "code",
   "execution_count": null,
   "metadata": {},
   "outputs": [],
   "source": [
    "#VERY MEMORY / CPU INTENSIVE\n",
    "#RUN ONLY ON A GOOD MACHINE!\n",
    "\n",
    "#X_train2, X_test2, y_train2, y_test2 = train_test_split(df2['plot_synopsis'], df2['tags'], random_state = 0)\n",
    "#count_vect2 = CountVectorizer()\n",
    "#X_train_counts2 = count_vect2.fit_transform(X_train2)\n",
    "#tfidf_transformer2 = TfidfTransformer()\n",
    "#X_train_tfidf2 = tfidf_transformer2.fit_transform(X_train_counts2)\n",
    "#clf2 = MultinomialNB().fit(X_train_tfidf2, y_train2)"
   ]
  },
  {
   "cell_type": "markdown",
   "metadata": {},
   "source": [
    "Can now use model to generate tags for a given description. The code below generates a random element in the MPST dataset for the synopsis and then attempts to find the best tags using the model. It has an intrinsic preference towards \"horror\" and \"sexploitation\" movies for some reason (sexploitation appears in the top 3 tags 90%+ of the time) - considering that \"sex sells\" in Hollywood, this is to be expected from the Wikipedia training dataset."
   ]
  },
  {
   "cell_type": "code",
   "execution_count": 187,
   "metadata": {},
   "outputs": [
    {
     "name": "stdout",
     "output_type": "stream",
     "text": [
      "Top 3 (descending order) predictions for the primary tags are: \n",
      "['fantasy romance', 'drama / action', 'action/drama']\n",
      "Best / Actual associated tags: \n",
      "['comedy, entertaining']\n",
      "Title: \n",
      "['Small Time Crooks']\n"
     ]
    },
    {
     "data": {
      "image/png": "[encoded data removed]",
      "text/plain": [
       "<Figure size 432x288 with 1 Axes>"
      ]
     },
     "metadata": {
      "needs_background": "light"
     },
     "output_type": "display_data"
    }
   ],
   "source": [
    "elem = random.randint(0,11223)\n",
    "test = [df2['plot_synopsis'][elem]]\n",
    "actual = [df2['tags'][elem]] \n",
    "title = [df2['title'][elem]]\n",
    "print('Top 3 (descending order) predictions for the primary tags are: ')\n",
    "preds = np.argsort(clf.predict_proba(count_vect.transform(test)),axis=1)[:,-3:]\n",
    "vals = [b[i] for i in preds.flatten()]\n",
    "print(vals)\n",
    "print('Best / Actual associated tags: ')\n",
    "print(actual)\n",
    "print('Title: ')\n",
    "print(title)\n",
    "import wordcloud\n",
    "wordc = wordcloud.WordCloud().generate(str(test))\n",
    "plt.imshow(wordc, interpolation='bilinear')\n",
    "plt.axis(\"off\")\n",
    "plt.show()"
   ]
  },
  {
   "cell_type": "code",
   "execution_count": 251,
   "metadata": {},
   "outputs": [],
   "source": [
    "#generate vocabulary / counts for every word in the wikipedia dataset\n",
    "from collections import Counter\n",
    "from itertools import chain\n",
    "def get_vocab(lst):\n",
    "    vocabcount = Counter(w for txt in lst for w in txt.split())\n",
    "    vocab = list(map(lambda x: x[0], sorted(vocabcount.items(), key=lambda x: -x[1])))\n",
    "    return vocab, vocabcount"
   ]
  },
  {
   "cell_type": "code",
   "execution_count": 252,
   "metadata": {},
   "outputs": [],
   "source": [
    "vocab, vocabcount = get_vocab(df1['Title']+\" \"+ df1['Plot'])"
   ]
  },
  {
   "cell_type": "code",
   "execution_count": 253,
   "metadata": {},
   "outputs": [
    {
     "name": "stdout",
     "output_type": "stream",
     "text": [
      "['one', 'back', 'father', 'two', 'tells', 'man', 'home', 'new', 'love', 'later', 'time', 'get', 'house', 'also', 'police', 'family', 'life', 'finds', 'find', 'mother', 'however', 'day', 'goes', 'takes', 'wife', 'film', 'go', 'away', 'take', 'help', 'night', 'son', 'money', 'gets', 'tries', 'first', 'friend', 'killed', 'men', 'death', 'young', 'car', 'next', 'daughter', 'becomes', 'old', 'leave', 'leaves', 'decides', 'another']\n",
      "... 133086\n"
     ]
    }
   ],
   "source": [
    "voclist = vocab\n",
    "print(voclist[:50])\n",
    "print('...',len(voclist))"
   ]
  },
  {
   "attachments": {
    "image.png": {
     "image/png": "[encoded data removed]"
    }
   },
   "cell_type": "markdown",
   "metadata": {},
   "source": [
    "There are a few words which have a very high frequency (i.e. adverbs and words like \"the\" in English), so the distribution is very heavily sqewed towards them.\n",
    "![image.png](attachment:image.png)"
   ]
  },
  {
   "cell_type": "code",
   "execution_count": 15,
   "metadata": {},
   "outputs": [
    {
     "data": {
      "text/plain": [
       "Text(0, 0.5, 'Frequency')"
      ]
     },
     "execution_count": 15,
     "metadata": {},
     "output_type": "execute_result"
    },
    {
     "data": {
      "image/png": "[encoded data removed]",
      "text/plain": [
       "<Figure size 432x288 with 1 Axes>"
      ]
     },
     "metadata": {
      "needs_background": "light"
     },
     "output_type": "display_data"
    }
   ],
   "source": [
    "plt.plot([vocabcount[w] for w in voclist])\n",
    "plt.gca().set_xscale('log',nonposx='clip')\n",
    "plt.gca().set_yscale('log',nonposy='clip')\n",
    "plt.title('Distribution of word counts in descending order')\n",
    "plt.xlabel('Rank')\n",
    "plt.ylabel('Frequency')"
   ]
  },
  {
   "cell_type": "code",
   "execution_count": 254,
   "metadata": {},
   "outputs": [],
   "source": [
    "empty = 0\n",
    "eos = 1\n",
    "start_idx = eos+1\n",
    "def get_idx(voc1, voc2):#vocab and vocabcount\n",
    "    word2idx = dict((word, idx+start_idx) for idx,word in enumerate(vocab))\n",
    "    word2idx['<empty>']=empty\n",
    "    word2idx['<eos>']=eos\n",
    "    idx2word = dict((idx,word) for word,idx in word2idx.items())\n",
    "    return word2idx, idx2word\n",
    "word2idx, idx2word = get_idx(vocab, vocabcount)"
   ]
  },
  {
   "cell_type": "code",
   "execution_count": 255,
   "metadata": {},
   "outputs": [],
   "source": [
    "FN = 'vocabulary-embedding'\n",
    "vocab_size = 40000\n",
    "embedding_dim = 100\n",
    "lower = False # dont lower case the text"
   ]
  },
  {
   "cell_type": "code",
   "execution_count": 256,
   "metadata": {},
   "outputs": [],
   "source": [
    "import keras\n",
    "import os\n",
    "import pickle\n",
    "\n",
    "maxlend=25\n",
    "maxlenh=25\n",
    "maxlen = maxlend + maxlenh\n",
    "rnn_size = 512\n",
    "rnn_layers = 3\n",
    "batch_norm = False\n",
    "activation_rnn_size = 40 if maxlend else 0\n",
    "\n",
    "seed = 130\n",
    "p_W, p_U, p_dense, weight_decay = 0,0,0,0\n",
    "optimizer = 'adam'\n",
    "LR = 1e-4\n",
    "batch_size = 64\n",
    "nflips = 10\n",
    "nb_train_samples = 30000\n",
    "nb_val_samples = 3000"
   ]
  },
  {
   "cell_type": "markdown",
   "metadata": {},
   "source": [
    "The code below will download some pretrained GloVe embedding (~800MB), so make sure you have enough space."
   ]
  },
  {
   "cell_type": "code",
   "execution_count": 257,
   "metadata": {},
   "outputs": [
    {
     "name": "stdout",
     "output_type": "stream",
     "text": [
      "unzip:  cannot find or open /home/albert/.keras/datasets//home/albert/.keras/datasets/glove.6B.zip, /home/albert/.keras/datasets//home/albert/.keras/datasets/glove.6B.zip.zip or /home/albert/.keras/datasets//home/albert/.keras/datasets/glove.6B.zip.ZIP.\r\n"
     ]
    }
   ],
   "source": [
    "fname = 'glove.6B.%dd.txt'%embedding_dim\n",
    "import os\n",
    "datadir_base = os.path.expanduser(os.path.join('~', '.keras'))\n",
    "if not os.access(datadir_base, os.W_OK):\n",
    "    datadir_base = os.path.join('/NLPStuff', '.keras')\n",
    "datadir = os.path.join(datadir_base, 'datasets')\n",
    "glove_name = os.path.join(datadir, fname)\n",
    "if not os.path.exists(glove_name):\n",
    "    path = 'glove.6B.zip'\n",
    "    path = keras.utils.get_file(path, origin=\"http://nlp.stanford.edu/data/glove.6B.zip\")\n",
    "    !unzip {datadir}/{path}"
   ]
  },
  {
   "cell_type": "code",
   "execution_count": 258,
   "metadata": {},
   "outputs": [
    {
     "data": {
      "text/plain": [
       "400000"
      ]
     },
     "execution_count": 258,
     "metadata": {},
     "output_type": "execute_result"
    }
   ],
   "source": [
    "glove_n_symbols = ['400000', 'glove.6B.100d.txt']\n",
    "glove_n_symbols = int(glove_n_symbols[0].split()[0])\n",
    "glove_n_symbols"
   ]
  },
  {
   "cell_type": "code",
   "execution_count": 259,
   "metadata": {},
   "outputs": [],
   "source": [
    "glove_index_dict = {}\n",
    "glove_embedding_weights = np.empty((glove_n_symbols, embedding_dim))\n",
    "globale_scale=.1\n",
    "with open('/home/albert/Documents/NLPStuff/glove.6B.100d.txt', 'r') as fp:\n",
    "    i = 0\n",
    "    for l in fp:\n",
    "        l = l.strip().split()\n",
    "        w = l[0]\n",
    "        glove_index_dict[w] = i\n",
    "        glove_embedding_weights[i,:] = [float(i) for i in l[1:]]\n",
    "        i += 1\n",
    "glove_embedding_weights *= globale_scale"
   ]
  },
  {
   "cell_type": "code",
   "execution_count": 260,
   "metadata": {},
   "outputs": [
    {
     "data": {
      "text/plain": [
       "0.04081572760019029"
      ]
     },
     "execution_count": 260,
     "metadata": {},
     "output_type": "execute_result"
    }
   ],
   "source": [
    "glove_embedding_weights.std()"
   ]
  },
  {
   "cell_type": "code",
   "execution_count": 261,
   "metadata": {},
   "outputs": [],
   "source": [
    "for w,i in glove_index_dict.items():\n",
    "    w = w.lower()\n",
    "    if w not in glove_index_dict:\n",
    "        glove_index_dict[w] = i"
   ]
  },
  {
   "cell_type": "code",
   "execution_count": 262,
   "metadata": {},
   "outputs": [],
   "source": [
    "import numpy as np\n",
    "\n",
    "# generate random embedding with same scale as glove\n",
    "np.random.seed(seed)\n",
    "shape = (vocab_size, embedding_dim)\n",
    "scale = glove_embedding_weights.std()*np.sqrt(12)/2 # uniform and not normal\n",
    "embedding = np.random.uniform(low=-scale, high=scale, size=shape)\n",
    "#print 'random-embedding/glove scale', scale, 'std', embedding.std()\n",
    "\n",
    "# copy from glove weights of words that appear in our short vocabulary (idx2word)\n",
    "c = 0\n",
    "for i in range(vocab_size):\n",
    "    w = idx2word[i]\n",
    "    g = glove_index_dict.get(w, glove_index_dict.get(w.lower()))\n",
    "    if g is None and w.startswith('#'): # glove has no hastags (I think...)\n",
    "        w = w[1:]\n",
    "        g = glove_index_dict.get(w, glove_index_dict.get(w.lower()))\n",
    "    if g is not None:\n",
    "        embedding[i,:] = glove_embedding_weights[g,:]\n",
    "        c+=1\n",
    "#print 'number of tokens, in small vocab, found in glove and copied to embedding', c,c/float(vocab_size)"
   ]
  },
  {
   "cell_type": "code",
   "execution_count": 263,
   "metadata": {},
   "outputs": [],
   "source": [
    "glove_thr = 0.5"
   ]
  },
  {
   "cell_type": "code",
   "execution_count": 264,
   "metadata": {},
   "outputs": [],
   "source": [
    "word2glove = {}\n",
    "for w in word2idx:\n",
    "    if w in glove_index_dict:\n",
    "        g = w\n",
    "    elif w.lower() in glove_index_dict:\n",
    "        g = w.lower()\n",
    "    elif w.startswith('#') and w[1:] in glove_index_dict:\n",
    "        g = w[1:]\n",
    "    elif w.startswith('#') and w[1:].lower() in glove_index_dict:\n",
    "        g = w[1:].lower()\n",
    "    else:\n",
    "        continue\n",
    "    word2glove[w] = g"
   ]
  },
  {
   "cell_type": "code",
   "execution_count": 265,
   "metadata": {},
   "outputs": [],
   "source": [
    "normed_embedding = embedding/np.array([np.sqrt(np.dot(gweight,gweight)) for gweight in embedding])[:,None]\n",
    "\n",
    "nb_unknown_words = 100\n",
    "\n",
    "glove_match = []\n",
    "for w,idx in word2idx.items():\n",
    "    if idx >= vocab_size-nb_unknown_words and w.isalpha() and w in word2glove:\n",
    "        gidx = glove_index_dict[word2glove[w]]\n",
    "        gweight = glove_embedding_weights[gidx,:].copy()\n",
    "        # find row in embedding that has the highest cos score with gweight\n",
    "        gweight /= np.sqrt(np.dot(gweight,gweight))\n",
    "        score = np.dot(normed_embedding[:vocab_size-nb_unknown_words], gweight)\n",
    "        while True:\n",
    "            embedding_idx = score.argmax()\n",
    "            s = score[embedding_idx]\n",
    "            if s < glove_thr:\n",
    "                break\n",
    "            if idx2word[embedding_idx] in word2glove :\n",
    "                glove_match.append((w, embedding_idx, s)) \n",
    "                break\n",
    "            score[embedding_idx] = -1\n",
    "glove_match.sort(key = lambda x: -x[2])\n",
    "#print '# of glove substitutes found', len(glove_match)"
   ]
  },
  {
   "cell_type": "code",
   "execution_count": 266,
   "metadata": {},
   "outputs": [
    {
     "name": "stdout",
     "output_type": "stream",
     "text": [
      "0.5000685448399776 dra => oma\n",
      "0.5000607347981839 zanu => hun\n",
      "0.5000436838232104 scoping => sketching\n",
      "0.5000385737334746 retinitis => vampirism\n",
      "0.5000243915959445 ambler => hardwick\n",
      "0.5000226675890262 campanile => eiffel\n",
      "0.5000218830094101 housewarming => sleepover\n",
      "0.5000216352057297 grassed => roped\n",
      "0.500009203565768 CQ => deletes\n",
      "0.5000055595011661 cheapskate => dude\n"
     ]
    }
   ],
   "source": [
    "for orig, sub, score in glove_match[-10:]:\n",
    "    print(score, orig,'=>', idx2word[sub])"
   ]
  },
  {
   "cell_type": "code",
   "execution_count": 267,
   "metadata": {},
   "outputs": [],
   "source": [
    "glove_idx2idx = dict((word2idx[w],embedding_idx) for  w, embedding_idx, _ in glove_match)"
   ]
  },
  {
   "cell_type": "code",
   "execution_count": 268,
   "metadata": {},
   "outputs": [],
   "source": [
    "nb_unknown_words = 10"
   ]
  },
  {
   "cell_type": "code",
   "execution_count": 269,
   "metadata": {},
   "outputs": [
    {
     "name": "stdout",
     "output_type": "stream",
     "text": [
      "vocabulary size 40000 the last 10 words can be used as place holders for unknown/oov words\n",
      "total number of different words 133088 133088\n",
      "number of words outside vocabulary which we can substitue using glove similarity 52454\n",
      "number of words that will be regarded as unknonw(unk)/out-of-vocabulary(oov) 40634\n"
     ]
    }
   ],
   "source": [
    "print('vocabulary size', vocab_size, 'the last %d words can be used as place holders for unknown/oov words'%nb_unknown_words)\n",
    "print('total number of different words',len(idx2word), len(word2idx))\n",
    "print('number of words outside vocabulary which we can substitue using glove similarity', len(glove_idx2idx))\n",
    "print('number of words that will be regarded as unknonw(unk)/out-of-vocabulary(oov)',len(idx2word)-vocab_size-len(glove_idx2idx))"
   ]
  },
  {
   "cell_type": "code",
   "execution_count": 270,
   "metadata": {},
   "outputs": [],
   "source": [
    "for i in range(nb_unknown_words):\n",
    "    idx2word[vocab_size-1-i] = '<%d>'%i\n",
    "oov0 = vocab_size-nb_unknown_words"
   ]
  },
  {
   "cell_type": "code",
   "execution_count": 271,
   "metadata": {},
   "outputs": [],
   "source": [
    "for i in range(oov0, len(idx2word)):\n",
    "    idx2word[i] = idx2word[i]+'^'"
   ]
  },
  {
   "cell_type": "code",
   "execution_count": 272,
   "metadata": {},
   "outputs": [],
   "source": [
    "empty = 0\n",
    "eos = 1\n",
    "idx2word[empty] = '_'\n",
    "idx2word[eos] = '~'"
   ]
  },
  {
   "cell_type": "code",
   "execution_count": 273,
   "metadata": {},
   "outputs": [],
   "source": [
    "from keras.preprocessing import sequence\n",
    "from keras.utils import np_utils\n",
    "from keras.models import Sequential\n",
    "from keras.layers.core import Dense, Activation, Dropout, RepeatVector\n",
    "from keras.layers.wrappers import TimeDistributed\n",
    "from keras.layers.recurrent import LSTM\n",
    "from keras.layers.embeddings import Embedding\n",
    "from keras.regularizers import l2\n",
    "import random, sys\n",
    "# seed weight initialization\n",
    "random.seed(seed)\n",
    "np.random.seed(seed)"
   ]
  },
  {
   "cell_type": "code",
   "execution_count": 274,
   "metadata": {},
   "outputs": [],
   "source": [
    "regularizer = l2(weight_decay) if weight_decay else None"
   ]
  },
  {
   "cell_type": "markdown",
   "metadata": {},
   "source": [
    "Standard stacked LSTM"
   ]
  },
  {
   "cell_type": "code",
   "execution_count": 275,
   "metadata": {},
   "outputs": [],
   "source": [
    "vocab_size, embedding_size = embedding.shape"
   ]
  },
  {
   "cell_type": "code",
   "execution_count": 276,
   "metadata": {},
   "outputs": [],
   "source": [
    "model = Sequential()\n",
    "model.add(Embedding(vocab_size, embedding_size,\n",
    "                    input_length=maxlen,\n",
    "                    embeddings_regularizer=regularizer, weights=[embedding], mask_zero=True,\n",
    "                    name='embedding_1'))\n",
    "\n",
    "for i in range(rnn_layers):\n",
    "    lstm = LSTM(rnn_size, return_sequences=True, # batch_norm=batch_norm,\n",
    "                kernel_regularizer=regularizer, recurrent_regularizer=regularizer,\n",
    "                bias_regularizer=regularizer, dropout=p_W, recurrent_dropout=p_U,\n",
    "                name='lstm_%d'%(i+1)\n",
    "                  )\n",
    "    model.add(lstm)\n",
    "    model.add(Dropout(p_dense,name='dropout_%d'%(i+1)))"
   ]
  },
  {
   "cell_type": "code",
   "execution_count": 277,
   "metadata": {},
   "outputs": [],
   "source": [
    "from keras.layers.core import Lambda\n",
    "import keras.backend as K\n",
    "\n",
    "def simple_context(X, mask, n=activation_rnn_size, maxlend=maxlend, maxlenh=maxlenh):\n",
    "    desc, head = X[:,:maxlend,:], X[:,maxlend:,:]\n",
    "    head_activations, head_words = head[:,:,:n], head[:,:,n:]\n",
    "    desc_activations, desc_words = desc[:,:,:n], desc[:,:,n:]\n",
    "    \n",
    "    # RTFM http://deeplearning.net/software/theano/library/tensor/basic.html#theano.tensor.batched_tensordot\n",
    "    # activation for every head word and every desc word\n",
    "    activation_energies = K.batch_dot(head_activations, desc_activations, axes=(2,2))\n",
    "    # make sure we dont use description words that are masked out\n",
    "    activation_energies = activation_energies + -1e20*K.expand_dims(1.-K.cast(mask[:, :maxlend],'float32'),1)\n",
    "    \n",
    "    # for every head word compute weights for every desc word\n",
    "    activation_energies = K.reshape(activation_energies,(-1,maxlend))\n",
    "    activation_weights = K.softmax(activation_energies)\n",
    "    activation_weights = K.reshape(activation_weights,(-1,maxlenh,maxlend))\n",
    "\n",
    "    # for every head word compute weighted average of desc words\n",
    "    desc_avg_word = K.batch_dot(activation_weights, desc_words, axes=(2,1))\n",
    "    return K.concatenate((desc_avg_word, head_words))"
   ]
  },
  {
   "cell_type": "code",
   "execution_count": 278,
   "metadata": {},
   "outputs": [],
   "source": [
    "if activation_rnn_size:\n",
    "    model.add(Lambda(simple_context,\n",
    "                     mask = lambda inputs, mask: mask[:,maxlend:],\n",
    "                     output_shape = lambda input_shape: (input_shape[0], maxlenh, 2*(rnn_size - activation_rnn_size)),\n",
    "                     name='simplecontext_1'))\n",
    "model.add(TimeDistributed(Dense(vocab_size,\n",
    "                                kernel_regularizer=regularizer, bias_regularizer=regularizer,\n",
    "                                name = 'timedistributed_1')))\n",
    "model.add(Activation('softmax', name='activation_1'))"
   ]
  },
  {
   "cell_type": "code",
   "execution_count": 279,
   "metadata": {},
   "outputs": [],
   "source": [
    "from keras.optimizers import Adam, RMSprop # usually I prefer Adam but article used rmsprop\n",
    "# opt = Adam(lr=LR)  # keep calm and reduce learning rate\n",
    "model.compile(loss='categorical_crossentropy', optimizer=optimizer)"
   ]
  },
  {
   "cell_type": "code",
   "execution_count": 280,
   "metadata": {},
   "outputs": [],
   "source": [
    "K.set_value(model.optimizer.lr,np.float32(LR))"
   ]
  },
  {
   "cell_type": "code",
   "execution_count": 281,
   "metadata": {},
   "outputs": [
    {
     "name": "stdout",
     "output_type": "stream",
     "text": [
      "_________________________________________________________________\n",
      "Layer (type)                 Output Shape              Param #   \n",
      "=================================================================\n",
      "embedding_1 (Embedding)      (None, 50, 100)           4000000   \n",
      "_________________________________________________________________\n",
      "lstm_1 (LSTM)                (None, 50, 512)           1255424   \n",
      "_________________________________________________________________\n",
      "dropout_1 (Dropout)          (None, 50, 512)           0         \n",
      "_________________________________________________________________\n",
      "lstm_2 (LSTM)                (None, 50, 512)           2099200   \n",
      "_________________________________________________________________\n",
      "dropout_2 (Dropout)          (None, 50, 512)           0         \n",
      "_________________________________________________________________\n",
      "lstm_3 (LSTM)                (None, 50, 512)           2099200   \n",
      "_________________________________________________________________\n",
      "dropout_3 (Dropout)          (None, 50, 512)           0         \n",
      "_________________________________________________________________\n",
      "simplecontext_1 (Lambda)     (None, 25, 944)           0         \n",
      "_________________________________________________________________\n",
      "time_distributed_2 (TimeDist (None, 25, 40000)         37800000  \n",
      "_________________________________________________________________\n",
      "activation_1 (Activation)    (None, 25, 40000)         0         \n",
      "=================================================================\n",
      "Total params: 47,253,824\n",
      "Trainable params: 47,253,824\n",
      "Non-trainable params: 0\n",
      "_________________________________________________________________\n"
     ]
    }
   ],
   "source": [
    "model.summary()"
   ]
  },
  {
   "cell_type": "code",
   "execution_count": 335,
   "metadata": {},
   "outputs": [],
   "source": [
    "def lpadd(x, maxlend=maxlend, eos=eos):\n",
    "    \"\"\"left (pre) pad a description to maxlend and then add eos.\n",
    "    The eos is the input to predicting the first word in the headline\n",
    "    \"\"\"\n",
    "    assert maxlend >= 0\n",
    "    if maxlend == 0:\n",
    "        return [eos]\n",
    "    n = len(x)\n",
    "    if n > maxlend:\n",
    "        x = x[-maxlend:]\n",
    "        n = maxlend\n",
    "    return [empty]*(maxlend-n) + x + [eos]"
   ]
  },
  {
   "cell_type": "code",
   "execution_count": 283,
   "metadata": {},
   "outputs": [],
   "source": [
    "samples = [lpadd([3]*26)]\n",
    "# pad from right (post) so the first maxlend will be description followed by headline\n",
    "data = sequence.pad_sequences(samples, maxlen=maxlen, value=empty, padding='post', truncating='post')"
   ]
  },
  {
   "cell_type": "code",
   "execution_count": 284,
   "metadata": {},
   "outputs": [
    {
     "data": {
      "text/plain": [
       "True"
      ]
     },
     "execution_count": 284,
     "metadata": {},
     "output_type": "execute_result"
    }
   ],
   "source": [
    "np.all(data[:,maxlend] == eos)"
   ]
  },
  {
   "cell_type": "code",
   "execution_count": 285,
   "metadata": {},
   "outputs": [
    {
     "data": {
      "text/plain": [
       "((1, 50), <map at 0x7f4221047cf8>)"
      ]
     },
     "execution_count": 285,
     "metadata": {},
     "output_type": "execute_result"
    }
   ],
   "source": [
    "data.shape,map(len, samples)"
   ]
  },
  {
   "cell_type": "code",
   "execution_count": 286,
   "metadata": {},
   "outputs": [
    {
     "data": {
      "text/plain": [
       "(1, 25, 40000)"
      ]
     },
     "execution_count": 286,
     "metadata": {},
     "output_type": "execute_result"
    }
   ],
   "source": [
    "probs = model.predict(data, verbose=0, batch_size=1)\n",
    "probs.shape"
   ]
  },
  {
   "cell_type": "code",
   "execution_count": 367,
   "metadata": {},
   "outputs": [],
   "source": [
    "# variation to https://github.com/ryankiros/skip-thoughts/blob/master/decoding/search.py\n",
    "def beamsearch(predict, start=[empty]*maxlend + [eos],\n",
    "               k=1, maxsample=maxlen, use_unk=True, empty=empty, eos=eos, temperature=1.0):\n",
    "    \"\"\"return k samples (beams) and their NLL scores, each sample is a sequence of labels,\n",
    "    all samples starts with an `empty` label and end with `eos` or truncated to length of `maxsample`.\n",
    "    You need to supply `predict` which returns the label probability of each sample.\n",
    "    `use_unk` allow usage of `oov` (out-of-vocabulary) label in samples\n",
    "    \"\"\"\n",
    "    def sample(energy, n, temperature=temperature):\n",
    "        \"\"\"sample at most n elements according to their energy\"\"\"\n",
    "        n = min(n,len(energy))\n",
    "        prb = np.exp(-np.array(energy) / temperature )\n",
    "        res = []\n",
    "        for i in range(n):\n",
    "            z = np.sum(prb)\n",
    "            r = np.argmax(np.random.multinomial(1, prb/z, 1))\n",
    "            res.append(r)\n",
    "            prb[r] = 0. # make sure we select each element only once\n",
    "        return res\n",
    "\n",
    "    dead_k = 0 # samples that reached eos\n",
    "    dead_samples = []\n",
    "    dead_scores = []\n",
    "    live_k = 1 # samples that did not yet reached eos\n",
    "    live_samples = [list(start)]\n",
    "    live_scores = [0]\n",
    "\n",
    "    while live_k:\n",
    "        # for every possible live sample calc prob for every possible label \n",
    "        probs = predict(live_samples, empty=empty)\n",
    "        # total score for every sample is sum of -log of word prb\n",
    "        cand_scores = np.array(live_scores)[:,None] - np.log(probs)\n",
    "        cand_scores[:,empty] = 1e20\n",
    "        if not use_unk:\n",
    "            for i in range(nb_unknown_words):\n",
    "                cand_scores[:,vocab_size - 1 - i] = 1e20\n",
    "        live_scores = list(cand_scores.flatten())\n",
    "        \n",
    "\n",
    "        # find the best (lowest) scores we have from all possible dead samples and\n",
    "        # all live samples and all possible new words added\n",
    "        scores = dead_scores + live_scores\n",
    "        ranks = sample(scores, k)\n",
    "        n = len(dead_scores)\n",
    "        ranks_dead = [r for r in ranks if r < n]\n",
    "        ranks_live = [r - n for r in ranks if r >= n]\n",
    "        \n",
    "        dead_scores = [dead_scores[r] for r in ranks_dead]\n",
    "        dead_samples = [dead_samples[r] for r in ranks_dead]\n",
    "        \n",
    "        live_scores = [live_scores[r] for r in ranks_live]\n",
    "\n",
    "        # append the new words to their appropriate live sample\n",
    "        voc_size = probs.shape[1]\n",
    "        live_samples = [live_samples[r//voc_size]+[r%voc_size] for r in ranks_live]\n",
    "\n",
    "        # live samples that should be dead are...\n",
    "        # even if len(live_samples) == maxsample we dont want it dead because we want one\n",
    "        # last prediction out of it to reach a headline of maxlenh\n",
    "        zombie = [s[-1] == eos or len(s) > maxsample for s in live_samples]\n",
    "        \n",
    "        # add zombies to the dead\n",
    "        dead_samples += [s for s,z in zip(live_samples,zombie) if z]\n",
    "        dead_scores += [s for s,z in zip(live_scores,zombie) if z]\n",
    "        dead_k = len(dead_samples)\n",
    "        # remove zombies from the living \n",
    "        live_samples = [s for s,z in zip(live_samples,zombie) if not z]\n",
    "        live_scores = [s for s,z in zip(live_scores,zombie) if not z]\n",
    "        live_k = len(live_samples)\n",
    "\n",
    "    return dead_samples + live_samples, dead_scores + live_scores"
   ]
  },
  {
   "cell_type": "code",
   "execution_count": 288,
   "metadata": {},
   "outputs": [],
   "source": [
    "def keras_rnn_predict(samples, empty=empty, model=model, maxlen=maxlen):\n",
    "    \"\"\"for every sample, calculate probability for every possible label\n",
    "    you need to supply your RNN model and maxlen - the length of sequences it can handle\n",
    "    \"\"\"\n",
    "    sample_lengths = map(len, samples)\n",
    "    assert all(l > maxlend for l in sample_lengths)\n",
    "    assert all(l[maxlend] == eos for l in samples)\n",
    "    # pad from right (post) so the first maxlend will be description followed by headline\n",
    "    data = sequence.pad_sequences(samples, maxlen=maxlen, value=empty, padding='post', truncating='post')\n",
    "    probs = model.predict(data, verbose=0, batch_size=batch_size)\n",
    "    return np.array([prob[sample_length-maxlend-1] for prob, sample_length in zip(probs, sample_lengths)])"
   ]
  },
  {
   "cell_type": "code",
   "execution_count": 289,
   "metadata": {},
   "outputs": [],
   "source": [
    "def vocab_fold(xs):\n",
    "    \"\"\"convert list of word indexes that may contain words outside vocab_size to words inside.\n",
    "    If a word is outside, try first to use glove_idx2idx to find a similar word inside.\n",
    "    If none exist then replace all accurancies of the same unknown word with <0>, <1>, ...\n",
    "    \"\"\"\n",
    "    xs = [x if x < oov0 else glove_idx2idx.get(x,x) for x in xs]\n",
    "    # the more popular word is <0> and so on\n",
    "    outside = sorted([x for x in xs if x >= oov0])\n",
    "    # if there are more than nb_unknown_words oov words then put them all in nb_unknown_words-1\n",
    "    outside = dict((x,vocab_size-1-min(i, nb_unknown_words-1)) for i, x in enumerate(outside))\n",
    "    xs = [outside.get(x,x) for x in xs]\n",
    "    return xs"
   ]
  },
  {
   "cell_type": "code",
   "execution_count": 290,
   "metadata": {},
   "outputs": [],
   "source": [
    "def vocab_unfold(desc,xs):\n",
    "    # assume desc is the unfolded version of the start of xs\n",
    "    unfold = {}\n",
    "    for i, unfold_idx in enumerate(desc):\n",
    "        fold_idx = xs[i]\n",
    "        if fold_idx >= oov0:\n",
    "            unfold[fold_idx] = unfold_idx\n",
    "    return [unfold.get(x,x) for x in xs]"
   ]
  },
  {
   "cell_type": "code",
   "execution_count": 340,
   "metadata": {},
   "outputs": [],
   "source": [
    "import sys\n",
    "import Levenshtein\n",
    "\n",
    "def gensamples(skips=2, k=10, batch_size=batch_size, short=True, temperature=1., use_unk=True):\n",
    "    i = random.randint(0,len(X_test)-1)\n",
    "    print('HEAD:',' '.join(idx2word[w] for w in y_test[i]))\n",
    "    print('DESC:',' '.join(idx2word[w] for w in X_test[i]))\n",
    "    sys.stdout.flush()\n",
    "\n",
    "    print('HEADS:')\n",
    "    x = X_test[i]\n",
    "    samples = []\n",
    "    if maxlend == 0:\n",
    "        skips = [0]\n",
    "    else:\n",
    "        skips = range(min(maxlend,len(x)), max(maxlend,len(x)), abs(maxlend - len(x)) // skips + 1)\n",
    "    for s in skips:\n",
    "        start = lpadd(x[:s])\n",
    "        fold_start = vocab_fold(start)\n",
    "        sample, score = beamsearch(predict=keras_rnn_predict, start=fold_start, k=k, temperature=temperature, use_unk=use_unk)\n",
    "        assert all(s[maxlend] == eos for s in sample)\n",
    "        samples += [(s,start,scr) for s,scr in zip(sample,score)]\n",
    "\n",
    "    samples.sort(key=lambda x: x[-1])\n",
    "    codes = []\n",
    "    for sample, start, score in samples:\n",
    "        code = ''\n",
    "        words = []\n",
    "        sample = vocab_unfold(start, sample)[len(start):]\n",
    "        for w in sample:\n",
    "            if w == eos:\n",
    "                break\n",
    "            words.append(idx2word[w])\n",
    "            code += chr(w//(256*256)) + chr((w//256)%256) + chr(w%256)\n",
    "        if short:\n",
    "            distance = min([100] + [-Levenshtein.jaro(code,c) for c in codes])\n",
    "            if distance > -0.6:\n",
    "                print(score, ' '.join(words))\n",
    "        #         print '%s (%.2f) %f'%(' '.join(words), score, distance)\n",
    "        else:\n",
    "                print(score, ' '.join(words))\n",
    "        codes.append(code)"
   ]
  },
  {
   "cell_type": "markdown",
   "metadata": {},
   "source": [
    "Since the model was designed for news headlines and vocab was build on summary corpus only, need to remove title which contain words not in the vocabulary."
   ]
  },
  {
   "cell_type": "code",
   "execution_count": 292,
   "metadata": {},
   "outputs": [],
   "source": [
    "df1['Title'] = df1['Title'].str.replace(r\"[^a-zA-Z ]+\", \" \")"
   ]
  },
  {
   "cell_type": "code",
   "execution_count": 213,
   "metadata": {},
   "outputs": [],
   "source": [
    "removals = 'deadlegs'\n",
    "df1 = df1[~df1['Title'].str.contains(removals)]"
   ]
  },
  {
   "cell_type": "code",
   "execution_count": 293,
   "metadata": {},
   "outputs": [],
   "source": [
    "for head in list(df1['Title']):\n",
    "    SKIP = False\n",
    "    for token in head.split():\n",
    "        if not SKIP:\n",
    "            if token.lower() not in word2idx:\n",
    "                df1 = df1[~df1['Title'].str.contains(token)]\n",
    "                SKIP = True"
   ]
  },
  {
   "cell_type": "code",
   "execution_count": null,
   "metadata": {},
   "outputs": [],
   "source": []
  },
  {
   "cell_type": "code",
   "execution_count": 368,
   "metadata": {},
   "outputs": [
    {
     "name": "stdout",
     "output_type": "stream",
     "text": [
      "HEAD: guru\n",
      "DESC: beginning film set small village idar^ sabarkantha^ district northern gujarat young man named gurukant^ guru desai abhishek bachchan dreams making big day father rajendra gupta headmaster village school tells dream dreams never come true gurukant^ decides go turkey enter spice trade later promoted refuses job wants work back village marries sujata aishwarya rai bachchan mainly dowry brings along sujata brother jignesh^ arya babbar guru migrates bombay starts trading cloth gradually expands business sets manufacturing units name shakti corporation manik nanaji dasgupta^ mithun chakraborty publishes newspaper swatantra^ treats guru son guru likewise looks upon father figure gives support early days struggle bombay also develops strong friendship meenu vidya balan granddaughter dasgupta^ meenu develops multiple sclerosis^ grows begins using wheelchair gurukant^ desai business grows one largest india ruthlessly pursues success smuggles machine parts polyester^ mills illegally creates goods manipulates stocks make higher profit manik dasgupta^ learns guru means success always honest along reporter newspaper shyam saxena madhavan decide expose guru increasingly corrupt ways stress battle newspaper causes guru stroke paralysed right side meanwhile meenu married shyam slowly weakening illness eventually dies end guru brought private government inquiry october defend charges pressed delivers speech front press next day forces government clear charges charged fine million equivalent million us million equivalent million us respective charges proved allowed return company\n",
      "HEADS:\n"
     ]
    },
    {
     "ename": "IndexError",
     "evalue": "index 0 is out of bounds for axis 1 with size 0",
     "output_type": "error",
     "traceback": [
      "\u001b[0;31m---------------------------------------------------------------------------\u001b[0m",
      "\u001b[0;31mIndexError\u001b[0m                                Traceback (most recent call last)",
      "\u001b[0;32m<ipython-input-368-d08ce8522d86>\u001b[0m in \u001b[0;36m<module>\u001b[0;34m\u001b[0m\n\u001b[1;32m      6\u001b[0m \u001b[0my_test\u001b[0m \u001b[0;34m=\u001b[0m \u001b[0mlist\u001b[0m\u001b[0;34m(\u001b[0m\u001b[0my_test\u001b[0m\u001b[0;34m)\u001b[0m\u001b[0;34m\u001b[0m\u001b[0;34m\u001b[0m\u001b[0m\n\u001b[1;32m      7\u001b[0m \u001b[0my_train\u001b[0m \u001b[0;34m=\u001b[0m \u001b[0mlist\u001b[0m\u001b[0;34m(\u001b[0m\u001b[0my_train\u001b[0m\u001b[0;34m)\u001b[0m\u001b[0;34m\u001b[0m\u001b[0;34m\u001b[0m\u001b[0m\n\u001b[0;32m----> 8\u001b[0;31m \u001b[0mgensamples\u001b[0m\u001b[0;34m(\u001b[0m\u001b[0mskips\u001b[0m\u001b[0;34m=\u001b[0m\u001b[0;36m2\u001b[0m\u001b[0;34m,\u001b[0m \u001b[0mbatch_size\u001b[0m\u001b[0;34m=\u001b[0m\u001b[0mbatch_size\u001b[0m\u001b[0;34m,\u001b[0m \u001b[0mk\u001b[0m\u001b[0;34m=\u001b[0m\u001b[0;36m10\u001b[0m\u001b[0;34m,\u001b[0m \u001b[0mtemperature\u001b[0m\u001b[0;34m=\u001b[0m\u001b[0;36m1.\u001b[0m\u001b[0;34m)\u001b[0m\u001b[0;34m\u001b[0m\u001b[0;34m\u001b[0m\u001b[0m\n\u001b[0m",
      "\u001b[0;32m<ipython-input-340-c717825cce67>\u001b[0m in \u001b[0;36mgensamples\u001b[0;34m(skips, k, batch_size, short, temperature, use_unk)\u001b[0m\n\u001b[1;32m     18\u001b[0m         \u001b[0mstart\u001b[0m \u001b[0;34m=\u001b[0m \u001b[0mlpadd\u001b[0m\u001b[0;34m(\u001b[0m\u001b[0mx\u001b[0m\u001b[0;34m[\u001b[0m\u001b[0;34m:\u001b[0m\u001b[0ms\u001b[0m\u001b[0;34m]\u001b[0m\u001b[0;34m)\u001b[0m\u001b[0;34m\u001b[0m\u001b[0;34m\u001b[0m\u001b[0m\n\u001b[1;32m     19\u001b[0m         \u001b[0mfold_start\u001b[0m \u001b[0;34m=\u001b[0m \u001b[0mvocab_fold\u001b[0m\u001b[0;34m(\u001b[0m\u001b[0mstart\u001b[0m\u001b[0;34m)\u001b[0m\u001b[0;34m\u001b[0m\u001b[0;34m\u001b[0m\u001b[0m\n\u001b[0;32m---> 20\u001b[0;31m         \u001b[0msample\u001b[0m\u001b[0;34m,\u001b[0m \u001b[0mscore\u001b[0m \u001b[0;34m=\u001b[0m \u001b[0mbeamsearch\u001b[0m\u001b[0;34m(\u001b[0m\u001b[0mpredict\u001b[0m\u001b[0;34m=\u001b[0m\u001b[0mkeras_rnn_predict\u001b[0m\u001b[0;34m,\u001b[0m \u001b[0mstart\u001b[0m\u001b[0;34m=\u001b[0m\u001b[0mfold_start\u001b[0m\u001b[0;34m,\u001b[0m \u001b[0mk\u001b[0m\u001b[0;34m=\u001b[0m\u001b[0mk\u001b[0m\u001b[0;34m,\u001b[0m \u001b[0mtemperature\u001b[0m\u001b[0;34m=\u001b[0m\u001b[0mtemperature\u001b[0m\u001b[0;34m,\u001b[0m \u001b[0muse_unk\u001b[0m\u001b[0;34m=\u001b[0m\u001b[0muse_unk\u001b[0m\u001b[0;34m)\u001b[0m\u001b[0;34m\u001b[0m\u001b[0;34m\u001b[0m\u001b[0m\n\u001b[0m\u001b[1;32m     21\u001b[0m         \u001b[0;32massert\u001b[0m \u001b[0mall\u001b[0m\u001b[0;34m(\u001b[0m\u001b[0ms\u001b[0m\u001b[0;34m[\u001b[0m\u001b[0mmaxlend\u001b[0m\u001b[0;34m]\u001b[0m \u001b[0;34m==\u001b[0m \u001b[0meos\u001b[0m \u001b[0;32mfor\u001b[0m \u001b[0ms\u001b[0m \u001b[0;32min\u001b[0m \u001b[0msample\u001b[0m\u001b[0;34m)\u001b[0m\u001b[0;34m\u001b[0m\u001b[0;34m\u001b[0m\u001b[0m\n\u001b[1;32m     22\u001b[0m         \u001b[0msamples\u001b[0m \u001b[0;34m+=\u001b[0m \u001b[0;34m[\u001b[0m\u001b[0;34m(\u001b[0m\u001b[0ms\u001b[0m\u001b[0;34m,\u001b[0m\u001b[0mstart\u001b[0m\u001b[0;34m,\u001b[0m\u001b[0mscr\u001b[0m\u001b[0;34m)\u001b[0m \u001b[0;32mfor\u001b[0m \u001b[0ms\u001b[0m\u001b[0;34m,\u001b[0m\u001b[0mscr\u001b[0m \u001b[0;32min\u001b[0m \u001b[0mzip\u001b[0m\u001b[0;34m(\u001b[0m\u001b[0msample\u001b[0m\u001b[0;34m,\u001b[0m\u001b[0mscore\u001b[0m\u001b[0;34m)\u001b[0m\u001b[0;34m]\u001b[0m\u001b[0;34m\u001b[0m\u001b[0;34m\u001b[0m\u001b[0m\n",
      "\u001b[0;32m<ipython-input-367-767a81c0051c>\u001b[0m in \u001b[0;36mbeamsearch\u001b[0;34m(predict, start, k, maxsample, use_unk, empty, eos, temperature)\u001b[0m\n\u001b[1;32m     31\u001b[0m         \u001b[0;31m# total score for every sample is sum of -log of word prb\u001b[0m\u001b[0;34m\u001b[0m\u001b[0;34m\u001b[0m\u001b[0;34m\u001b[0m\u001b[0m\n\u001b[1;32m     32\u001b[0m         \u001b[0mcand_scores\u001b[0m \u001b[0;34m=\u001b[0m \u001b[0mnp\u001b[0m\u001b[0;34m.\u001b[0m\u001b[0marray\u001b[0m\u001b[0;34m(\u001b[0m\u001b[0mlive_scores\u001b[0m\u001b[0;34m)\u001b[0m\u001b[0;34m[\u001b[0m\u001b[0;34m:\u001b[0m\u001b[0;34m,\u001b[0m\u001b[0;32mNone\u001b[0m\u001b[0;34m]\u001b[0m \u001b[0;34m-\u001b[0m \u001b[0mnp\u001b[0m\u001b[0;34m.\u001b[0m\u001b[0mlog\u001b[0m\u001b[0;34m(\u001b[0m\u001b[0mprobs\u001b[0m\u001b[0;34m)\u001b[0m\u001b[0;34m\u001b[0m\u001b[0;34m\u001b[0m\u001b[0m\n\u001b[0;32m---> 33\u001b[0;31m         \u001b[0mcand_scores\u001b[0m\u001b[0;34m[\u001b[0m\u001b[0;34m:\u001b[0m\u001b[0;34m,\u001b[0m\u001b[0mempty\u001b[0m\u001b[0;34m]\u001b[0m \u001b[0;34m=\u001b[0m \u001b[0;36m1e20\u001b[0m\u001b[0;34m\u001b[0m\u001b[0;34m\u001b[0m\u001b[0m\n\u001b[0m\u001b[1;32m     34\u001b[0m         \u001b[0;32mif\u001b[0m \u001b[0;32mnot\u001b[0m \u001b[0muse_unk\u001b[0m\u001b[0;34m:\u001b[0m\u001b[0;34m\u001b[0m\u001b[0;34m\u001b[0m\u001b[0m\n\u001b[1;32m     35\u001b[0m             \u001b[0;32mfor\u001b[0m \u001b[0mi\u001b[0m \u001b[0;32min\u001b[0m \u001b[0mrange\u001b[0m\u001b[0;34m(\u001b[0m\u001b[0mnb_unknown_words\u001b[0m\u001b[0;34m)\u001b[0m\u001b[0;34m:\u001b[0m\u001b[0;34m\u001b[0m\u001b[0;34m\u001b[0m\u001b[0m\n",
      "\u001b[0;31mIndexError\u001b[0m: index 0 is out of bounds for axis 1 with size 0"
     ]
    }
   ],
   "source": [
    "Y = [[word2idx[token.lower()] for token in heads.split()] for heads in list(df1['Title'])]\n",
    "X = [[word2idx[token.lower()] for token in tails.split()] for tails in list(df1['Plot'])]\n",
    "X_train, X_test, y_train, y_test = train_test_split(X, Y, random_state = 0)\n",
    "X_test = list(X_test)\n",
    "X_train = list(X_train)\n",
    "y_test = list(y_test)\n",
    "y_train = list(y_train)\n",
    "gensamples(skips=2, batch_size=batch_size, k=10, temperature=1.)"
   ]
  },
  {
   "cell_type": "code",
   "execution_count": 393,
   "metadata": {},
   "outputs": [],
   "source": [
    "def flip_headline(x, nflips=None, model=None, debug=False):\n",
    "    \"\"\"given a vectorized input (after `pad_sequences`) flip some of the words in the second half (headline)\n",
    "    with words predicted by the model\n",
    "    \"\"\"\n",
    "    if nflips is None or model is None or nflips <= 0:\n",
    "        return x\n",
    "    \n",
    "    batch_size = len(x)\n",
    "    assert np.all(x[:,maxlend] == eos)\n",
    "    probs = model.predict(x, verbose=0, batch_size=batch_size)\n",
    "    x_out = x.copy()\n",
    "    for b in range(batch_size):\n",
    "        # pick locations we want to flip\n",
    "        # 0...maxlend-1 are descriptions and should be fixed\n",
    "        # maxlend is eos and should be fixed\n",
    "        flips = sorted(random.sample(range(maxlend+1,maxlen), nflips))\n",
    "        for input_idx in flips:\n",
    "            if x[b,input_idx] == empty or x[b,input_idx] == eos:\n",
    "                continue\n",
    "            # convert from input location to label location\n",
    "            # the output at maxlend (when input is eos) is feed as input at maxlend+1\n",
    "            label_idx = input_idx - (maxlend+1)\n",
    "            prob = probs[b, label_idx]\n",
    "            w = prob.argmax()\n",
    "            if w == empty:  # replace accidental empty with oov\n",
    "                w = oov0\n",
    "            #if debug and b < debug:\n",
    "                #print ('%s => %s'%(idx2word[x_out[b,input_idx]],idx2word[w]),x_out[b,input_idx] = w)\n",
    "    return x_out"
   ]
  },
  {
   "cell_type": "code",
   "execution_count": 372,
   "metadata": {},
   "outputs": [],
   "source": [
    "def conv_seq_labels(xds, xhs, nflips=None, model=None, debug=False):\n",
    "    \"\"\"description and hedlines are converted to padded input vectors. headlines are one-hot to label\"\"\"\n",
    "    batch_size = len(xhs)\n",
    "    assert len(xds) == batch_size\n",
    "    x = [vocab_fold(lpadd(xd)+xh) for xd,xh in zip(xds,xhs)]  # the input does not have 2nd eos\n",
    "    x = sequence.pad_sequences(x, maxlen=maxlen, value=empty, padding='post', truncating='post')\n",
    "    x = flip_headline(x, nflips=nflips, model=model, debug=debug)\n",
    "    \n",
    "    y = np.zeros((batch_size, maxlenh, vocab_size))\n",
    "    for i, xh in enumerate(xhs):\n",
    "        xh = vocab_fold(xh) + [eos] + [empty]*maxlenh  # output does have a eos at end\n",
    "        xh = xh[:maxlenh]\n",
    "        y[i,:,:] = np_utils.to_categorical(xh, vocab_size)\n",
    "        \n",
    "    return x, y"
   ]
  },
  {
   "cell_type": "code",
   "execution_count": 376,
   "metadata": {},
   "outputs": [],
   "source": [
    "def gen(Xd, Xh, batch_size=batch_size, nb_batches=None, nflips=None, model=None, debug=False, seed=seed):\n",
    "    \"\"\"yield batches. for training use nb_batches=None\n",
    "    for validation generate deterministic results repeating every nb_batches\n",
    "    \n",
    "    while training it is good idea to flip once in a while the values of the headlines from the\n",
    "    value taken from Xh to value generated by the model.\n",
    "    \"\"\"\n",
    "    c = nb_batches if nb_batches else 0\n",
    "    while True:\n",
    "        xds = []\n",
    "        xhs = []\n",
    "        if nb_batches and c >= nb_batches:\n",
    "            c = 0\n",
    "        new_seed = random.randint(0, 100000)\n",
    "        random.seed(c+123456789+seed)\n",
    "        for b in range(batch_size):\n",
    "            t = random.randint(0,len(Xd)-1)\n",
    "\n",
    "            xd = Xd[t]\n",
    "            s = random.randint(min(maxlend,len(xd)), max(maxlend,len(xd)))\n",
    "            xds.append(xd[:s])\n",
    "            \n",
    "            xh = Xh[t]\n",
    "            s = random.randint(min(maxlenh,len(xh)), max(maxlenh,len(xh)))\n",
    "            xhs.append(xh[:s])\n",
    "\n",
    "        # undo the seeding before we yield inorder not to affect the caller\n",
    "        c+= 1\n",
    "        random.seed(new_seed)\n",
    "\n",
    "        yield conv_seq_labels(xds, xhs, nflips=nflips, model=model, debug=debug)\n"
   ]
  },
  {
   "cell_type": "code",
   "execution_count": 377,
   "metadata": {},
   "outputs": [
    {
     "data": {
      "text/plain": [
       "((64, 50), (64, 25, 40000), 2)"
      ]
     },
     "execution_count": 377,
     "metadata": {},
     "output_type": "execute_result"
    }
   ],
   "source": [
    "r = next(gen(X_train, y_train, batch_size=batch_size))\n",
    "r[0].shape, r[1].shape, len(r)"
   ]
  },
  {
   "cell_type": "code",
   "execution_count": 381,
   "metadata": {},
   "outputs": [],
   "source": [
    "\n",
    "\n",
    "def test_gen(gen, n=5):\n",
    "    Xtr,Ytr = next(gen)\n",
    "    for i in range(n):\n",
    "        assert Xtr[i,maxlend] == eos\n",
    "        x = Xtr[i,:maxlend]\n",
    "        y = Xtr[i,maxlend:]\n",
    "        yy = Ytr[i,:]\n",
    "        yy = np.where(yy)[1]\n",
    "        #prt('L',yy)\n",
    "        #prt('H',y)\n",
    "        #if maxlend:\n",
    "            #prt('D',x)\n",
    "\n"
   ]
  },
  {
   "cell_type": "code",
   "execution_count": 382,
   "metadata": {},
   "outputs": [],
   "source": [
    "test_gen(gen(X_train, y_train, batch_size=batch_size))"
   ]
  },
  {
   "cell_type": "code",
   "execution_count": 384,
   "metadata": {},
   "outputs": [],
   "source": [
    "valgen = gen(X_test, y_test,nb_batches=3, batch_size=batch_size)"
   ]
  },
  {
   "cell_type": "code",
   "execution_count": 385,
   "metadata": {},
   "outputs": [],
   "source": [
    "for i in range(4):\n",
    "    test_gen(valgen, n=1)"
   ]
  },
  {
   "cell_type": "code",
   "execution_count": 386,
   "metadata": {},
   "outputs": [],
   "source": [
    "history = {}"
   ]
  },
  {
   "cell_type": "code",
   "execution_count": 395,
   "metadata": {},
   "outputs": [],
   "source": [
    "traingen = gen(X_train, y_train, batch_size=batch_size, nflips=nflips, model=model)\n",
    "valgen = gen(X_test, y_test, nb_batches=nb_val_samples//batch_size, batch_size=batch_size)"
   ]
  },
  {
   "cell_type": "code",
   "execution_count": 396,
   "metadata": {},
   "outputs": [
    {
     "data": {
      "text/plain": [
       "((64, 50), (64, 25, 40000), 2)"
      ]
     },
     "execution_count": 396,
     "metadata": {},
     "output_type": "execute_result"
    }
   ],
   "source": [
    "r = next(traingen)\n",
    "r[0].shape, r[1].shape, len(r)"
   ]
  },
  {
   "cell_type": "code",
   "execution_count": null,
   "metadata": {},
   "outputs": [
    {
     "name": "stdout",
     "output_type": "stream",
     "text": [
      "Iteration 0\n",
      "WARNING:tensorflow:From /home/albert/anaconda3/lib/python3.7/site-packages/tensorflow/python/ops/math_ops.py:3066: to_int32 (from tensorflow.python.ops.math_ops) is deprecated and will be removed in a future version.\n",
      "Instructions for updating:\n",
      "Use tf.cast instead.\n",
      "WARNING:tensorflow:From /home/albert/anaconda3/lib/python3.7/site-packages/tensorflow/python/ops/math_grad.py:102: div (from tensorflow.python.ops.math_ops) is deprecated and will be removed in a future version.\n",
      "Instructions for updating:\n",
      "Deprecated in favor of operator or tf.math.divide.\n",
      "Epoch 1/1\n"
     ]
    }
   ],
   "source": [
    "for iteration in range(500):\n",
    "    print('Iteration', iteration)\n",
    "    h = model.fit_generator(traingen, steps_per_epoch=nb_train_samples//batch_size,\n",
    "                        epochs=1, validation_data=valgen, validation_steps=nb_val_samples\n",
    "                           )\n",
    "    for k,v in h.history.iteritems():\n",
    "        history[k] = history.get(k,[]) + v\n",
    "    with open('data/%s.history.pkl'%FN,'wb') as fp:\n",
    "        pickle.dump(history,fp,-1)\n",
    "    model.save_weights('data/%s.hdf5'%FN, overwrite=True)\n",
    "    gensamples(batch_size=batch_size)"
   ]
  },
  {
   "cell_type": "code",
   "execution_count": null,
   "metadata": {},
   "outputs": [],
   "source": []
  }
 ],
 "metadata": {
  "kernelspec": {
   "display_name": "Python 3",
   "language": "python",
   "name": "python3"
  },
  "language_info": {
   "codemirror_mode": {
    "name": "ipython",
    "version": 3
   },
   "file_extension": ".py",
   "mimetype": "text/x-python",
   "name": "python",
   "nbconvert_exporter": "python",
   "pygments_lexer": "ipython3",
   "version": "3.7.3"
  }
 },
 "nbformat": 4,
 "nbformat_minor": 2
}
