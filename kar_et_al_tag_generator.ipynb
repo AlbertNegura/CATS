{
 "cells": [
  {
   "cell_type": "markdown",
   "metadata": {},
   "source": [
    "# Affective Tag Prediction\n",
    "This notebook contains a model proposed in the paper \"Folksonomication: Predicting Tags for Movies from Plot Synopses using Emotion Flow Encoded Neural Network\".\n",
    "\n",
    "Disclaimer: The code used for training/prediction of said model was adapted (and debugged) from the code accompanying the paper (available at https://github.com/cryptexcode/folksonomication_source)\n",
    "\n",
    "The following is a synopsis of:\n",
    "## The Godfather II"
   ]
  },
  {
   "cell_type": "code",
   "execution_count": 5,
   "metadata": {},
   "outputs": [
    {
     "name": "stderr",
     "output_type": "stream",
     "text": [
      "C:\\NLP\\emotional_flow\\model.py:84: UserWarning: Implicit dimension choice for softmax has been deprecated. Change the call to include dim=X as an argument.\n",
      "  tag_probabilities = self.softmax(tag_probabilities)\n"
     ]
    },
    {
     "data": {
      "text/plain": [
       "['murder', 'violence', 'revenge']"
      ]
     },
     "execution_count": 5,
     "metadata": {},
     "output_type": "execute_result"
    }
   ],
   "source": [
    "from emotional_flow.tag_generator import get_top_tags\n",
    "get_top_tags(\"\"\"The Godfather Part II presents two parallel storylines. One involves Mafia chief Michael Corleone in 1958/1959 after the events of the first movie; the other is a series of flashbacks following his father, Vito Corleone from 1917 to 1925, from his youth in Sicily (1901) to the founding of the Corleone family in New York.\n",
    "The film begins in 1901, in the town of Corleone, Sicily, at the funeral of young Vito's father, Antonio Andolini, who has been murdered for an insult to the local Mafia lord, Don Ciccio. During the procession, Vito's older brother is murdered because he swore revenge on the Don. Vito's mother goes to Ciccio to beg for mercy, but he refuses, knowing that nine-year-old Vito will seek revenge later in life. The mother takes Ciccio hostage at knifepoint, allowing her son to escape, and Ciccio's men kill her. They search the town for the boy, but he is aided in his escape by the townspeople. Vito finds his way by ship to New York, and at Ellis Island an immigration agent chooses Vito's hometown of Corleone as his surname, and he is registered as \"Vito Corleone\".\n",
    "In 1958 in a scene similar to the opening of the first film, Michael Corleone (Al Pacino), Godfather of the Corleone family, deals with various business and family problems during an elaborate party at his Lake Tahoe, Nevada compound to celebrate his son's First Communion. In his office, Michael meets with corrupt Nevada Senator Pat Geary (G. D. Spradlin) to discuss the price of the gaming licenses for the hotel/casinos the Family is buying. Geary, who has obvious contempt for Michael and other Italian businessmen who are moving into his state to take advantage of gambling opportunities, promises to make Michael's acquisition of his gaming license a difficult process. Michael ends his conversation with Geary when he refuses to pay the outrageous fee Geary demands, telling the senator he'll get nothing.\n",
    "Michael also deals with his self-indulgent younger sister Connie (Talia Shire), who, although recently divorced from her second husband, is planning to marry a man named Merl Johnson (Troy Donahue) with no obvious means of support and of whom Michael disapproves. He also talks with Johnny Ola (Dominic Chianese), the right hand man of Jewish gangster Hyman Roth (Lee Strasberg), who is supporting Michael's move into the gambling industry. Belatedly, Michael deals with Frank \"Five Angels\" Pentangeli (Michael V. Gazzo), a business associate who took over Corleone caporegime Peter Clemenza's territory in New York City after his death, and now has problems with the Rosato Brothers, who are backed by Roth. Pentangeli leaves abruptly, after telling Michael \"your father did business with Hyman Roth, your father respected Hyman Roth, but your father never trusted Hyman Roth.\"\n",
    "Later that night, Michael barely escapes an assassination attempt when his wife Kay (Diane Keaton) notices the bedroom window drapes are inexplicably open, which allows two unseen hitmen to spray the bedroom with bullets. The two hitman are found dead having been killed by a \"mole\" within the compound. Afterwards, Michael tells his lawyer and associate Tom Hagen (Robert Duvall) that the hit was made with the help of someone close, and that he must leave, entrusting all his power to Hagen to protect his family.\n",
    "Flashback: In 1917 New York City, the adult Vito Corleone (Robert De Niro) works in a grocery store in the Lower East side with his friend Genco Abbandando. The neighborhood is controlled by a member of the \"The Black Hand,\" Don Fanucci (Gastone Moschin), who extorts protection payments from local businesses. One night, Vito's neighbor Clemenza (Bruno Kirby) asks him to hide a stash of guns for him, and later, to repay the favor, takes him to a fancy apartment where they commit their first felony together, stealing an elegant rug.\n",
    "The film flash-forwards to Michael's time. Michael meets with poushal Hyman Roth in Miami, Florida who tells Michael that he believes Frank Pentangeli was responsible for the assassination attempt, and that Pentangeli will pay for it. Traveling to Brooklyn, Michael lets Pentangeli know that Roth was actually behind it, and that Michael has a plan to deal with Roth, but he needs Frankie to cooperate with the Rosato Brothers in order to put Roth off guard.\n",
    "While sleeping, Fredo gets a phone call in the middle of the night from Johnny Ola, Hyman Roth's right hand man, revealing that Fredo is the traitor in the family. Johnny Ola conspires with Fredo, telling him that Frank Pentangeli is going to make peace with the Rosato Brothers. Johnny Ola asks Fredo information about the meeting between these two parties, and whether or not Pentangeli will be alone. Fredo disagrees to cooperate and tells Johnny Ola to never call him again.\n",
    "When Pentangeli goes to meet with the Rosatos at a local bar, he is told \"Michael Corleone says hello,\" as he is attacked from behind but the attempted murder is accidentally interrupted by a policeman. Pentangeli is left for dead, and his bodyguard, Willi Cicci (Joe Spinell), is struck by a car while shooting at the Rosatos as they drive away.\n",
    "Back in Nevada, Tom Hagen is called to a brothel in Carson City run by Michael's older brother Fredo (John Cazale), where Senator Geary is implicated in the death of a prostitute, and Tom offers to take care of the problem in return for \"friendship\" between the Senator and the Corleone family.\n",
    "Meanwhile, Michael meets Roth in Havana, Cuba, in late 1958, at the time when dictator Fulgencio Batista is soliciting American investment, and communist guerrillas are trying to bring down the government. At a birthday party for Roth, Michael mentions that there is a possibility that the rebels might win, making their business dealings in Cuba problematic. Earlier that day, Michael had witnessed a communist rebel kill a Havana policemen by detonating a grenade that also killed the rebel himself. The comment prompts Roth to remark, privately, that Michael has not delivered the two million dollars to firm their partnership.\n",
    "Fredo, carrying the promised money, arrives in Havana and meets Michael. Michael mentions Hyman Roth and Johnny Ola to him, but Fredo says he has never met them. Michael confides to his brother that it was Roth who tried to kill him, and that he plans to try again. Michael assures Fredo that he has already made his move, and that \"Hyman Roth will never see the New Year.\"\n",
    "Instead of turning over the money to Roth, Michael asks him who gave the order to have Frank Pentangeli killed. Roth avoids the question, instead speaking angrily of the murder of his old friend, Moe Greene, which Michael had orchestrated (as depicted at the end of the first film).\n",
    "Michael has asked Fredo, who knows Havana well, to show Senator Geary and other important officials and businessmen a good time, during which Fredo pretends to not recognize Johnny Ola. Soon after, at a sex show, Fredo comments loudly that Johnny Ola told him about the place, contradicting what he told Michael twice earlier, that he didn't know Roth or Ola. Michael now realizes that the traitor is his own brother, and dispatches his bodyguard to deal with Roth.\n",
    "Johnny Ola is strangled, but Roth, in a delicate state because of his heart condition, is taken to a hospital, where Michael's enforcer is shot trying to kill him. At Batista's New Year's Eve party, at the stroke of midnight, Michael grasps Fredo tightly by the head and kisses him: \"I know it was you Fredo; you broke my heart.\" When guerrillas attack, the guests flee, but Fredo refuses to go with Michael, despite Michael's pleas that Fredo is still his brother and that it's the only way out.\n",
    "Flashback (1917): Don Fanucci of the Black Hand is now aware of the partnership between Vito, Clemenza and Sal Tessio (John Aprea), and wants his share of their profits every week. Clemenza and Tessio agree to pay, but Vito is reluctant and asks his friends to leave everything in his hands so Fanucci will accept less and indeed, Vito manages to get Fanucci to take only one sixth of what he demanded ($100 out of $600). Immediately afterward, during the neighborhood festa, Vito murders Fanucci in the hallway outside his apartment and then rejoins his wife and three children on the stoops outside his tenement. Vito tells the infant Michael that his father loves him very much.\n",
    "In January 1959, Nevada, Michael returns to his snow-covered Lake Tahoe compound after fleeing Cuba, where Tom Hagen tells him that Roth escaped from Cuba after suffering a stroke and is recovering in Miami, that Michael's bodyguard is dead, and that Fredo is probably hiding in New York. Hagen also informs Michael that Kay had a miscarriage while he was away. Michael is distraught at the news and furiously demands to know the sex of the child, but Tom is unable to tell him.\n",
    "Flashback (1920): with Fanucci dead and with no one else to take over the Black Hand, Vito earns the respect of the neighborhood and begins to intercede in local disputes, operating out of the storefront of his Genco Pura Olive Oil Company (named after his friend Genco Abbandando) which he manages as well as give out \"favors\" to others in the community such as a local young woman threatened with eviction. Vito intimidates her landlord into letting her stay for a few extra weeks... rent free.\n",
    "In Washington, D.C. of 1959, a Senate committee, of which Senator Geary is a member, is conducting an investigation into the Corleone family. They question disaffected \"soldier\" Willi Cicci about his role as a button man in the Family, but he cannot implicate Michael, because he never received any direct orders from him. When Michael appears before the committee, Senator Geary makes a big show of supporting Italian-Americans and then excuses himself from the proceedings. During questioning, Michael denies all criminal allegations against him, from the murder of Sollozzo and Captain McCluskey back in 1946 (in the first Godfather movie), and to his business status of operating several gambling casinos in Nevada. Michael makes a statement challenging the committee to produce a witness to corroborate the charges against him. The hearing ends with the Chairman promising a witness who will do exactly that.\n",
    "Frank Pentangeli, who survived the attack by the Rosato Brothers, has made a deal with the FBI, and will testify against Michael. Tom Hagen and Michael discuss the problem, observing that Roth's strategy to destroy Michael is well planned. Michael's brother Fredo has been found and persuaded to return to Nevada, and in a private meeting he explains to Michael his betrayal: upset about being passed over to head the family in favor of Michael, he wants respect and his due. He helped Roth thinking there would be something in it for him, but he swears he didn't know they wanted to kill Michael. He also tells Michael that the Senate Committee's chief counsel is Roth's man. Michael then tells Fredo: \"You're nothing to me now. Not a brother, not a friend, nothing\", and privately instructs soldier and button man Al Neri (Richard Bright) that nothing is to happen to Fredo while their mother is still alive.\n",
    "At the hearing in which Frank Pentangeli is to testify, Michael arrives accompanied by Pentangeli's brother, brought from Sicily, and whose presence causes Frank to recant his previous statements about Michael. When Pentangeli is pressed, he claims that he just told the FBI what they wanted to hear. With no witness to testify against Michael, the committee adjourns, with Hagen, acting as Michael's lawyer, loudly demanding an apology.\n",
    "At a hotel room afterwards, Kay tries to leave Michael, taking their children with her. Michael at first tries to mollify her, but loses his temper and hits her violently when she reveals to him that her recent \"miscarriage\" was actually an abortion to avoid providing another child into Michael's criminal inheritance. She also tells him that the baby was a boy, further infuriating Michael.\n",
    "Flashback (1925): While visiting Sicily for a family vacation for the first time in over 20 years, Vito Corleone is introduced to the elderly 90-year-old Don Ciccio as the man who imports their olive oil to America, and who wants his blessing. When Ciccio asks Vito who his father was, Vito says, \"My father's name is Antonio Andolini, and this is for you!\", cutting the old man's stomach open with a knife, avenging the death of his father, mother, and brother. As they make their escape from Ciccio's compound and his men, Don Tomasello is shot in the leg by one of Ciccio's bodyguards, giving him a permanent limp.\n",
    "In April 1959, Carmella Corleone (Morgana King), Vito's widow and the mother of his children, dies, and the whole Corleone family is reunited for her funeral. Michael still shuns Fredo, who is miserable, but relents when Connie implores him to. Michael and Fredo embrace, but at the same time Michael signals to his capo that Fredo's protection from harm, in effect while their mother lived, has now run out.\n",
    "Michael, Tom Hagen, and Rocco Lampone discuss their final dealings with Hyman Roth, who has been unsuccessfully seeking asylum from various countries, and was even refused entry to Israel as a returned Jew. Michael rejects Hagen's advice that the Corleone family's position is secure, and killing Roth and the Rosato brothers for revenge is an unnecessary risk. Later, Hagen pays a visit to the imprisoned Frank Pentangeli on a military base and suggests that he take his own life, in the manner of unsuccessful ancient Roman conspirators who, in return, were promised that their families would be taken care of after their suicide.\n",
    "With the connivance of Connie, Kay visits her children, but cannot bear to leave them and stays too long. When Michael arrives, he coldly closes the door in her face.\n",
    "The movie reaches its climax in a montage of assassinations and death, reminiscent of the end of Part One:\n",
    "As he arrives at an airport to be taken into custody, Hyman Roth is killed by Rocco Lampone, disguised as a journalist, who himself is immediately shot dead by Roth's bodyguards.\n",
    "On the military base, Frank Pentangeli is found dead, having followed Hagen's instructions and committed suicide in his bathtub.\n",
    "Fredo is murdered by Al Neri while they are fishing on Lake Tahoe - while Fredo is saying a Hail Mary to help catch a fish.\n",
    "The penultimate scene takes place in 1941, and the Corleone family is preparing a surprise birthday party for their father Vito. Sonny (James Caan) introduces Carlo Rizzi (Gianni Russo), Connie's future husband and betrayer of Sonny, to his family. They all talk about the recent attack on Pearl Harbor by the Japanese, and Michael shocks everybody by announcing that he has just enlisted in the United States Marine Corps. Sonny ridicules Michael's choice, and Tom Hagen mentions how his father has great expectations for Michael. Fredo is the only one who supports his brother's decision. Sal Tessio comes in with the cake for the party, and when Vito arrives, all but Michael leave the room to greet him.\n",
    "The final shot in the film is Michael sitting by himself at Lake Tahoe, in silent contemplation.\"\"\")"
   ]
  },
  {
   "cell_type": "markdown",
   "metadata": {},
   "source": [
    "## Monty Python's \"Life of Brian\""
   ]
  },
  {
   "cell_type": "code",
   "execution_count": 2,
   "metadata": {
    "pycharm": {
     "is_executing": false,
     "metadata": false,
     "name": "#%%\n"
    }
   },
   "outputs": [
    {
     "data": {
      "text/plain": [
       "['murder', 'violence', 'revenge']"
      ]
     },
     "execution_count": 2,
     "metadata": {},
     "output_type": "execute_result"
    }
   ],
   "source": [
    "from emotional_flow.tag_generator import get_top_tags\n",
    "get_top_tags(\"\"\"Brian Cohen is born in a stable a few doors down from the one in which Jesus is born, a fact which initially confuses the three wise men who come to praise the baby Jesus, as they must put up with Brian's boorish mother Mandy until they realize their mistake.\n",
    "Brian grows up to be an idealistic young man who resents the continuing Roman occupation of Judea, even after learning his father was a Roman Centurion - Naughtius Maximus. While attending Jesus' Sermon on the Mount, he becomes attracted to a young female rebel, Judith. His desire for Judith and hatred for the Romans lead him to join the People's Front of Judea, one of many factious and bickering separatist movements, who spend more time fighting each other than the Romans.\n",
    "The group's cynical leader Reg gives Brian his first assignment as a rebel: an attempt at scrawling some graffiti (\"Romanes eunt domus\", poorly translated Latin for \"Romans Go Home\") on the wall of the governor's palace. He is soon confronted by a passing Centurion who, in disgust at Brian's faulty Latin grammar, forces him to write out the grammatically correct message (\"Romani ite domum\") one hundred times. The walls of the fortress are literally covered in text by dawn.\n",
    "When the Roman guards change shifts at daybreak, the new guards immediately try to arrest Brian. After a series of misadventures, the fugitive winds up in a motley group of mystics and prophets who harangue the passing crowd in a plaza. Forced to come up with something plausible in order to blend in, he babbles pseudo-religious nonsense which quickly attracts a small but intrigued audience. Once the Roman guards have left, Brian tries to put the episode behind him, but has unintentionally inspired a movement; and a crowd begins to follow him around, with even the slightest unusual occurrence being hailed as a \"miracle.\" After slipping away from the mob (who are busy persecuting a \"heretic\") and spending the night with Judith, he discovers that an enormous crowd proclaiming him the Messiah has formed outside his Mother's house. Appalled, Brian is helpless to change the people's minds, as his every word and action are immediately seized as a point of doctrine.\n",
    "The Romans finally catch the hapless Brian and he is scheduled to be crucified. Pontius Pilate asks the crowd whom he should pardon, but is fed various \"fake\" names intended to highlight his strong lisp, much to the their amusement. Pilate eventually orders Brian's release, but in a moment parodying the climax of the film Spartacus, the various crucified people all claim to be \"Brian of Nazareth\", and the wrong man is released. Abandoned by anyone who might be able to help him, the actual Brian remains hanging in the hot sun, and is told by his fellow sufferers, in song, to \"Always Look on the Bright Side of Life\".\"\"\"\n",
    ")"
   ]
  },
  {
   "cell_type": "markdown",
   "metadata": {},
   "source": [
    "## Barbie Dolphin Magic"
   ]
  },
  {
   "cell_type": "code",
   "execution_count": 4,
   "metadata": {
    "pycharm": {
     "is_executing": false,
     "metadata": false,
     "name": "#%%\n"
    }
   },
   "outputs": [
    {
     "data": {
      "text/plain": [
       "['murder', 'violence', 'revenge']"
      ]
     },
     "execution_count": 4,
     "metadata": {},
     "output_type": "execute_result"
    }
   ],
   "source": [
    "get_top_tags(\"\"\"The film begins with dolphins swimming happily with a mermaid named Isla. Upon noticing a ship, the dolphins and Isla swim away leaving the green dolphin who had no idea who or what was in that ship. He swam to the surface unaware of the fishermen in the boat who haven't seen one like it before. Having in mind about the wealth they will make should they bring it ashore for people to view/buy, they dipped their nets into the sea. One of the dolphins told the green dolphin to swim along with them, but he was too late did he gain that he got caught in the net. Then the fishermen pulled the net up to the surface and continued their journey. The mark on the gemstone dolphin disappeared from his side and so are the other dolphins. Isla came to the surface in time just before the boat went out of sight, looking dejected and downheartened, to see one of the dolphins out of reach. Isla then vowed to find Emerald no matter what (as the name of the outgoing dolphin was revealed when she saw him off) and told the dolphins to stay at a place where they won't be caught. Though they agreed, their sad and sober faces explain their real feelings.\n",
    "A little bit far off ashore, Barbie and her sisters, Skipper, Stacie and Chelsea arrive at a tropical resort with their luggages and their puppies: DJ, Rookie, Honey and Taffy to see and experience another dimension of tropical life.\n",
    "Barbie, with her sister, Skipper, her dogs and her \"friend\" Ken, go on a boat ride to explore the island so that Skipper can enter her blog into a photo contest. She takes a picture of a weird creature, unsure that it is the mermaid, Isla, swimming to find the green dolphin, Emerald.\n",
    "Back at the cabana, Chelsea and Stacie are relaxing due to Stacie's broken leg. She finds a solution to explore the island by scooter. Chelsea follows behind, leaving her beloved floatie in the dust.\n",
    "Unable to get Emerald out of captivity, Isla tries to figure out another way but is scared away by Ken's boat. On the boat, Barbie asks where they are. Ken answers that it is the research facility where he works. On the other side of the research facility, Chelsea and Stacie encounter Emerald, the green dolphin.\n",
    "As Barbie, Ken, Stacie, and the dogs come upon the other two sisters, asking why they are there. Chelsea ignores the question and instead points to the dolphin.\n",
    "Amazed by their discovery, Barbie starts conversation with the dolphin.\"\"\"\n",
    ")"
   ]
  },
  {
   "cell_type": "code",
   "execution_count": null,
   "metadata": {},
   "outputs": [],
   "source": []
  }
 ],
 "metadata": {
  "kernelspec": {
   "display_name": "Python 3",
   "language": "python",
   "name": "python3"
  },
  "language_info": {
   "codemirror_mode": {
    "name": "ipython",
    "version": 3
   },
   "file_extension": ".py",
   "mimetype": "text/x-python",
   "name": "python",
   "nbconvert_exporter": "python",
   "pygments_lexer": "ipython3",
   "version": "3.6.8"
  },
  "stem_cell": {
   "cell_type": "raw",
   "metadata": {
    "pycharm": {
     "metadata": false
    }
   },
   "source": ""
  }
 },
 "nbformat": 4,
 "nbformat_minor": 1
}
