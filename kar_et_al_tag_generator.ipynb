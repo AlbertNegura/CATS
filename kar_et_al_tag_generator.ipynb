{
  "cells": [
    {
      "cell_type": "code",
      "execution_count": 1,
      "outputs": [
        {
          "name": "stderr",
          "text": [
            "C:\\NLP\\emotional_flow\\model.py:84: UserWarning: Implicit dimension choice for softmax has been deprecated. Change the call to include dim\u003dX as an argument.\n  tag_probabilities \u003d self.softmax(tag_probabilities)\n"
          ],
          "output_type": "stream"
        },
        {
          "data": {
            "text/plain": "[\u0027murder\u0027, \u0027violence\u0027, \u0027revenge\u0027]"
          },
          "metadata": {},
          "output_type": "execute_result",
          "execution_count": 1
        }
      ],
      "source": "from emotional_flow.tag_generator import get_top_tags\nget_top_tags(\"The movie starts out with Arthur, King of the Britons, looking for knights to sit with him at Camelot. He finds many knights including Sir Galahad the pure, Sir Lancelot the brave, the quiet Sir Bedevere, and Sir Robin the Not-Quite-So-Brave-as-Sir Lancelot. They do not travel on horses, but pretend they do and have their servants bang coconuts to make the sound of horse\u0027s hooves. Through satire of certain events in history (witch trials, the black plague) they find Camelot, but after literally a quick song and dance they decide that they do not want to go there. While walking away, God (who seems to be grumpy) come to them from a cloud and tells them to find the Holy Grail. They agree and begin their search. While they search for the Grail, scenes of the knight\u0027s tales appear and why they have the name they have. Throughout their search they meet interesting people and knights along the way. Most of the characters die; some through a killer rabbit (which they defeat with the holy hand grenade), others from not answering a question right from the bridge of Death, or die some other ridiculous way. In the end, King Arthur and Sir Bedevere are left and find the Castle Arrrghhh where the Holy Grail is. They are met by some French soldiers who taunted them earlier in the film, so they were not able to get into the castle.\")\nget_top_tags(\"\"\"Brian Cohen is born in a stable a few doors down from the one in which Jesus is born, a fact which initially confuses the three wise men who come to praise the baby Jesus, as they must put up with Brian\u0027s boorish mother Mandy until they realize their mistake.\n\nBrian grows up to be an idealistic young man who resents the continuing Roman occupation of Judea, even after learning his father was a Roman Centurion - Naughtius Maximus. While attending Jesus\u0027 Sermon on the Mount, he becomes attracted to a young female rebel, Judith. His desire for Judith and hatred for the Romans lead him to join the People\u0027s Front of Judea, one of many factious and bickering separatist movements, who spend more time fighting each other than the Romans.\n\nThe group\u0027s cynical leader Reg gives Brian his first assignment as a rebel: an attempt at scrawling some graffiti (\"Romanes eunt domus\", poorly translated Latin for \"Romans Go Home\") on the wall of the governor\u0027s palace. He is soon confronted by a passing Centurion who, in disgust at Brian\u0027s faulty Latin grammar, forces him to write out the grammatically correct message (\"Romani ite domum\") one hundred times. The walls of the fortress are literally covered in text by dawn.\n\nWhen the Roman guards change shifts at daybreak, the new guards immediately try to arrest Brian. After a series of misadventures, the fugitive winds up in a motley group of mystics and prophets who harangue the passing crowd in a plaza. Forced to come up with something plausible in order to blend in, he babbles pseudo-religious nonsense which quickly attracts a small but intrigued audience. Once the Roman guards have left, Brian tries to put the episode behind him, but has unintentionally inspired a movement; and a crowd begins to follow him around, with even the slightest unusual occurrence being hailed as a \"miracle.\" After slipping away from the mob (who are busy persecuting a \"heretic\") and spending the night with Judith, he discovers that an enormous crowd proclaiming him the Messiah has formed outside his Mother\u0027s house. Appalled, Brian is helpless to change the people\u0027s minds, as his every word and action are immediately seized as a point of doctrine.\n\nThe Romans finally catch the hapless Brian and he is scheduled to be crucified. Pontius Pilate asks the crowd whom he should pardon, but is fed various \"fake\" names intended to highlight his strong lisp, much to the their amusement. Pilate eventually orders Brian\u0027s release, but in a moment parodying the climax of the film Spartacus, the various crucified people all claim to be \"Brian of Nazareth\", and the wrong man is released. Abandoned by anyone who might be able to help him, the actual Brian remains hanging in the hot sun, and is told by his fellow sufferers, in song, to \"Always Look on the Bright Side of Life\".\"\"\")\n\n",
      "metadata": {
        "pycharm": {
          "metadata": false,
          "name": "#%%\n",
          "is_executing": false
        }
      }
    },
    {
      "cell_type": "code",
      "execution_count": 4,
      "outputs": [
        {
          "data": {
            "text/plain": "[\u0027murder\u0027, \u0027violence\u0027, \u0027revenge\u0027]"
          },
          "metadata": {},
          "output_type": "execute_result",
          "execution_count": 4
        }
      ],
      "source": "get_top_tags(\"\"\"The film begins with dolphins swimming happily with a mermaid named Isla. Upon noticing a ship, the dolphins and Isla swim away leaving the green dolphin who had no idea who or what was in that ship. He swam to the surface unaware of the fishermen in the boat who haven\u0027t seen one like it before. Having in mind about the wealth they will make should they bring it ashore for people to view/buy, they dipped their nets into the sea. One of the dolphins told the green dolphin to swim along with them, but he was too late did he gain that he got caught in the net. Then the fishermen pulled the net up to the surface and continued their journey. The mark on the gemstone dolphin disappeared from his side and so are the other dolphins. Isla came to the surface in time just before the boat went out of sight, looking dejected and downheartened, to see one of the dolphins out of reach. Isla then vowed to find Emerald no matter what (as the name of the outgoing dolphin was revealed when she saw him off) and told the dolphins to stay at a place where they won\u0027t be caught. Though they agreed, their sad and sober faces explain their real feelings.\n\nA little bit far off ashore, Barbie and her sisters, Skipper, Stacie and Chelsea arrive at a tropical resort with their luggages and their puppies: DJ, Rookie, Honey and Taffy to see and experience another dimension of tropical life.\n\nBarbie, with her sister, Skipper, her dogs and her \"friend\" Ken, go on a boat ride to explore the island so that Skipper can enter her blog into a photo contest. She takes a picture of a weird creature, unsure that it is the mermaid, Isla, swimming to find the green dolphin, Emerald.\n\nBack at the cabana, Chelsea and Stacie are relaxing due to Stacie\u0027s broken leg. She finds a solution to explore the island by scooter. Chelsea follows behind, leaving her beloved floatie in the dust.\n\nUnable to get Emerald out of captivity, Isla tries to figure out another way but is scared away by Ken\u0027s boat. On the boat, Barbie asks where they are. Ken answers that it is the research facility where he works. On the other side of the research facility, Chelsea and Stacie encounter Emerald, the green dolphin.\n\nAs Barbie, Ken, Stacie, and the dogs come upon the other two sisters, asking why they are there. Chelsea ignores the question and instead points to the dolphin.\n\nAmazed by their discovery, Barbie starts conversation with the dolphin.\"\"\"\n)\n",
      "metadata": {
        "pycharm": {
          "metadata": false,
          "name": "#%%\n",
          "is_executing": false
        }
      }
    }
  ],
  "metadata": {
    "language_info": {
      "codemirror_mode": {
        "name": "ipython",
        "version": 2
      },
      "file_extension": ".py",
      "mimetype": "text/x-python",
      "name": "python",
      "nbconvert_exporter": "python",
      "pygments_lexer": "ipython2",
      "version": "2.7.6"
    },
    "kernelspec": {
      "name": "python3",
      "language": "python",
      "display_name": "Python 3"
    },
    "stem_cell": {
      "cell_type": "raw",
      "source": "",
      "metadata": {
        "pycharm": {
          "metadata": false
        }
      }
    }
  },
  "nbformat": 4,
  "nbformat_minor": 0
}